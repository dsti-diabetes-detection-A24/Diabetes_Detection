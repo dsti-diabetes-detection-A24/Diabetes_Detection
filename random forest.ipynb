{
  "cells": [
    {
      "cell_type": "markdown",
      "metadata": {
        "id": "SzzXNtNp03IH"
      },
      "source": [
        "# **Data Understanding**"
      ]
    },
    {
      "cell_type": "markdown",
      "metadata": {
        "id": "cf_zf3Vn1Fyv"
      },
      "source": [
        "### Dataset Description:\n",
        "- **PatientID**: A unique identifier for each patient. It helps differentiate between individuals in the dataset.\n",
        "- **Pregnancies**: Number of times the patient has been pregnant. It may influence the risk of diabetes in women.\n",
        "- **PlasmaGlucose**: Plasma glucose concentration after a glucose tolerance test (mg/dL). Higher levels can indicate diabetes.\n",
        "- **DiastolicBloodPressure**: Diastolic blood pressure (mm Hg). Measures the pressure in blood vessels between heartbeats.\n",
        "- **TricepsThickness**: Skinfold thickness of the triceps (mm), often used to estimate body fat.\n",
        "- **SerumInsulin**: Serum insulin level (μU/mL). High levels may indicate insulin resistance or diabetes.\n",
        "- **BMI**: Body Mass Index (kg/m²), calculated as weight divided by the square of height. It is a measure of body fat.\n",
        "- **DiabetesPedigree**: A score indicating the likelihood of diabetes based on family history. Higher values suggest a stronger genetic predisposition.\n",
        "- **Age**: Age of the patient (years).\n",
        "- **Diabetic**: Target variable (0 = Non-diabetic, 1 = Diabetic). Indicates whether the patient is diagnosed with diabetes.\n"
      ]
    },
    {
      "cell_type": "code",
      "execution_count": 1,
      "metadata": {
        "colab": {
          "base_uri": "https://localhost:8080/",
          "height": 206
        },
        "id": "2CVpT4tt0z3X",
        "outputId": "3624667e-4689-4403-ee1c-0c47ce20d9f0"
      },
      "outputs": [
        {
          "data": {
            "text/html": [
              "<div>\n",
              "<style scoped>\n",
              "    .dataframe tbody tr th:only-of-type {\n",
              "        vertical-align: middle;\n",
              "    }\n",
              "\n",
              "    .dataframe tbody tr th {\n",
              "        vertical-align: top;\n",
              "    }\n",
              "\n",
              "    .dataframe thead th {\n",
              "        text-align: right;\n",
              "    }\n",
              "</style>\n",
              "<table border=\"1\" class=\"dataframe\">\n",
              "  <thead>\n",
              "    <tr style=\"text-align: right;\">\n",
              "      <th></th>\n",
              "      <th>PatientID</th>\n",
              "      <th>Pregnancies</th>\n",
              "      <th>PlasmaGlucose</th>\n",
              "      <th>DiastolicBloodPressure</th>\n",
              "      <th>TricepsThickness</th>\n",
              "      <th>SerumInsulin</th>\n",
              "      <th>BMI</th>\n",
              "      <th>DiabetesPedigree</th>\n",
              "      <th>Age</th>\n",
              "      <th>Diabetic</th>\n",
              "    </tr>\n",
              "  </thead>\n",
              "  <tbody>\n",
              "    <tr>\n",
              "      <th>0</th>\n",
              "      <td>1354778</td>\n",
              "      <td>0</td>\n",
              "      <td>171</td>\n",
              "      <td>80</td>\n",
              "      <td>34</td>\n",
              "      <td>23</td>\n",
              "      <td>43.509726</td>\n",
              "      <td>1.213191</td>\n",
              "      <td>21</td>\n",
              "      <td>0</td>\n",
              "    </tr>\n",
              "    <tr>\n",
              "      <th>1</th>\n",
              "      <td>1147438</td>\n",
              "      <td>8</td>\n",
              "      <td>92</td>\n",
              "      <td>93</td>\n",
              "      <td>47</td>\n",
              "      <td>36</td>\n",
              "      <td>21.240576</td>\n",
              "      <td>0.158365</td>\n",
              "      <td>23</td>\n",
              "      <td>0</td>\n",
              "    </tr>\n",
              "    <tr>\n",
              "      <th>2</th>\n",
              "      <td>1640031</td>\n",
              "      <td>7</td>\n",
              "      <td>115</td>\n",
              "      <td>47</td>\n",
              "      <td>52</td>\n",
              "      <td>35</td>\n",
              "      <td>41.511523</td>\n",
              "      <td>0.079019</td>\n",
              "      <td>23</td>\n",
              "      <td>0</td>\n",
              "    </tr>\n",
              "    <tr>\n",
              "      <th>3</th>\n",
              "      <td>1883350</td>\n",
              "      <td>9</td>\n",
              "      <td>103</td>\n",
              "      <td>78</td>\n",
              "      <td>25</td>\n",
              "      <td>304</td>\n",
              "      <td>29.582192</td>\n",
              "      <td>1.282870</td>\n",
              "      <td>43</td>\n",
              "      <td>1</td>\n",
              "    </tr>\n",
              "    <tr>\n",
              "      <th>4</th>\n",
              "      <td>1424119</td>\n",
              "      <td>1</td>\n",
              "      <td>85</td>\n",
              "      <td>59</td>\n",
              "      <td>27</td>\n",
              "      <td>35</td>\n",
              "      <td>42.604536</td>\n",
              "      <td>0.549542</td>\n",
              "      <td>22</td>\n",
              "      <td>0</td>\n",
              "    </tr>\n",
              "  </tbody>\n",
              "</table>\n",
              "</div>"
            ],
            "text/plain": [
              "   PatientID  Pregnancies  PlasmaGlucose  DiastolicBloodPressure  \\\n",
              "0    1354778            0            171                      80   \n",
              "1    1147438            8             92                      93   \n",
              "2    1640031            7            115                      47   \n",
              "3    1883350            9            103                      78   \n",
              "4    1424119            1             85                      59   \n",
              "\n",
              "   TricepsThickness  SerumInsulin        BMI  DiabetesPedigree  Age  Diabetic  \n",
              "0                34            23  43.509726          1.213191   21         0  \n",
              "1                47            36  21.240576          0.158365   23         0  \n",
              "2                52            35  41.511523          0.079019   23         0  \n",
              "3                25           304  29.582192          1.282870   43         1  \n",
              "4                27            35  42.604536          0.549542   22         0  "
            ]
          },
          "execution_count": 1,
          "metadata": {},
          "output_type": "execute_result"
        }
      ],
      "source": [
        "import pandas as pd\n",
        "\n",
        "# Load the dataset\n",
        "file_path = '../TAIPEI_diabetes.csv'\n",
        "data = pd.read_csv(file_path)\n",
        "\n",
        "# Display the first few rows\n",
        "data.head()\n"
      ]
    },
    {
      "cell_type": "code",
      "execution_count": 2,
      "metadata": {
        "id": "Yh1KkTRGWT-v"
      },
      "outputs": [],
      "source": [
        "df = data.copy()"
      ]
    },
    {
      "cell_type": "markdown",
      "metadata": {
        "id": "h1h6qKBv1Qm3"
      },
      "source": [
        "# **Data Cleaning**"
      ]
    },
    {
      "cell_type": "markdown",
      "metadata": {
        "id": "htBQ3TOl1taw"
      },
      "source": [
        "5. **Verify Data Cleaning**"
      ]
    },
    {
      "cell_type": "code",
      "execution_count": 3,
      "metadata": {
        "colab": {
          "base_uri": "https://localhost:8080/"
        },
        "id": "lYoVK_dC1sgZ",
        "outputId": "727677a9-b213-4f74-ba02-76cf17573eee"
      },
      "outputs": [
        {
          "name": "stdout",
          "output_type": "stream",
          "text": [
            "\n",
            "After Cleaning - Missing Values:\n",
            " PatientID                 0\n",
            "Pregnancies               0\n",
            "PlasmaGlucose             0\n",
            "DiastolicBloodPressure    0\n",
            "TricepsThickness          0\n",
            "SerumInsulin              0\n",
            "BMI                       0\n",
            "DiabetesPedigree          0\n",
            "Age                       0\n",
            "Diabetic                  0\n",
            "dtype: int64\n",
            "\n",
            "After Cleaning - Duplicate rows: 0\n",
            "\n",
            "After Cleaning - Statistical Summary:\n",
            "           PatientID   Pregnancies  PlasmaGlucose  DiastolicBloodPressure  \\\n",
            "count  1.500000e+04  15000.000000   15000.000000            15000.000000   \n",
            "mean   1.502922e+06      3.224533     107.856867               71.220667   \n",
            "std    2.892534e+05      3.391020      31.981975               16.758716   \n",
            "min    1.000038e+06      0.000000      44.000000               24.000000   \n",
            "25%    1.252866e+06      0.000000      84.000000               58.000000   \n",
            "50%    1.505508e+06      2.000000     104.000000               72.000000   \n",
            "75%    1.755205e+06      6.000000     129.000000               85.000000   \n",
            "max    1.999997e+06     14.000000     192.000000              117.000000   \n",
            "\n",
            "       TricepsThickness  SerumInsulin           BMI  DiabetesPedigree  \\\n",
            "count      15000.000000  15000.000000  15000.000000      15000.000000   \n",
            "mean          28.814000    137.852133     31.509646          0.398968   \n",
            "std           14.555716    133.068252      9.759000          0.377944   \n",
            "min            7.000000     14.000000     18.200512          0.078044   \n",
            "25%           15.000000     39.000000     21.259887          0.137743   \n",
            "50%           31.000000     83.000000     31.767940          0.200297   \n",
            "75%           41.000000    195.000000     39.259692          0.616285   \n",
            "max           93.000000    799.000000     56.034628          2.301594   \n",
            "\n",
            "                Age      Diabetic  \n",
            "count  15000.000000  15000.000000  \n",
            "mean      30.137733      0.333333  \n",
            "std       12.089703      0.471420  \n",
            "min       21.000000      0.000000  \n",
            "25%       22.000000      0.000000  \n",
            "50%       24.000000      0.000000  \n",
            "75%       35.000000      1.000000  \n",
            "max       77.000000      1.000000  \n"
          ]
        }
      ],
      "source": [
        "# Check for missing values again\n",
        "print(\"\\nAfter Cleaning - Missing Values:\\n\", data.isnull().sum())\n",
        "\n",
        "# Check for duplicates again\n",
        "print(f\"\\nAfter Cleaning - Duplicate rows: {data.duplicated().sum()}\")\n",
        "\n",
        "# Check statistical summary again\n",
        "print(\"\\nAfter Cleaning - Statistical Summary:\\n\", data.describe())\n"
      ]
    },
    {
      "cell_type": "markdown",
      "metadata": {
        "id": "cpyWVMshfXfy"
      },
      "source": [
        "# **Random Forest**"
      ]
    },
    {
      "cell_type": "code",
      "execution_count": 5,
      "metadata": {
        "id": "Vjl7IxHd8pFg"
      },
      "outputs": [],
      "source": [
        "X = df.drop(columns=['Diabetic'])\n",
        "y = df['Diabetic'] # target\n",
        "\n",
        "# training (80%) and testing (20%) sets\n",
        "X_train, X_test, y_train, y_test = train_test_split(X, y, test_size=0.2, random_state=42)"
      ]
    },
    {
      "cell_type": "code",
      "execution_count": 7,
      "metadata": {
        "colab": {
          "base_uri": "https://localhost:8080/",
          "height": 738
        },
        "id": "m4_-rQJ6XZxh",
        "outputId": "0cfabafa-d85d-4e9e-d053-e701de9f952c"
      },
      "outputs": [
        {
          "name": "stdout",
          "output_type": "stream",
          "text": [
            "                  Feature  Importance\n",
            "1             Pregnancies    0.346292\n",
            "6                     BMI    0.158606\n",
            "8                     Age    0.153356\n",
            "5            SerumInsulin    0.110776\n",
            "2           PlasmaGlucose    0.081904\n",
            "4        TricepsThickness    0.044966\n",
            "3  DiastolicBloodPressure    0.037503\n",
            "7        DiabetesPedigree    0.036351\n",
            "0               PatientID    0.030247\n"
          ]
        },
        {
          "data": {
            "image/png": "[encoded data removed]",
            "text/plain": [
              "<Figure size 1000x600 with 1 Axes>"
            ]
          },
          "metadata": {},
          "output_type": "display_data"
        }
      ],
      "source": [
        "import pandas as pd\n",
        "import numpy as np\n",
        "from sklearn.ensemble import RandomForestClassifier\n",
        "from sklearn.model_selection import train_test_split\n",
        "from sklearn.preprocessing import StandardScaler\n",
        "import matplotlib.pyplot as plt\n",
        "import pickle\n",
        "\n",
        "TARGET_COLUMN = 'Diabetic'\n",
        "\n",
        "# Split features and target\n",
        "X = df.drop(columns=[TARGET_COLUMN])\n",
        "y = df[TARGET_COLUMN]\n",
        "\n",
        "X_train, X_test, y_train, y_test = train_test_split(X, y, test_size=0.3, random_state=42)\n",
        "\n",
        "# Standardize\n",
        "scaler = StandardScaler()\n",
        "X_train_scaled = scaler.fit_transform(X_train)\n",
        "X_test_scaled = scaler.transform(X_test)\n",
        "\n",
        "# Train Random Forest Classifier\n",
        "clf = RandomForestClassifier(random_state=42, n_estimators=100)\n",
        "clf.fit(X_train_scaled, y_train)\n",
        "\n",
        "# Feature importance\n",
        "feature_importances = clf.feature_importances_\n",
        "feature_names = X.columns\n",
        "\n",
        "importance_df = pd.DataFrame({\n",
        "    'Feature': feature_names,\n",
        "    'Importance': feature_importances\n",
        "}).sort_values(by='Importance', ascending=False)\n",
        "\n",
        "# Display the top features\n",
        "print(importance_df)\n",
        "\n",
        "# Plot feature importances\n",
        "plt.figure(figsize=(10, 6))\n",
        "plt.barh(importance_df['Feature'], importance_df['Importance'], color='skyblue')\n",
        "plt.xlabel('Importance')\n",
        "plt.ylabel('Feature')\n",
        "plt.title('Feature Importance from Random Forest')\n",
        "plt.gca().invert_yaxis()  # Most important feature at the top\n",
        "plt.show()\n"
      ]
    },
    {
      "cell_type": "markdown",
      "metadata": {
        "id": "PffI7Sdtf5Sr"
      },
      "source": [
        "## **Model training**\n",
        "\n",
        "**using k-fold cross validation**\n",
        "\n",
        "**cross_val_score:** This function performs cross-validation by splitting the dataset into k folds. In this case, cv=10 specifies 10-fold cross-validation.\n",
        "\n",
        "**scoring='accuracy':** This sets the metric used for evaluating the model's performance. You can change it to other metrics like precision, recall, or f1 if needed.\n",
        "\n",
        "**cv_scores.mean():** This will give you the average accuracy across all folds.\n",
        "\n",
        "**cv_scores.std():** This will provide the standard deviation of the accuracy across all folds, which gives an idea of how stable the model's performance is across different splits."
      ]
    },
    {
      "cell_type": "code",
      "execution_count": 8,
      "metadata": {
        "colab": {
          "base_uri": "https://localhost:8080/"
        },
        "id": "d0nzgRFVZ8tD",
        "outputId": "d94d0faa-8b0d-468a-f725-a833d53424a2"
      },
      "outputs": [
        {
          "name": "stdout",
          "output_type": "stream",
          "text": [
            "Model training complete.\n",
            "\n",
            "Test Set Evaluation:\n",
            "Accuracy: 0.9329\n",
            "\n",
            "Classification Report:\n",
            "              precision    recall  f1-score   support\n",
            "\n",
            "           0       0.94      0.96      0.95      3005\n",
            "           1       0.91      0.88      0.90      1495\n",
            "\n",
            "    accuracy                           0.93      4500\n",
            "   macro avg       0.93      0.92      0.92      4500\n",
            "weighted avg       0.93      0.93      0.93      4500\n",
            "\n"
          ]
        }
      ],
      "source": [
        "from sklearn.ensemble import RandomForestClassifier\n",
        "from sklearn.model_selection import train_test_split\n",
        "from sklearn.metrics import accuracy_score, classification_report\n",
        "\n",
        "features_to_keep = [\n",
        "    'Pregnancies', 'BMI',\n",
        "    'SerumInsulin', 'Age', 'DiastolicBloodPressure',\n",
        "    'PlasmaGlucose', 'TricepsThickness', 'DiabetesPedigree'\n",
        "]\n",
        "\n",
        "X_train = X_train[features_to_keep]\n",
        "X_test = X_test[features_to_keep]\n",
        "\n",
        "rf_model = RandomForestClassifier(\n",
        "    n_estimators=200,\n",
        "    max_depth=None,\n",
        "    min_samples_split=2,\n",
        "    min_samples_leaf=5,\n",
        "    max_features='sqrt',\n",
        "    bootstrap=False,\n",
        "    random_state=42\n",
        ")\n",
        "\n",
        "rf_model.fit(X_train, y_train)\n",
        "print(\"Model training complete.\")\n",
        "\n",
        "\n",
        "# Evaluate the model on the test set\n",
        "y_pred = rf_model.predict(X_test)\n",
        "\n",
        "print(\"\\nTest Set Evaluation:\")\n",
        "print(f\"Accuracy: {accuracy_score(y_test, y_pred):.4f}\")\n",
        "print(\"\\nClassification Report:\")\n",
        "print(classification_report(y_test, y_pred))"
      ]
    },
    {
      "cell_type": "code",
      "execution_count": 10,
      "metadata": {},
      "outputs": [],
      "source": [
        "# Saving the model\n",
        "with open(\"random_forest.pkl\", \"wb\") as file:\n",
        "    pickle.dump(rf_model,file)"
      ]
    },
    {
      "cell_type": "code",
      "execution_count": 11,
      "metadata": {},
      "outputs": [],
      "source": [
        "# Saving the scaler\n",
        "with open(\"rf_scaler.pkl\", \"wb\") as file:\n",
        "    pickle.dump(scaler, file)"
      ]
    }
  ],
  "metadata": {
    "colab": {
      "provenance": []
    },
    "kernelspec": {
      "display_name": "myenv",
      "language": "python",
      "name": "python3"
    },
    "language_info": {
      "codemirror_mode": {
        "name": "ipython",
        "version": 3
      },
      "file_extension": ".py",
      "mimetype": "text/x-python",
      "name": "python",
      "nbconvert_exporter": "python",
      "pygments_lexer": "ipython3",
      "version": "3.12.7"
    }
  },
  "nbformat": 4,
  "nbformat_minor": 0
}
