{
  "cells": [
    {
      "cell_type": "markdown",
      "metadata": {
        "id": "SzzXNtNp03IH"
      },
      "source": [
        "# **Data Understanding**"
      ]
    },
    {
      "cell_type": "markdown",
      "metadata": {
        "id": "cf_zf3Vn1Fyv"
      },
      "source": [
        "### Dataset Description:\n",
        "- **PatientID**: A unique identifier for each patient. It helps differentiate between individuals in the dataset.\n",
        "- **Pregnancies**: Number of times the patient has been pregnant. It may influence the risk of diabetes in women.\n",
        "- **PlasmaGlucose**: Plasma glucose concentration after a glucose tolerance test (mg/dL). Higher levels can indicate diabetes.\n",
        "- **DiastolicBloodPressure**: Diastolic blood pressure (mm Hg). Measures the pressure in blood vessels between heartbeats.\n",
        "- **TricepsThickness**: Skinfold thickness of the triceps (mm), often used to estimate body fat.\n",
        "- **SerumInsulin**: Serum insulin level (μU/mL). High levels may indicate insulin resistance or diabetes.\n",
        "- **BMI**: Body Mass Index (kg/m²), calculated as weight divided by the square of height. It is a measure of body fat.\n",
        "- **DiabetesPedigree**: A score indicating the likelihood of diabetes based on family history. Higher values suggest a stronger genetic predisposition.\n",
        "- **Age**: Age of the patient (years).\n",
        "- **Diabetic**: Target variable (0 = Non-diabetic, 1 = Diabetic). Indicates whether the patient is diagnosed with diabetes.\n"
      ]
    },
    {
      "cell_type": "code",
      "execution_count": 1,
      "metadata": {
        "colab": {
          "base_uri": "https://localhost:8080/",
          "height": 206
        },
        "id": "2CVpT4tt0z3X",
        "outputId": "3624667e-4689-4403-ee1c-0c47ce20d9f0"
      },
      "outputs": [
        {
          "data": {
            "text/html": [
              "<div>\n",
              "<style scoped>\n",
              "    .dataframe tbody tr th:only-of-type {\n",
              "        vertical-align: middle;\n",
              "    }\n",
              "\n",
              "    .dataframe tbody tr th {\n",
              "        vertical-align: top;\n",
              "    }\n",
              "\n",
              "    .dataframe thead th {\n",
              "        text-align: right;\n",
              "    }\n",
              "</style>\n",
              "<table border=\"1\" class=\"dataframe\">\n",
              "  <thead>\n",
              "    <tr style=\"text-align: right;\">\n",
              "      <th></th>\n",
              "      <th>Pregnancies</th>\n",
              "      <th>PlasmaGlucose</th>\n",
              "      <th>DiastolicBloodPressure</th>\n",
              "      <th>TricepsThickness</th>\n",
              "      <th>SerumInsulin</th>\n",
              "      <th>BMI</th>\n",
              "      <th>DiabetesPedigree</th>\n",
              "      <th>Age</th>\n",
              "      <th>Diabetic</th>\n",
              "      <th>BMI_Age_Ratio</th>\n",
              "      <th>ISI</th>\n",
              "      <th>BP_Age_Ratio</th>\n",
              "      <th>HighRiskPregnancy</th>\n",
              "      <th>Glucose_Insulin</th>\n",
              "      <th>Pregnancies_Age_Ratio</th>\n",
              "      <th>Metabolic_Risk</th>\n",
              "      <th>Pedigree_Glucose</th>\n",
              "      <th>Fat_Index</th>\n",
              "      <th>PatientID</th>\n",
              "    </tr>\n",
              "  </thead>\n",
              "  <tbody>\n",
              "    <tr>\n",
              "      <th>0</th>\n",
              "      <td>0</td>\n",
              "      <td>158</td>\n",
              "      <td>80</td>\n",
              "      <td>34</td>\n",
              "      <td>23</td>\n",
              "      <td>43.509726</td>\n",
              "      <td>0.981927</td>\n",
              "      <td>21</td>\n",
              "      <td>0</td>\n",
              "      <td>2.071892</td>\n",
              "      <td>2.751789</td>\n",
              "      <td>3.809524</td>\n",
              "      <td>0.000000</td>\n",
              "      <td>3634</td>\n",
              "      <td>0.000000</td>\n",
              "      <td>93.836575</td>\n",
              "      <td>155.144416</td>\n",
              "      <td>38.754863</td>\n",
              "      <td>1</td>\n",
              "    </tr>\n",
              "    <tr>\n",
              "      <th>1</th>\n",
              "      <td>7</td>\n",
              "      <td>103</td>\n",
              "      <td>78</td>\n",
              "      <td>25</td>\n",
              "      <td>269</td>\n",
              "      <td>29.582192</td>\n",
              "      <td>0.981927</td>\n",
              "      <td>43</td>\n",
              "      <td>1</td>\n",
              "      <td>0.687958</td>\n",
              "      <td>0.360920</td>\n",
              "      <td>1.813953</td>\n",
              "      <td>4.815706</td>\n",
              "      <td>27707</td>\n",
              "      <td>0.162791</td>\n",
              "      <td>70.194064</td>\n",
              "      <td>101.138448</td>\n",
              "      <td>27.291096</td>\n",
              "      <td>2</td>\n",
              "    </tr>\n",
              "    <tr>\n",
              "      <th>2</th>\n",
              "      <td>1</td>\n",
              "      <td>85</td>\n",
              "      <td>59</td>\n",
              "      <td>27</td>\n",
              "      <td>35</td>\n",
              "      <td>42.604536</td>\n",
              "      <td>0.549542</td>\n",
              "      <td>22</td>\n",
              "      <td>0</td>\n",
              "      <td>1.936570</td>\n",
              "      <td>3.361345</td>\n",
              "      <td>2.681818</td>\n",
              "      <td>1.936570</td>\n",
              "      <td>2975</td>\n",
              "      <td>0.045455</td>\n",
              "      <td>62.201512</td>\n",
              "      <td>46.711059</td>\n",
              "      <td>34.802268</td>\n",
              "      <td>3</td>\n",
              "    </tr>\n",
              "    <tr>\n",
              "      <th>3</th>\n",
              "      <td>0</td>\n",
              "      <td>82</td>\n",
              "      <td>92</td>\n",
              "      <td>9</td>\n",
              "      <td>253</td>\n",
              "      <td>19.724160</td>\n",
              "      <td>0.103424</td>\n",
              "      <td>26</td>\n",
              "      <td>0</td>\n",
              "      <td>0.758622</td>\n",
              "      <td>0.482021</td>\n",
              "      <td>3.538462</td>\n",
              "      <td>0.000000</td>\n",
              "      <td>20746</td>\n",
              "      <td>0.000000</td>\n",
              "      <td>64.574720</td>\n",
              "      <td>8.480809</td>\n",
              "      <td>14.362080</td>\n",
              "      <td>4</td>\n",
              "    </tr>\n",
              "    <tr>\n",
              "      <th>4</th>\n",
              "      <td>0</td>\n",
              "      <td>133</td>\n",
              "      <td>49</td>\n",
              "      <td>19</td>\n",
              "      <td>227</td>\n",
              "      <td>21.941357</td>\n",
              "      <td>0.174160</td>\n",
              "      <td>21</td>\n",
              "      <td>0</td>\n",
              "      <td>1.044827</td>\n",
              "      <td>0.331225</td>\n",
              "      <td>2.333333</td>\n",
              "      <td>0.000000</td>\n",
              "      <td>30191</td>\n",
              "      <td>0.000000</td>\n",
              "      <td>67.980452</td>\n",
              "      <td>23.163251</td>\n",
              "      <td>20.470678</td>\n",
              "      <td>5</td>\n",
              "    </tr>\n",
              "  </tbody>\n",
              "</table>\n",
              "</div>"
            ],
            "text/plain": [
              "   Pregnancies  PlasmaGlucose  DiastolicBloodPressure  TricepsThickness  \\\n",
              "0            0            158                      80                34   \n",
              "1            7            103                      78                25   \n",
              "2            1             85                      59                27   \n",
              "3            0             82                      92                 9   \n",
              "4            0            133                      49                19   \n",
              "\n",
              "   SerumInsulin        BMI  DiabetesPedigree  Age  Diabetic  BMI_Age_Ratio  \\\n",
              "0            23  43.509726          0.981927   21         0       2.071892   \n",
              "1           269  29.582192          0.981927   43         1       0.687958   \n",
              "2            35  42.604536          0.549542   22         0       1.936570   \n",
              "3           253  19.724160          0.103424   26         0       0.758622   \n",
              "4           227  21.941357          0.174160   21         0       1.044827   \n",
              "\n",
              "        ISI  BP_Age_Ratio  HighRiskPregnancy  Glucose_Insulin  \\\n",
              "0  2.751789      3.809524           0.000000             3634   \n",
              "1  0.360920      1.813953           4.815706            27707   \n",
              "2  3.361345      2.681818           1.936570             2975   \n",
              "3  0.482021      3.538462           0.000000            20746   \n",
              "4  0.331225      2.333333           0.000000            30191   \n",
              "\n",
              "   Pregnancies_Age_Ratio  Metabolic_Risk  Pedigree_Glucose  Fat_Index  \\\n",
              "0               0.000000       93.836575        155.144416  38.754863   \n",
              "1               0.162791       70.194064        101.138448  27.291096   \n",
              "2               0.045455       62.201512         46.711059  34.802268   \n",
              "3               0.000000       64.574720          8.480809  14.362080   \n",
              "4               0.000000       67.980452         23.163251  20.470678   \n",
              "\n",
              "   PatientID  \n",
              "0          1  \n",
              "1          2  \n",
              "2          3  \n",
              "3          4  \n",
              "4          5  "
            ]
          },
          "execution_count": 1,
          "metadata": {},
          "output_type": "execute_result"
        }
      ],
      "source": [
        "import pandas as pd\n",
        "\n",
        "# Load the dataset\n",
        "file_path = \"../datasets/Processed_data.csv\"\n",
        "data = pd.read_csv(file_path)\n",
        "\n",
        "# Display the first few rows\n",
        "data.head()\n"
      ]
    },
    {
      "cell_type": "code",
      "execution_count": 2,
      "metadata": {
        "id": "Yh1KkTRGWT-v"
      },
      "outputs": [],
      "source": [
        "df = data.copy()"
      ]
    },
    {
      "cell_type": "markdown",
      "metadata": {
        "id": "h1h6qKBv1Qm3"
      },
      "source": [
        "# **Data Cleaning**"
      ]
    },
    {
      "cell_type": "markdown",
      "metadata": {
        "id": "htBQ3TOl1taw"
      },
      "source": [
        "5. **Verify Data Cleaning**"
      ]
    },
    {
      "cell_type": "code",
      "execution_count": 3,
      "metadata": {
        "colab": {
          "base_uri": "https://localhost:8080/"
        },
        "id": "lYoVK_dC1sgZ",
        "outputId": "727677a9-b213-4f74-ba02-76cf17573eee"
      },
      "outputs": [
        {
          "name": "stdout",
          "output_type": "stream",
          "text": [
            "\n",
            "After Cleaning - Missing Values:\n",
            " Pregnancies               0\n",
            "PlasmaGlucose             0\n",
            "DiastolicBloodPressure    0\n",
            "TricepsThickness          0\n",
            "SerumInsulin              0\n",
            "BMI                       0\n",
            "DiabetesPedigree          0\n",
            "Age                       0\n",
            "Diabetic                  0\n",
            "BMI_Age_Ratio             0\n",
            "ISI                       0\n",
            "BP_Age_Ratio              0\n",
            "HighRiskPregnancy         0\n",
            "Glucose_Insulin           0\n",
            "Pregnancies_Age_Ratio     0\n",
            "Metabolic_Risk            0\n",
            "Pedigree_Glucose          0\n",
            "Fat_Index                 0\n",
            "PatientID                 0\n",
            "dtype: int64\n",
            "\n",
            "After Cleaning - Duplicate rows: 0\n",
            "\n",
            "After Cleaning - Statistical Summary:\n",
            "         Pregnancies  PlasmaGlucose  DiastolicBloodPressure  TricepsThickness  \\\n",
            "count  15298.000000   15298.000000            15298.000000      15298.000000   \n",
            "mean       2.443718     108.792457               72.036606         28.771081   \n",
            "std        2.274720      27.885924               14.347187         13.246523   \n",
            "min        0.000000      67.000000               49.000000          9.000000   \n",
            "25%        0.000000      87.000000               60.000000         15.000000   \n",
            "50%        2.000000     106.000000               73.000000         30.000000   \n",
            "75%        4.000000     129.000000               85.000000         42.000000   \n",
            "max        7.000000     158.000000               93.000000         47.000000   \n",
            "\n",
            "       SerumInsulin           BMI  DiabetesPedigree           Age  \\\n",
            "count  15298.000000  15298.000000      15298.000000  15298.000000   \n",
            "mean     120.360178     31.887271          0.396151     30.621585   \n",
            "std       85.643741      8.754130          0.297637     10.087058   \n",
            "min       21.000000     19.343565          0.098466     21.000000   \n",
            "25%       43.000000     21.894402          0.149392     22.000000   \n",
            "50%       86.000000     32.251314          0.247461     25.000000   \n",
            "75%      191.000000     39.134250          0.650217     41.000000   \n",
            "max      269.000000     45.411123          0.981927     54.000000   \n",
            "\n",
            "           Diabetic  BMI_Age_Ratio           ISI  BP_Age_Ratio  \\\n",
            "count  15298.000000   15298.000000  15298.000000  15298.000000   \n",
            "mean       0.500000       1.139577      1.599913      2.583326   \n",
            "std        0.500016       0.453774      1.479785      0.899752   \n",
            "min        0.000000       0.358214      0.235283      0.907407   \n",
            "25%        0.000000       0.799881      0.499750      1.857143   \n",
            "50%        0.500000       0.983499      1.037560      2.428571   \n",
            "75%        1.000000       1.520597      2.249719      3.360000   \n",
            "max        1.000000       2.162434      7.107321      4.428571   \n",
            "\n",
            "       HighRiskPregnancy  Glucose_Insulin  Pregnancies_Age_Ratio  \\\n",
            "count       15298.000000     15298.000000           15298.000000   \n",
            "mean            2.529406     13203.008171               0.077217   \n",
            "std             2.425488     10370.597443               0.069670   \n",
            "min             0.000000      1407.000000               0.000000   \n",
            "25%             0.000000      4445.000000               0.000000   \n",
            "50%             1.911831      9638.000000               0.056604   \n",
            "75%             4.119076     20010.000000               0.133333   \n",
            "max            12.226072     42502.000000               0.269231   \n",
            "\n",
            "       Metabolic_Risk  Pedigree_Glucose     Fat_Index     PatientID  \n",
            "count    15298.000000      15298.000000  15298.000000  15298.000000  \n",
            "mean        70.905445         43.258995     30.329176   7649.500000  \n",
            "std         10.980370         35.337118      7.992887   4416.296544  \n",
            "min         45.114522          6.597237     14.171782      1.000000  \n",
            "25%         63.082988         15.382451     24.814640   3825.250000  \n",
            "50%         70.546707         26.864730     30.400783   7649.500000  \n",
            "75%         78.511799         66.357122     36.486437  11473.750000  \n",
            "max         98.803708        155.144416     46.205561  15298.000000  \n"
          ]
        }
      ],
      "source": [
        "# Check for missing values again\n",
        "print(\"\\nAfter Cleaning - Missing Values:\\n\", data.isnull().sum())\n",
        "\n",
        "# Check for duplicates again\n",
        "print(f\"\\nAfter Cleaning - Duplicate rows: {data.duplicated().sum()}\")\n",
        "\n",
        "# Check statistical summary again\n",
        "print(\"\\nAfter Cleaning - Statistical Summary:\\n\", data.describe())\n"
      ]
    },
    {
      "cell_type": "markdown",
      "metadata": {
        "id": "cpyWVMshfXfy"
      },
      "source": [
        "# **Random Forest**"
      ]
    },
    {
      "cell_type": "code",
      "execution_count": 4,
      "metadata": {
        "id": "Vjl7IxHd8pFg"
      },
      "outputs": [],
      "source": [
        "from sklearn.model_selection import train_test_split\n",
        "X = df.drop(columns=['Diabetic'])\n",
        "y = df['Diabetic'] # target\n",
        "\n",
        "# training (80%) and testing (20%) sets\n",
        "X_train, X_test, y_train, y_test = train_test_split(X, y, test_size=0.2, random_state=42)"
      ]
    },
    {
      "cell_type": "code",
      "execution_count": 5,
      "metadata": {
        "colab": {
          "base_uri": "https://localhost:8080/",
          "height": 738
        },
        "id": "m4_-rQJ6XZxh",
        "outputId": "0cfabafa-d85d-4e9e-d053-e701de9f952c"
      },
      "outputs": [
        {
          "name": "stdout",
          "output_type": "stream",
          "text": [
            "                   Feature  Importance\n",
            "0              Pregnancies    0.223038\n",
            "17               PatientID    0.172313\n",
            "11       HighRiskPregnancy    0.131221\n",
            "13   Pregnancies_Age_Ratio    0.122421\n",
            "5                      BMI    0.074769\n",
            "7                      Age    0.067757\n",
            "4             SerumInsulin    0.038419\n",
            "8            BMI_Age_Ratio    0.027638\n",
            "9                      ISI    0.021673\n",
            "12         Glucose_Insulin    0.018933\n",
            "1            PlasmaGlucose    0.016808\n",
            "10            BP_Age_Ratio    0.016284\n",
            "16               Fat_Index    0.013957\n",
            "3         TricepsThickness    0.013422\n",
            "14          Metabolic_Risk    0.012236\n",
            "2   DiastolicBloodPressure    0.009770\n",
            "15        Pedigree_Glucose    0.009714\n",
            "6         DiabetesPedigree    0.009628\n"
          ]
        },
        {
          "data": {
            "image/png": "[encoded data removed]",
            "text/plain": [
              "<Figure size 1000x600 with 1 Axes>"
            ]
          },
          "metadata": {},
          "output_type": "display_data"
        }
      ],
      "source": [
        "import pandas as pd\n",
        "import numpy as np\n",
        "from sklearn.ensemble import RandomForestClassifier\n",
        "from sklearn.model_selection import train_test_split\n",
        "from sklearn.preprocessing import StandardScaler\n",
        "import matplotlib.pyplot as plt\n",
        "import pickle\n",
        "\n",
        "TARGET_COLUMN = 'Diabetic'\n",
        "\n",
        "# Split features and target\n",
        "X = df.drop(columns=[TARGET_COLUMN])\n",
        "y = df[TARGET_COLUMN]\n",
        "\n",
        "X_train, X_test, y_train, y_test = train_test_split(X, y, test_size=0.3, random_state=42)\n",
        "\n",
        "# Standardize\n",
        "scaler = StandardScaler()\n",
        "X_train_scaled = scaler.fit_transform(X_train)\n",
        "X_test_scaled = scaler.transform(X_test)\n",
        "\n",
        "# Train Random Forest Classifier\n",
        "clf = RandomForestClassifier(random_state=42, n_estimators=100)\n",
        "clf.fit(X_train_scaled, y_train)\n",
        "\n",
        "# Feature importance\n",
        "feature_importances = clf.feature_importances_\n",
        "feature_names = X.columns\n",
        "\n",
        "importance_df = pd.DataFrame({\n",
        "    'Feature': feature_names,\n",
        "    'Importance': feature_importances\n",
        "}).sort_values(by='Importance', ascending=False)\n",
        "\n",
        "# Display the top features\n",
        "print(importance_df)\n",
        "\n",
        "# Plot feature importances\n",
        "plt.figure(figsize=(10, 6))\n",
        "plt.barh(importance_df['Feature'], importance_df['Importance'], color='skyblue')\n",
        "plt.xlabel('Importance')\n",
        "plt.ylabel('Feature')\n",
        "plt.title('Feature Importance from Random Forest')\n",
        "plt.gca().invert_yaxis()  # Most important feature at the top\n",
        "plt.show()\n"
      ]
    },
    {
      "cell_type": "markdown",
      "metadata": {
        "id": "PffI7Sdtf5Sr"
      },
      "source": [
        "## **Model training**\n",
        "\n",
        "**using k-fold cross validation**\n",
        "\n",
        "**cross_val_score:** This function performs cross-validation by splitting the dataset into k folds. In this case, cv=10 specifies 10-fold cross-validation.\n",
        "\n",
        "**scoring='accuracy':** This sets the metric used for evaluating the model's performance. You can change it to other metrics like precision, recall, or f1 if needed.\n",
        "\n",
        "**cv_scores.mean():** This will give you the average accuracy across all folds.\n",
        "\n",
        "**cv_scores.std():** This will provide the standard deviation of the accuracy across all folds, which gives an idea of how stable the model's performance is across different splits."
      ]
    },
    {
      "cell_type": "code",
      "execution_count": 6,
      "metadata": {
        "colab": {
          "base_uri": "https://localhost:8080/"
        },
        "id": "d0nzgRFVZ8tD",
        "outputId": "d94d0faa-8b0d-468a-f725-a833d53424a2"
      },
      "outputs": [
        {
          "name": "stdout",
          "output_type": "stream",
          "text": [
            "Model training complete.\n",
            "\n",
            "Test Set Evaluation:\n",
            "Accuracy: 0.9564\n",
            "\n",
            "Classification Report:\n",
            "              precision    recall  f1-score   support\n",
            "\n",
            "           0       0.96      0.95      0.96      2295\n",
            "           1       0.95      0.96      0.96      2295\n",
            "\n",
            "    accuracy                           0.96      4590\n",
            "   macro avg       0.96      0.96      0.96      4590\n",
            "weighted avg       0.96      0.96      0.96      4590\n",
            "\n"
          ]
        }
      ],
      "source": [
        "from sklearn.ensemble import RandomForestClassifier\n",
        "from sklearn.model_selection import train_test_split\n",
        "from sklearn.metrics import accuracy_score, classification_report\n",
        "\n",
        "features_to_keep = [\n",
        "    'Pregnancies', 'BMI',\n",
        "    'SerumInsulin', 'Age', 'DiastolicBloodPressure',\n",
        "    'PlasmaGlucose', 'TricepsThickness', 'DiabetesPedigree'\n",
        "]\n",
        "\n",
        "X_train = X_train[features_to_keep]\n",
        "X_test = X_test[features_to_keep]\n",
        "\n",
        "rf_model = RandomForestClassifier(\n",
        "    n_estimators=200,\n",
        "    max_depth=None,\n",
        "    min_samples_split=2,\n",
        "    min_samples_leaf=5,\n",
        "    max_features='sqrt',\n",
        "    bootstrap=False,\n",
        "    random_state=42\n",
        ")\n",
        "\n",
        "rf_model.fit(X_train, y_train)\n",
        "print(\"Model training complete.\")\n",
        "\n",
        "\n",
        "# Evaluate the model on the test set\n",
        "y_pred = rf_model.predict(X_test)\n",
        "\n",
        "print(\"\\nTest Set Evaluation:\")\n",
        "print(f\"Accuracy: {accuracy_score(y_test, y_pred):.4f}\")\n",
        "print(\"\\nClassification Report:\")\n",
        "print(classification_report(y_test, y_pred))"
      ]
    },
    {
      "cell_type": "code",
      "execution_count": 7,
      "metadata": {},
      "outputs": [],
      "source": [
        "# Saving the model\n",
        "with open(\"../models/random_forest.pkl\", \"wb\") as file:\n",
        "    pickle.dump(rf_model,file)"
      ]
    },
    {
      "cell_type": "code",
      "execution_count": 8,
      "metadata": {},
      "outputs": [],
      "source": [
        "# Saving the scaler\n",
        "with open(\"../models/rf_scaler.pkl\", \"wb\") as file:\n",
        "    pickle.dump(scaler, file)"
      ]
    }
  ],
  "metadata": {
    "colab": {
      "provenance": []
    },
    "kernelspec": {
      "display_name": "ml-project",
      "language": "python",
      "name": "python3"
    },
    "language_info": {
      "codemirror_mode": {
        "name": "ipython",
        "version": 3
      },
      "file_extension": ".py",
      "mimetype": "text/x-python",
      "name": "python",
      "nbconvert_exporter": "python",
      "pygments_lexer": "ipython3",
      "version": "3.12.9"
    }
  },
  "nbformat": 4,
  "nbformat_minor": 0
}
