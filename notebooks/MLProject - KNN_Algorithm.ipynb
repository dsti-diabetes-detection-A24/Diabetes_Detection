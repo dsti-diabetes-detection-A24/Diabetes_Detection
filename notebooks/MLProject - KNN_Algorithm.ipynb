{
 "cells": [
  {
   "cell_type": "markdown",
   "metadata": {
    "id": "zVVfdsB0T0v6"
   },
   "source": [
    "# K-Nearest Neighbor Model for Diabetes Prediction"
   ]
  },
  {
   "cell_type": "code",
   "execution_count": 1,
   "metadata": {
    "execution": {
     "iopub.execute_input": "2025-03-28T11:55:56.228606Z",
     "iopub.status.busy": "2025-03-28T11:55:56.228463Z",
     "iopub.status.idle": "2025-03-28T11:55:57.022748Z",
     "shell.execute_reply": "2025-03-28T11:55:57.021998Z"
    },
    "id": "eHaEAX1MT0v8"
   },
   "outputs": [],
   "source": [
    "import numpy as np\n",
    "import pandas as pd\n",
    "import matplotlib.pyplot as plt\n",
    "import seaborn as sns\n",
    "import pickle"
   ]
  },
  {
   "cell_type": "markdown",
   "metadata": {
    "id": "cuRAkoSDT0v9"
   },
   "source": [
    "## 1. Data Acquisition"
   ]
  },
  {
   "cell_type": "code",
   "execution_count": 2,
   "metadata": {
    "colab": {
     "base_uri": "https://localhost:8080/"
    },
    "execution": {
     "iopub.execute_input": "2025-03-28T11:55:57.024976Z",
     "iopub.status.busy": "2025-03-28T11:55:57.024769Z",
     "iopub.status.idle": "2025-03-28T11:55:57.049517Z",
     "shell.execute_reply": "2025-03-28T11:55:57.049244Z"
    },
    "id": "kxbIP0h_T0v-",
    "outputId": "d333aa0f-8d75-4320-f6f3-3a694bbb2ea3"
   },
   "outputs": [
    {
     "data": {
      "text/plain": [
       "(15298, 18)"
      ]
     },
     "execution_count": 2,
     "metadata": {},
     "output_type": "execute_result"
    }
   ],
   "source": [
    "df = pd.read_csv(\"../datasets/Processed_data.csv\",sep=\",\",index_col=\"PatientID\")\n",
    "df.shape"
   ]
  },
  {
   "cell_type": "markdown",
   "metadata": {
    "id": "6Z4dD7AQT0v-"
   },
   "source": [
    "## 2. Data Preparation"
   ]
  },
  {
   "cell_type": "code",
   "execution_count": 3,
   "metadata": {
    "execution": {
     "iopub.execute_input": "2025-03-28T11:55:57.069360Z",
     "iopub.status.busy": "2025-03-28T11:55:57.069090Z",
     "iopub.status.idle": "2025-03-28T11:55:57.114173Z",
     "shell.execute_reply": "2025-03-28T11:55:57.113701Z"
    },
    "id": "V3oi4Da5T0v_"
   },
   "outputs": [],
   "source": [
    "from sklearn.model_selection import train_test_split"
   ]
  },
  {
   "cell_type": "code",
   "execution_count": 4,
   "metadata": {
    "execution": {
     "iopub.execute_input": "2025-03-28T11:55:57.116164Z",
     "iopub.status.busy": "2025-03-28T11:55:57.115899Z",
     "iopub.status.idle": "2025-03-28T11:55:57.119781Z",
     "shell.execute_reply": "2025-03-28T11:55:57.119587Z"
    },
    "id": "7CWCuXXHT0v_"
   },
   "outputs": [],
   "source": [
    "# Split data into training and testing sets\n",
    "df_train, df_test = train_test_split(df, test_size=0.2, random_state=42)"
   ]
  },
  {
   "cell_type": "code",
   "execution_count": 5,
   "metadata": {
    "colab": {
     "base_uri": "https://localhost:8080/"
    },
    "execution": {
     "iopub.execute_input": "2025-03-28T11:55:57.120868Z",
     "iopub.status.busy": "2025-03-28T11:55:57.120778Z",
     "iopub.status.idle": "2025-03-28T11:55:57.123145Z",
     "shell.execute_reply": "2025-03-28T11:55:57.122971Z"
    },
    "id": "gyXRvQg6T0v_",
    "outputId": "43cbcce3-6852-4b5d-fdcf-674191706782"
   },
   "outputs": [
    {
     "data": {
      "text/plain": [
       "(12238, 18)"
      ]
     },
     "execution_count": 5,
     "metadata": {},
     "output_type": "execute_result"
    }
   ],
   "source": [
    "# Display training data shape\n",
    "df_train.shape"
   ]
  },
  {
   "cell_type": "code",
   "execution_count": 6,
   "metadata": {
    "execution": {
     "iopub.execute_input": "2025-03-28T11:55:57.123925Z",
     "iopub.status.busy": "2025-03-28T11:55:57.123846Z",
     "iopub.status.idle": "2025-03-28T11:55:57.125328Z",
     "shell.execute_reply": "2025-03-28T11:55:57.125176Z"
    },
    "id": "arrsIGI-T0wA"
   },
   "outputs": [],
   "source": [
    "# Define feature columns for clarity\n",
    "feature_columns = ['Pregnancies', 'PlasmaGlucose', 'DiastolicBloodPressure',\n",
    "                   'TricepsThickness', 'SerumInsulin', 'BMI', 'DiabetesPedigree', 'Age']"
   ]
  },
  {
   "cell_type": "code",
   "execution_count": 7,
   "metadata": {
    "execution": {
     "iopub.execute_input": "2025-03-28T11:55:57.126147Z",
     "iopub.status.busy": "2025-03-28T11:55:57.126073Z",
     "iopub.status.idle": "2025-03-28T11:55:57.128620Z",
     "shell.execute_reply": "2025-03-28T11:55:57.128456Z"
    },
    "id": "PlPr1UzQT0wB"
   },
   "outputs": [],
   "source": [
    "# Extract features and target for training data\n",
    "X_train = df_train.loc[:, feature_columns].values\n",
    "y_train = df_train.Diabetic.values"
   ]
  },
  {
   "cell_type": "code",
   "execution_count": 8,
   "metadata": {
    "execution": {
     "iopub.execute_input": "2025-03-28T11:55:57.129578Z",
     "iopub.status.busy": "2025-03-28T11:55:57.129505Z",
     "iopub.status.idle": "2025-03-28T11:55:57.131757Z",
     "shell.execute_reply": "2025-03-28T11:55:57.131536Z"
    },
    "id": "r94OgQ1AT0wB"
   },
   "outputs": [],
   "source": [
    "# Extract features and target for test data\n",
    "X_test = df_test.loc[:, feature_columns].values\n",
    "y_test = df_test.Diabetic.values"
   ]
  },
  {
   "cell_type": "markdown",
   "metadata": {
    "id": "nlkbWFJeT0wC"
   },
   "source": [
    "## 3. KNN Model Implementation"
   ]
  },
  {
   "cell_type": "code",
   "execution_count": 9,
   "metadata": {
    "execution": {
     "iopub.execute_input": "2025-03-28T11:55:57.132538Z",
     "iopub.status.busy": "2025-03-28T11:55:57.132464Z",
     "iopub.status.idle": "2025-03-28T11:55:57.216334Z",
     "shell.execute_reply": "2025-03-28T11:55:57.215882Z"
    },
    "id": "9gtPgAbCT0wC"
   },
   "outputs": [],
   "source": [
    "# Import the KNeighborsClassifier model from scikit-learn\n",
    "from sklearn.neighbors import KNeighborsClassifier\n",
    "\n",
    "# Initialize the K-Nearest Neighbors classifier with 3 neighbors\n",
    "knn_classifier = KNeighborsClassifier(n_neighbors=3)\n",
    "\n",
    "# Train the model using the training data (features: X_train, target: y_train)\n",
    "knn_classifier.fit(X=X_train, y=y_train)\n",
    "\n",
    "# Make predictions on the test dataset\n",
    "y_test_predicted = knn_classifier.predict(X_test)\n",
    "\n",
    "# Convert the predicted values to integers (useful if the target values are discrete)  \n",
    "y_test_predicted = y_test_predicted.astype(int) \n"
   ]
  },
  {
   "cell_type": "code",
   "execution_count": 10,
   "metadata": {
    "colab": {
     "base_uri": "https://localhost:8080/"
    },
    "execution": {
     "iopub.execute_input": "2025-03-28T11:55:57.218483Z",
     "iopub.status.busy": "2025-03-28T11:55:57.218108Z",
     "iopub.status.idle": "2025-03-28T11:55:57.221193Z",
     "shell.execute_reply": "2025-03-28T11:55:57.220766Z"
    },
    "id": "F2OuKlSWT0wD",
    "outputId": "78e11752-a5ea-46b2-eb61-01db8dc7ed6b"
   },
   "outputs": [
    {
     "name": "stdout",
     "output_type": "stream",
     "text": [
      "Accuracy: 0.8898692810457516\n"
     ]
    }
   ],
   "source": [
    "# Calculate basic accuracy\n",
    "accuracy = (y_test_predicted == y_test).sum()/len(y_test)\n",
    "print(f\"Accuracy: {accuracy}\")"
   ]
  },
  {
   "cell_type": "markdown",
   "metadata": {
    "id": "8BQIfY66T0wD"
   },
   "source": [
    "## 4. Model Evaluation"
   ]
  },
  {
   "cell_type": "markdown",
   "metadata": {
    "id": "bSfWSZnET0wE"
   },
   "source": [
    "### 4.1 Confusion Matrix"
   ]
  },
  {
   "cell_type": "code",
   "execution_count": 11,
   "metadata": {
    "execution": {
     "iopub.execute_input": "2025-03-28T11:55:57.222407Z",
     "iopub.status.busy": "2025-03-28T11:55:57.222311Z",
     "iopub.status.idle": "2025-03-28T11:55:57.224068Z",
     "shell.execute_reply": "2025-03-28T11:55:57.223825Z"
    },
    "id": "ACKVG45KT0wE"
   },
   "outputs": [],
   "source": [
    "from sklearn.metrics import confusion_matrix"
   ]
  },
  {
   "cell_type": "code",
   "execution_count": 12,
   "metadata": {
    "colab": {
     "base_uri": "https://localhost:8080/",
     "height": 125
    },
    "execution": {
     "iopub.execute_input": "2025-03-28T11:55:57.225914Z",
     "iopub.status.busy": "2025-03-28T11:55:57.225812Z",
     "iopub.status.idle": "2025-03-28T11:55:57.234533Z",
     "shell.execute_reply": "2025-03-28T11:55:57.234206Z"
    },
    "id": "rAusTaUxT0wE",
    "outputId": "06288227-c77a-4104-af3c-3e2365f09744"
   },
   "outputs": [
    {
     "data": {
      "text/html": [
       "<div>\n",
       "<style scoped>\n",
       "    .dataframe tbody tr th:only-of-type {\n",
       "        vertical-align: middle;\n",
       "    }\n",
       "\n",
       "    .dataframe tbody tr th {\n",
       "        vertical-align: top;\n",
       "    }\n",
       "\n",
       "    .dataframe thead th {\n",
       "        text-align: right;\n",
       "    }\n",
       "</style>\n",
       "<table border=\"1\" class=\"dataframe\">\n",
       "  <thead>\n",
       "    <tr style=\"text-align: right;\">\n",
       "      <th></th>\n",
       "      <th>y_test_0</th>\n",
       "      <th>y_test_1</th>\n",
       "    </tr>\n",
       "  </thead>\n",
       "  <tbody>\n",
       "    <tr>\n",
       "      <th>y_pred_0</th>\n",
       "      <td>1314</td>\n",
       "      <td>243</td>\n",
       "    </tr>\n",
       "    <tr>\n",
       "      <th>y_pred_1</th>\n",
       "      <td>94</td>\n",
       "      <td>1409</td>\n",
       "    </tr>\n",
       "  </tbody>\n",
       "</table>\n",
       "</div>"
      ],
      "text/plain": [
       "         y_test_0 y_test_1\n",
       "y_pred_0     1314      243\n",
       "y_pred_1       94     1409"
      ]
     },
     "execution_count": 12,
     "metadata": {},
     "output_type": "execute_result"
    }
   ],
   "source": [
    "# Create confusion matrix\n",
    "cf = pd.DataFrame(\n",
    "    columns=[\"y_test_0\", \"y_test_1\"], index=[\"y_pred_0\", \"y_pred_1\"]\n",
    ")\n",
    "\n",
    "cf.loc[:, :] = confusion_matrix(y_true=y_test, y_pred=y_test_predicted)\n",
    "cf"
   ]
  },
  {
   "cell_type": "markdown",
   "metadata": {
    "id": "E76QqXUKT0wF"
   },
   "source": [
    "### 4.2 Classification Metrics"
   ]
  },
  {
   "cell_type": "code",
   "execution_count": 13,
   "metadata": {
    "execution": {
     "iopub.execute_input": "2025-03-28T11:55:57.236303Z",
     "iopub.status.busy": "2025-03-28T11:55:57.236157Z",
     "iopub.status.idle": "2025-03-28T11:55:57.238397Z",
     "shell.execute_reply": "2025-03-28T11:55:57.238095Z"
    },
    "id": "OQTKWe5RT0wF"
   },
   "outputs": [],
   "source": [
    "from sklearn.metrics import recall_score, precision_score, classification_report"
   ]
  },
  {
   "cell_type": "code",
   "execution_count": 14,
   "metadata": {
    "colab": {
     "base_uri": "https://localhost:8080/"
    },
    "execution": {
     "iopub.execute_input": "2025-03-28T11:55:57.239551Z",
     "iopub.status.busy": "2025-03-28T11:55:57.239451Z",
     "iopub.status.idle": "2025-03-28T11:55:57.245230Z",
     "shell.execute_reply": "2025-03-28T11:55:57.244840Z"
    },
    "id": "V9fRAxnTT0wG",
    "outputId": "f6f6c26e-9c5a-4f8c-8dea-48482eddb4e1"
   },
   "outputs": [
    {
     "name": "stdout",
     "output_type": "stream",
     "text": [
      "Recall: 0.9374584165003327,\n",
      "Precision: 0.8529055690072639\n"
     ]
    }
   ],
   "source": [
    "# Calculate recall and precision\n",
    "recall = recall_score(y_true=y_test, y_pred=y_test_predicted)\n",
    "precision = precision_score(y_true=y_test, y_pred=y_test_predicted)\n",
    "\n",
    "print(f\"Recall: {recall},\\nPrecision: {precision}\")"
   ]
  },
  {
   "cell_type": "code",
   "execution_count": 15,
   "metadata": {
    "colab": {
     "base_uri": "https://localhost:8080/"
    },
    "execution": {
     "iopub.execute_input": "2025-03-28T11:55:57.246454Z",
     "iopub.status.busy": "2025-03-28T11:55:57.246351Z",
     "iopub.status.idle": "2025-03-28T11:55:57.251599Z",
     "shell.execute_reply": "2025-03-28T11:55:57.251302Z"
    },
    "id": "5qPh1vquT0wG",
    "outputId": "6e472f71-c376-472e-dd3a-046a635a7d6d"
   },
   "outputs": [
    {
     "name": "stdout",
     "output_type": "stream",
     "text": [
      "Classification Report:\n",
      "              precision    recall  f1-score   support\n",
      "\n",
      "           0       0.93      0.84      0.89      1557\n",
      "           1       0.85      0.94      0.89      1503\n",
      "\n",
      "    accuracy                           0.89      3060\n",
      "   macro avg       0.89      0.89      0.89      3060\n",
      "weighted avg       0.89      0.89      0.89      3060\n",
      "\n"
     ]
    }
   ],
   "source": [
    "# Generate classification report\n",
    "report = classification_report(y_true=y_test, y_pred=y_test_predicted)\n",
    "print(\"Classification Report:\")\n",
    "print(report)"
   ]
  },
  {
   "cell_type": "markdown",
   "metadata": {
    "id": "620jqQJ7T0wH"
   },
   "source": [
    "## 7. Hyperparameter Tuning"
   ]
  },
  {
   "cell_type": "code",
   "execution_count": 16,
   "metadata": {
    "colab": {
     "base_uri": "https://localhost:8080/"
    },
    "execution": {
     "iopub.execute_input": "2025-03-28T11:55:57.253375Z",
     "iopub.status.busy": "2025-03-28T11:55:57.253200Z",
     "iopub.status.idle": "2025-03-28T11:55:58.775073Z",
     "shell.execute_reply": "2025-03-28T11:55:58.774752Z"
    },
    "id": "uCd5omZXT0wH",
    "outputId": "f28a1a1e-336b-4fef-f988-052af1a57b99"
   },
   "outputs": [
    {
     "name": "stdout",
     "output_type": "stream",
     "text": [
      "Best Parameters: {'metric': 'manhattan', 'n_neighbors': 3, 'weights': 'distance'}\n",
      "Best Cross-Validation Score: 0.9145286612124759\n"
     ]
    }
   ],
   "source": [
    "from sklearn.model_selection import GridSearchCV\n",
    "from sklearn.neighbors import KNeighborsClassifier\n",
    "\n",
    "param_grid = {\n",
    "    'n_neighbors': [3, 5, 7, 10],\n",
    "    'weights': ['uniform', 'distance'],\n",
    "    'metric': ['euclidean', 'manhattan']\n",
    "}\n",
    "\n",
    "# Setup grid search for KNN Classifier\n",
    "grid_search = GridSearchCV(KNeighborsClassifier(), param_grid, cv=5, scoring='accuracy', n_jobs=-1)\n",
    "grid_search.fit(X_train, y_train)\n",
    "\n",
    "# Show best parameters and best cross-validation score\n",
    "print(f\"Best Parameters: {grid_search.best_params_}\")\n",
    "print(f\"Best Cross-Validation Score: {grid_search.best_score_}\")\n"
   ]
  },
  {
   "cell_type": "markdown",
   "metadata": {
    "id": "Vov7Q5vdT0wH"
   },
   "source": [
    "## 8. Final Model and Evaluation"
   ]
  },
  {
   "cell_type": "code",
   "execution_count": 17,
   "metadata": {
    "colab": {
     "base_uri": "https://localhost:8080/"
    },
    "execution": {
     "iopub.execute_input": "2025-03-28T11:55:58.776264Z",
     "iopub.status.busy": "2025-03-28T11:55:58.776174Z",
     "iopub.status.idle": "2025-03-28T11:55:58.814534Z",
     "shell.execute_reply": "2025-03-28T11:55:58.814154Z"
    },
    "id": "kRdKWGvKT0wI",
    "outputId": "85ddff63-0b62-4cbf-a04a-fc1a146e32ae"
   },
   "outputs": [
    {
     "name": "stdout",
     "output_type": "stream",
     "text": [
      "Final Model Accuracy: 0.923202614379085\n",
      "\n",
      "Final Classification Report:\n",
      "              precision    recall  f1-score   support\n",
      "\n",
      "           0       0.96      0.88      0.92      1557\n",
      "           1       0.89      0.97      0.93      1503\n",
      "\n",
      "    accuracy                           0.92      3060\n",
      "   macro avg       0.93      0.92      0.92      3060\n",
      "weighted avg       0.93      0.92      0.92      3060\n",
      "\n"
     ]
    }
   ],
   "source": [
    "from sklearn.metrics import classification_report\n",
    "\n",
    "# Create final model with best parameters\n",
    "final_model = KNeighborsClassifier(\n",
    "    n_neighbors=grid_search.best_params_['n_neighbors'],\n",
    "    weights=grid_search.best_params_['weights'],\n",
    "    metric=grid_search.best_params_['metric']\n",
    ")\n",
    "\n",
    "# Fit the final model on the training data\n",
    "final_model.fit(X_train, y_train)\n",
    "\n",
    "# Evaluate on test set\n",
    "y_pred_final = final_model.predict(X_test)\n",
    "final_accuracy = (y_pred_final == y_test).sum() / len(y_test)\n",
    "final_report = classification_report(y_test, y_pred_final)\n",
    "\n",
    "print(f\"Final Model Accuracy: {final_accuracy}\")\n",
    "print(f\"\\nFinal Classification Report:\\n{final_report}\")\n"
   ]
  },
  {
   "cell_type": "code",
   "execution_count": 18,
   "metadata": {
    "colab": {
     "base_uri": "https://localhost:8080/"
    },
    "execution": {
     "iopub.execute_input": "2025-03-28T11:55:58.815801Z",
     "iopub.status.busy": "2025-03-28T11:55:58.815713Z",
     "iopub.status.idle": "2025-03-28T11:55:58.818512Z",
     "shell.execute_reply": "2025-03-28T11:55:58.818326Z"
    },
    "id": "XkApOiOtVaTL",
    "outputId": "95693e60-a23e-4399-f08b-96747a803b4e"
   },
   "outputs": [],
   "source": [
    "# Saving the model\n",
    "with open('../models/knn_model.pkl', 'wb') as file:\n",
    "    pickle.dump(final_model, file)"
   ]
  }
 ],
 "metadata": {
  "colab": {
   "provenance": []
  },
  "kernelspec": {
   "display_name": "ml-project",
   "language": "python",
   "name": "python3"
  },
  "language_info": {
   "codemirror_mode": {
    "name": "ipython",
    "version": 3
   },
   "file_extension": ".py",
   "mimetype": "text/x-python",
   "name": "python",
   "nbconvert_exporter": "python",
   "pygments_lexer": "ipython3",
   "version": "3.12.9"
  }
 },
 "nbformat": 4,
 "nbformat_minor": 4
}
