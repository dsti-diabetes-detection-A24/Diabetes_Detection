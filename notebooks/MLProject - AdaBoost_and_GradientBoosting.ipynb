{
 "cells": [
  {
   "cell_type": "markdown",
   "metadata": {
    "id": "zVVfdsB0T0v6"
   },
   "source": [
    "# GradientBoosting and AdaBoost Models for Diabetes Prediction"
   ]
  },
  {
   "cell_type": "code",
   "execution_count": 1,
   "metadata": {
    "execution": {
     "iopub.execute_input": "2025-03-29T13:38:36.339999Z",
     "iopub.status.busy": "2025-03-29T13:38:36.339914Z",
     "iopub.status.idle": "2025-03-29T13:38:37.015531Z",
     "shell.execute_reply": "2025-03-29T13:38:37.014869Z"
    },
    "id": "eHaEAX1MT0v8"
   },
   "outputs": [],
   "source": [
    "import numpy as np\n",
    "import pandas as pd\n",
    "import matplotlib.pyplot as plt\n",
    "import seaborn as sns\n",
    "import pickle\n",
    "from sklearn.model_selection import train_test_split\n",
    "from sklearn.metrics import accuracy_score, confusion_matrix, ConfusionMatrixDisplay\n",
    "from sklearn.ensemble import GradientBoostingClassifier, AdaBoostClassifier\n",
    "from sklearn.metrics import accuracy_score, precision_score, recall_score, f1_score, classification_report\n",
    "from sklearn.model_selection import GridSearchCV\n",
    "\n"
   ]
  },
  {
   "cell_type": "markdown",
   "metadata": {
    "id": "cuRAkoSDT0v9"
   },
   "source": [
    "## 1. Data Acquisition"
   ]
  },
  {
   "cell_type": "code",
   "execution_count": 2,
   "metadata": {
    "colab": {
     "base_uri": "https://localhost:8080/"
    },
    "execution": {
     "iopub.execute_input": "2025-03-29T13:38:37.017635Z",
     "iopub.status.busy": "2025-03-29T13:38:37.017475Z",
     "iopub.status.idle": "2025-03-29T13:38:37.040401Z",
     "shell.execute_reply": "2025-03-29T13:38:37.040149Z"
    },
    "id": "kxbIP0h_T0v-",
    "outputId": "d333aa0f-8d75-4320-f6f3-3a694bbb2ea3"
   },
   "outputs": [
    {
     "data": {
      "text/plain": [
       "(15298, 18)"
      ]
     },
     "execution_count": 2,
     "metadata": {},
     "output_type": "execute_result"
    }
   ],
   "source": [
    "df = pd.read_csv(\"../datasets/Processed_data.csv\",sep=\",\",index_col=\"PatientID\")\n",
    "df.shape"
   ]
  },
  {
   "cell_type": "markdown",
   "metadata": {
    "id": "6Z4dD7AQT0v-"
   },
   "source": [
    "## 2. Data Preparation"
   ]
  },
  {
   "cell_type": "code",
   "execution_count": 3,
   "metadata": {
    "execution": {
     "iopub.execute_input": "2025-03-29T13:38:37.058865Z",
     "iopub.status.busy": "2025-03-29T13:38:37.058735Z",
     "iopub.status.idle": "2025-03-29T13:38:37.060721Z",
     "shell.execute_reply": "2025-03-29T13:38:37.060544Z"
    },
    "id": "V3oi4Da5T0v_"
   },
   "outputs": [],
   "source": [
    "from sklearn.model_selection import train_test_split"
   ]
  },
  {
   "cell_type": "code",
   "execution_count": 4,
   "metadata": {
    "execution": {
     "iopub.execute_input": "2025-03-29T13:38:37.061691Z",
     "iopub.status.busy": "2025-03-29T13:38:37.061613Z",
     "iopub.status.idle": "2025-03-29T13:38:37.064750Z",
     "shell.execute_reply": "2025-03-29T13:38:37.064499Z"
    },
    "id": "7CWCuXXHT0v_"
   },
   "outputs": [],
   "source": [
    "# Split data into training and testing sets\n",
    "df_train, df_test = train_test_split(df, test_size=0.2, random_state=42)"
   ]
  },
  {
   "cell_type": "code",
   "execution_count": 5,
   "metadata": {
    "colab": {
     "base_uri": "https://localhost:8080/"
    },
    "execution": {
     "iopub.execute_input": "2025-03-29T13:38:37.065680Z",
     "iopub.status.busy": "2025-03-29T13:38:37.065605Z",
     "iopub.status.idle": "2025-03-29T13:38:37.067518Z",
     "shell.execute_reply": "2025-03-29T13:38:37.067295Z"
    },
    "id": "gyXRvQg6T0v_",
    "outputId": "43cbcce3-6852-4b5d-fdcf-674191706782"
   },
   "outputs": [
    {
     "data": {
      "text/plain": [
       "(12238, 18)"
      ]
     },
     "execution_count": 5,
     "metadata": {},
     "output_type": "execute_result"
    }
   ],
   "source": [
    "# Display training data shape\n",
    "df_train.shape"
   ]
  },
  {
   "cell_type": "code",
   "execution_count": 6,
   "metadata": {
    "execution": {
     "iopub.execute_input": "2025-03-29T13:38:37.068395Z",
     "iopub.status.busy": "2025-03-29T13:38:37.068323Z",
     "iopub.status.idle": "2025-03-29T13:38:37.069569Z",
     "shell.execute_reply": "2025-03-29T13:38:37.069412Z"
    }
   },
   "outputs": [],
   "source": [
    "# Define feature columns\n",
    "feature_columns = ['Pregnancies', 'PlasmaGlucose', 'DiastolicBloodPressure',\n",
    "                   'TricepsThickness', 'SerumInsulin', 'BMI', 'DiabetesPedigree', 'Age']"
   ]
  },
  {
   "cell_type": "code",
   "execution_count": 7,
   "metadata": {
    "execution": {
     "iopub.execute_input": "2025-03-29T13:38:37.070430Z",
     "iopub.status.busy": "2025-03-29T13:38:37.070359Z",
     "iopub.status.idle": "2025-03-29T13:38:37.072531Z",
     "shell.execute_reply": "2025-03-29T13:38:37.072374Z"
    },
    "id": "PlPr1UzQT0wB"
   },
   "outputs": [],
   "source": [
    "# Extract features and target for training data\n",
    "X_train = df_train.loc[:, feature_columns].values\n",
    "y_train = df_train.Diabetic.values"
   ]
  },
  {
   "cell_type": "code",
   "execution_count": 8,
   "metadata": {
    "execution": {
     "iopub.execute_input": "2025-03-29T13:38:37.073402Z",
     "iopub.status.busy": "2025-03-29T13:38:37.073329Z",
     "iopub.status.idle": "2025-03-29T13:38:37.075130Z",
     "shell.execute_reply": "2025-03-29T13:38:37.074964Z"
    },
    "id": "r94OgQ1AT0wB"
   },
   "outputs": [],
   "source": [
    "# Extract features and target for test data\n",
    "X_test = df_test.loc[:, feature_columns].values\n",
    "y_test = df_test.Diabetic.values"
   ]
  },
  {
   "cell_type": "markdown",
   "metadata": {
    "id": "nlkbWFJeT0wC"
   },
   "source": [
    "## 3. GradientBoosting and AdaBoost Models Implementation"
   ]
  },
  {
   "cell_type": "code",
   "execution_count": 9,
   "metadata": {
    "execution": {
     "iopub.execute_input": "2025-03-29T13:38:37.076096Z",
     "iopub.status.busy": "2025-03-29T13:38:37.076024Z",
     "iopub.status.idle": "2025-03-29T13:38:38.546662Z",
     "shell.execute_reply": "2025-03-29T13:38:38.546419Z"
    },
    "id": "9gtPgAbCT0wC"
   },
   "outputs": [
    {
     "name": "stdout",
     "output_type": "stream",
     "text": [
      "GradientBoosting Accuracy = 0.96\n"
     ]
    },
    {
     "name": "stdout",
     "output_type": "stream",
     "text": [
      "AdaBoost Accuracy = 0.95\n"
     ]
    }
   ],
   "source": [
    "models = {\n",
    "    \"GradientBoosting\": GradientBoostingClassifier(),\n",
    "    \"AdaBoost\": AdaBoostClassifier()\n",
    "}\n",
    "\n",
    "# Dictionary to store results and predictions\n",
    "results = {}\n",
    "predictions = {}\n",
    "\n",
    "# Train models and store predictions\n",
    "for name, model in models.items():\n",
    "    model.fit(X_train, y_train)  # Train model\n",
    "    y_test_predicted = model.predict(X_test)  # Predict on test set\n",
    "\n",
    "    # Store predictions\n",
    "    predictions[name] = y_test_predicted\n",
    "\n",
    "    # Calculate accuracy\n",
    "    accuracy = accuracy_score(y_test, y_test_predicted)\n",
    "    results[name] = accuracy\n",
    "\n",
    "    print(f\"{name} Accuracy = {accuracy:.2f}\")"
   ]
  },
  {
   "cell_type": "markdown",
   "metadata": {
    "id": "8BQIfY66T0wD"
   },
   "source": [
    "## 4. Model Evaluation"
   ]
  },
  {
   "cell_type": "markdown",
   "metadata": {
    "id": "bSfWSZnET0wE"
   },
   "source": [
    "### 4.1 Confusion Matrix"
   ]
  },
  {
   "cell_type": "code",
   "execution_count": 10,
   "metadata": {
    "colab": {
     "base_uri": "https://localhost:8080/",
     "height": 125
    },
    "execution": {
     "iopub.execute_input": "2025-03-29T13:38:38.547750Z",
     "iopub.status.busy": "2025-03-29T13:38:38.547663Z",
     "iopub.status.idle": "2025-03-29T13:38:38.711724Z",
     "shell.execute_reply": "2025-03-29T13:38:38.711410Z"
    },
    "id": "rAusTaUxT0wE",
    "outputId": "06288227-c77a-4104-af3c-3e2365f09744"
   },
   "outputs": [
    {
     "data": {
      "image/png": "[encoded data removed]",
      "text/plain": [
       "<Figure size 640x480 with 2 Axes>"
      ]
     },
     "metadata": {},
     "output_type": "display_data"
    },
    {
     "data": {
      "image/png": "[encoded data removed]",
      "text/plain": [
       "<Figure size 640x480 with 2 Axes>"
      ]
     },
     "metadata": {},
     "output_type": "display_data"
    }
   ],
   "source": [
    "# Generate confusion matrices for each model\n",
    "for name, y_pred in predictions.items():\n",
    "    cm = confusion_matrix(y_test, y_pred)  # Compute confusion matrix\n",
    "\n",
    "    # Display the confusion matrix\n",
    "    disp = ConfusionMatrixDisplay(confusion_matrix=cm)\n",
    "    disp.plot(cmap=\"Blues\")  # Use a blue colormap for better visibility\n",
    "    plt.title(f\"Confusion Matrix - {name}\")\n",
    "    plt.show()\n"
   ]
  },
  {
   "cell_type": "markdown",
   "metadata": {
    "id": "E76QqXUKT0wF"
   },
   "source": [
    "### 4.2 Classification Metrics"
   ]
  },
  {
   "cell_type": "code",
   "execution_count": 11,
   "metadata": {
    "colab": {
     "base_uri": "https://localhost:8080/"
    },
    "execution": {
     "iopub.execute_input": "2025-03-29T13:38:38.712732Z",
     "iopub.status.busy": "2025-03-29T13:38:38.712643Z",
     "iopub.status.idle": "2025-03-29T13:38:38.724280Z",
     "shell.execute_reply": "2025-03-29T13:38:38.724031Z"
    },
    "id": "V9fRAxnTT0wG",
    "outputId": "f6f6c26e-9c5a-4f8c-8dea-48482eddb4e1"
   },
   "outputs": [
    {
     "name": "stdout",
     "output_type": "stream",
     "text": [
      "Precision, Recall, and Classification Report for Each Model\n",
      "\n",
      "🔹 GradientBoosting Metrics:\n",
      "   Precision: 0.95\n",
      "   Recall: 0.96\n",
      "   F1 Score: 0.96\n",
      "   Classification Report:\n",
      "               precision    recall  f1-score   support\n",
      "\n",
      "           0       0.97      0.95      0.96      1557\n",
      "           1       0.95      0.96      0.96      1503\n",
      "\n",
      "    accuracy                           0.96      3060\n",
      "   macro avg       0.96      0.96      0.96      3060\n",
      "weighted avg       0.96      0.96      0.96      3060\n",
      "\n",
      "🔹 AdaBoost Metrics:\n",
      "   Precision: 0.94\n",
      "   Recall: 0.97\n",
      "   F1 Score: 0.95\n",
      "   Classification Report:\n",
      "               precision    recall  f1-score   support\n",
      "\n",
      "           0       0.97      0.94      0.95      1557\n",
      "           1       0.94      0.97      0.95      1503\n",
      "\n",
      "    accuracy                           0.95      3060\n",
      "   macro avg       0.95      0.95      0.95      3060\n",
      "weighted avg       0.95      0.95      0.95      3060\n",
      "\n"
     ]
    }
   ],
   "source": [
    "print(\"Precision, Recall, and Classification Report for Each Model\\n\")\n",
    "\n",
    "# Calculate and display evaluation metrics for each model\n",
    "for name, y_pred in predictions.items():\n",
    "    precision = precision_score(y_test, y_pred, average='binary') \n",
    "    recall = recall_score(y_test, y_pred, average='binary')\n",
    "    f1 = f1_score(y_test, y_pred, average='binary')\n",
    "    \n",
    "    # Classification report\n",
    "    class_report = classification_report(y_test, y_pred)\n",
    "\n",
    "    # Print results\n",
    "    print(f\"🔹 {name} Metrics:\")\n",
    "    print(f\"   Precision: {precision:.2f}\")\n",
    "    print(f\"   Recall: {recall:.2f}\")\n",
    "    print(f\"   F1 Score: {f1:.2f}\")\n",
    "    print(\"   Classification Report:\\n\", class_report)\n"
   ]
  },
  {
   "cell_type": "markdown",
   "metadata": {
    "id": "620jqQJ7T0wH"
   },
   "source": [
    "## 7. Hyperparameter Tuning"
   ]
  },
  {
   "cell_type": "code",
   "execution_count": 12,
   "metadata": {
    "colab": {
     "base_uri": "https://localhost:8080/"
    },
    "execution": {
     "iopub.execute_input": "2025-03-29T13:38:38.725200Z",
     "iopub.status.busy": "2025-03-29T13:38:38.725115Z",
     "iopub.status.idle": "2025-03-29T13:39:12.610102Z",
     "shell.execute_reply": "2025-03-29T13:39:12.609634Z"
    },
    "id": "uCd5omZXT0wH",
    "outputId": "f28a1a1e-336b-4fef-f988-052af1a57b99"
   },
   "outputs": [
    {
     "name": "stdout",
     "output_type": "stream",
     "text": [
      " Tuning hyperparameters for GradientBoosting...\n"
     ]
    },
    {
     "name": "stdout",
     "output_type": "stream",
     "text": [
      " Best Parameters for GradientBoosting: {'learning_rate': 0.1, 'max_depth': 5, 'n_estimators': 200}\n",
      " Best Cross-Validation Score for GradientBoosting: 0.9615\n",
      " Tuning hyperparameters for AdaBoost...\n"
     ]
    },
    {
     "name": "stdout",
     "output_type": "stream",
     "text": [
      " Best Parameters for AdaBoost: {'learning_rate': 0.2, 'n_estimators': 200}\n",
      " Best Cross-Validation Score for AdaBoost: 0.9395\n"
     ]
    }
   ],
   "source": [
    "\n",
    "# Define hyperparameter grids for each model\n",
    "param_grids = {\n",
    "    \"GradientBoosting\": {\n",
    "        \"n_estimators\": [50, 100, 200],\n",
    "        \"learning_rate\": [0.01, 0.1, 0.2],\n",
    "        \"max_depth\": [3, 5, 8]\n",
    "    },\n",
    "    \"AdaBoost\": {\n",
    "        \"n_estimators\": [50, 100, 200],\n",
    "        \"learning_rate\": [0.01, 0.1, 0.2]\n",
    "    }\n",
    "}\n",
    "\n",
    "# Dictionary to store best results\n",
    "best_params = {}\n",
    "best_scores = {}\n",
    "\n",
    "# Perform GridSearchCV for each model\n",
    "for name, model in models.items():\n",
    "    print(f\" Tuning hyperparameters for {name}...\")\n",
    "    \n",
    "    grid_search = GridSearchCV(model, param_grids[name], cv=5, scoring='accuracy', n_jobs=-1)\n",
    "    grid_search.fit(X_train, y_train)  # Train with cross-validation\n",
    "\n",
    "    # Store the best parameters and best score\n",
    "    best_params[name] = grid_search.best_params_\n",
    "    best_scores[name] = grid_search.best_score_\n",
    "\n",
    "    print(f\" Best Parameters for {name}: {grid_search.best_params_}\")\n",
    "    print(f\" Best Cross-Validation Score for {name}: {grid_search.best_score_:.4f}\")\n"
   ]
  },
  {
   "cell_type": "markdown",
   "metadata": {
    "id": "Vov7Q5vdT0wH"
   },
   "source": [
    "## 8. Final Model and Evaluation"
   ]
  },
  {
   "cell_type": "code",
   "execution_count": 13,
   "metadata": {
    "colab": {
     "base_uri": "https://localhost:8080/"
    },
    "execution": {
     "iopub.execute_input": "2025-03-29T13:39:12.611439Z",
     "iopub.status.busy": "2025-03-29T13:39:12.611344Z",
     "iopub.status.idle": "2025-03-29T13:39:17.507308Z",
     "shell.execute_reply": "2025-03-29T13:39:17.506814Z"
    },
    "id": "kRdKWGvKT0wI",
    "outputId": "85ddff63-0b62-4cbf-a04a-fc1a146e32ae"
   },
   "outputs": [
    {
     "name": "stdout",
     "output_type": "stream",
     "text": [
      "\n",
      " Training Final GradientBoosting Model with Best Parameters...\n"
     ]
    },
    {
     "name": "stdout",
     "output_type": "stream",
     "text": [
      " GradientBoosting Final Model Accuracy: 0.9647\n",
      "\n",
      " Final Classification Report for GradientBoosting:\n",
      "              precision    recall  f1-score   support\n",
      "\n",
      "           0       0.97      0.96      0.97      1557\n",
      "           1       0.96      0.97      0.96      1503\n",
      "\n",
      "    accuracy                           0.96      3060\n",
      "   macro avg       0.96      0.96      0.96      3060\n",
      "weighted avg       0.96      0.96      0.96      3060\n",
      "\n",
      "\n",
      " Training Final AdaBoost Model with Best Parameters...\n"
     ]
    },
    {
     "name": "stdout",
     "output_type": "stream",
     "text": [
      " AdaBoost Final Model Accuracy: 0.9438\n",
      "\n",
      " Final Classification Report for AdaBoost:\n",
      "              precision    recall  f1-score   support\n",
      "\n",
      "           0       0.96      0.92      0.94      1557\n",
      "           1       0.93      0.96      0.94      1503\n",
      "\n",
      "    accuracy                           0.94      3060\n",
      "   macro avg       0.94      0.94      0.94      3060\n",
      "weighted avg       0.94      0.94      0.94      3060\n",
      "\n"
     ]
    }
   ],
   "source": [
    "# Dictionary to store final models and results\n",
    "final_models = {}\n",
    "final_results = {}\n",
    "\n",
    "# Train final models with best parameters\n",
    "for name, model in models.items():\n",
    "    print(f\"\\n Training Final {name} Model with Best Parameters...\")\n",
    "\n",
    "    if name not in best_params:\n",
    "        print(f\" No best parameters found for {name}. Skipping training.\")\n",
    "        continue  # Skip if tuning failed\n",
    "\n",
    "    # Use a different variable name to avoid conflicts\n",
    "    best_model_params = best_params[name]  \n",
    "    final_model = model.set_params(**best_model_params)  \n",
    "    final_model.fit(X_train, y_train)\n",
    "\n",
    "    # Evaluate the model on the test set\n",
    "    y_pred_final = final_model.predict(X_test)\n",
    "    final_accuracy = accuracy_score(y_test, y_pred_final)\n",
    "    final_classification_report = classification_report(y_test, y_pred_final)\n",
    "\n",
    "    # Store results\n",
    "    final_models[name] = final_model\n",
    "    final_results[name] = {\n",
    "        \"accuracy\": final_accuracy,\n",
    "        \"classification_report\": final_classification_report\n",
    "    }\n",
    "\n",
    "    print(f\" {name} Final Model Accuracy: {final_accuracy:.4f}\")\n",
    "    print(f\"\\n Final Classification Report for {name}:\\n{final_classification_report}\")\n",
    "\n"
   ]
  },
  {
   "cell_type": "code",
   "execution_count": 14,
   "metadata": {
    "colab": {
     "base_uri": "https://localhost:8080/"
    },
    "execution": {
     "iopub.execute_input": "2025-03-29T13:39:17.508443Z",
     "iopub.status.busy": "2025-03-29T13:39:17.508359Z",
     "iopub.status.idle": "2025-03-29T13:39:17.523291Z",
     "shell.execute_reply": "2025-03-29T13:39:17.522970Z"
    },
    "id": "XkApOiOtVaTL",
    "outputId": "95693e60-a23e-4399-f08b-96747a803b4e"
   },
   "outputs": [],
   "source": [
    "model_filename_map = {\n",
    "    \"AdaBoost\": \"ada_boost_model.pkl\",\n",
    "    \"GradientBoosting\": \"gradient_boosting_model.pkl\"\n",
    "}\n",
    "\n",
    "# Save both models\n",
    "for name, model in final_models.items():\n",
    "    filename = f'../models/{model_filename_map.get(name, name)}'\n",
    "    # Save the model using pickle\n",
    "    with open(filename, 'wb') as file:\n",
    "        pickle.dump(model, file)"
   ]
  }
 ],
 "metadata": {
  "colab": {
   "provenance": []
  },
  "kernelspec": {
   "display_name": "ml-project",
   "language": "python",
   "name": "python3"
  },
  "language_info": {
   "codemirror_mode": {
    "name": "ipython",
    "version": 3
   },
   "file_extension": ".py",
   "mimetype": "text/x-python",
   "name": "python",
   "nbconvert_exporter": "python",
   "pygments_lexer": "ipython3",
   "version": "3.12.9"
  }
 },
 "nbformat": 4,
 "nbformat_minor": 0
}
