{
 "cells": [
  {
   "cell_type": "markdown",
   "metadata": {
    "id": "zVVfdsB0T0v6"
   },
   "source": [
    "# Decision Tree Model for Diabetes Prediction"
   ]
  },
  {
   "cell_type": "code",
   "execution_count": 1,
   "metadata": {
    "execution": {
     "iopub.execute_input": "2025-03-28T11:56:09.073423Z",
     "iopub.status.busy": "2025-03-28T11:56:09.073335Z",
     "iopub.status.idle": "2025-03-28T11:56:09.788710Z",
     "shell.execute_reply": "2025-03-28T11:56:09.788287Z"
    },
    "id": "eHaEAX1MT0v8"
   },
   "outputs": [],
   "source": [
    "import numpy as np\n",
    "import pandas as pd\n",
    "import matplotlib.pyplot as plt\n",
    "import seaborn as sns\n",
    "import pickle"
   ]
  },
  {
   "cell_type": "markdown",
   "metadata": {
    "id": "cuRAkoSDT0v9"
   },
   "source": [
    "## 1. Data Acquisition"
   ]
  },
  {
   "cell_type": "code",
   "execution_count": 2,
   "metadata": {
    "colab": {
     "base_uri": "https://localhost:8080/"
    },
    "execution": {
     "iopub.execute_input": "2025-03-28T11:56:09.790057Z",
     "iopub.status.busy": "2025-03-28T11:56:09.789859Z",
     "iopub.status.idle": "2025-03-28T11:56:09.813082Z",
     "shell.execute_reply": "2025-03-28T11:56:09.812794Z"
    },
    "id": "kxbIP0h_T0v-",
    "outputId": "d333aa0f-8d75-4320-f6f3-3a694bbb2ea3"
   },
   "outputs": [
    {
     "data": {
      "text/plain": [
       "(15298, 18)"
      ]
     },
     "execution_count": 2,
     "metadata": {},
     "output_type": "execute_result"
    }
   ],
   "source": [
    "df = pd.read_csv(\"../datasets/Processed_data.csv\",sep=\",\",index_col=\"PatientID\")\n",
    "df.shape"
   ]
  },
  {
   "cell_type": "markdown",
   "metadata": {
    "id": "6Z4dD7AQT0v-"
   },
   "source": [
    "## 2. Data Preparation"
   ]
  },
  {
   "cell_type": "code",
   "execution_count": 3,
   "metadata": {
    "execution": {
     "iopub.execute_input": "2025-03-28T11:56:09.834193Z",
     "iopub.status.busy": "2025-03-28T11:56:09.833914Z",
     "iopub.status.idle": "2025-03-28T11:56:09.875339Z",
     "shell.execute_reply": "2025-03-28T11:56:09.875026Z"
    },
    "id": "V3oi4Da5T0v_"
   },
   "outputs": [],
   "source": [
    "from sklearn.model_selection import train_test_split"
   ]
  },
  {
   "cell_type": "code",
   "execution_count": 4,
   "metadata": {
    "execution": {
     "iopub.execute_input": "2025-03-28T11:56:09.877228Z",
     "iopub.status.busy": "2025-03-28T11:56:09.877068Z",
     "iopub.status.idle": "2025-03-28T11:56:09.881450Z",
     "shell.execute_reply": "2025-03-28T11:56:09.881173Z"
    },
    "id": "7CWCuXXHT0v_"
   },
   "outputs": [],
   "source": [
    "# Split data into training and testing sets\n",
    "df_train, df_test = train_test_split(df, test_size=0.2, random_state=42)"
   ]
  },
  {
   "cell_type": "code",
   "execution_count": 5,
   "metadata": {
    "colab": {
     "base_uri": "https://localhost:8080/"
    },
    "execution": {
     "iopub.execute_input": "2025-03-28T11:56:09.882626Z",
     "iopub.status.busy": "2025-03-28T11:56:09.882537Z",
     "iopub.status.idle": "2025-03-28T11:56:09.884768Z",
     "shell.execute_reply": "2025-03-28T11:56:09.884551Z"
    },
    "id": "gyXRvQg6T0v_",
    "outputId": "43cbcce3-6852-4b5d-fdcf-674191706782"
   },
   "outputs": [
    {
     "data": {
      "text/plain": [
       "(12238, 18)"
      ]
     },
     "execution_count": 5,
     "metadata": {},
     "output_type": "execute_result"
    }
   ],
   "source": [
    "# Display training data shape\n",
    "df_train.shape"
   ]
  },
  {
   "cell_type": "code",
   "execution_count": 6,
   "metadata": {
    "execution": {
     "iopub.execute_input": "2025-03-28T11:56:09.885565Z",
     "iopub.status.busy": "2025-03-28T11:56:09.885486Z",
     "iopub.status.idle": "2025-03-28T11:56:09.887102Z",
     "shell.execute_reply": "2025-03-28T11:56:09.886873Z"
    },
    "id": "arrsIGI-T0wA"
   },
   "outputs": [],
   "source": [
    "# Define feature columns for clarity\n",
    "feature_columns = ['Pregnancies', 'PlasmaGlucose', 'DiastolicBloodPressure',\n",
    "                   'TricepsThickness', 'SerumInsulin', 'BMI', 'DiabetesPedigree', 'Age']"
   ]
  },
  {
   "cell_type": "code",
   "execution_count": 7,
   "metadata": {
    "execution": {
     "iopub.execute_input": "2025-03-28T11:56:09.887817Z",
     "iopub.status.busy": "2025-03-28T11:56:09.887743Z",
     "iopub.status.idle": "2025-03-28T11:56:09.891084Z",
     "shell.execute_reply": "2025-03-28T11:56:09.890674Z"
    },
    "id": "PlPr1UzQT0wB"
   },
   "outputs": [],
   "source": [
    "# Extract features and target for training data\n",
    "X_train = df_train.loc[:, feature_columns].values\n",
    "y_train = df_train.Diabetic.values"
   ]
  },
  {
   "cell_type": "code",
   "execution_count": 8,
   "metadata": {
    "execution": {
     "iopub.execute_input": "2025-03-28T11:56:09.892135Z",
     "iopub.status.busy": "2025-03-28T11:56:09.892056Z",
     "iopub.status.idle": "2025-03-28T11:56:09.894212Z",
     "shell.execute_reply": "2025-03-28T11:56:09.893940Z"
    },
    "id": "r94OgQ1AT0wB"
   },
   "outputs": [],
   "source": [
    "# Extract features and target for test data\n",
    "X_test = df_test.loc[:, feature_columns].values\n",
    "y_test = df_test.Diabetic.values"
   ]
  },
  {
   "cell_type": "markdown",
   "metadata": {
    "id": "nlkbWFJeT0wC"
   },
   "source": [
    "## 3. Decision Tree Model Implementation"
   ]
  },
  {
   "cell_type": "code",
   "execution_count": 9,
   "metadata": {
    "execution": {
     "iopub.execute_input": "2025-03-28T11:56:09.895244Z",
     "iopub.status.busy": "2025-03-28T11:56:09.895099Z",
     "iopub.status.idle": "2025-03-28T11:56:09.949464Z",
     "shell.execute_reply": "2025-03-28T11:56:09.948859Z"
    },
    "id": "9gtPgAbCT0wC"
   },
   "outputs": [],
   "source": [
    "from sklearn.tree import DecisionTreeClassifier\n",
    "\n",
    "# Initialize decision tree classifier\n",
    "dt_classifier = DecisionTreeClassifier(max_depth=5, random_state=42)\n",
    "\n",
    "# Train the model\n",
    "dt_classifier.fit(X=X_train, y=y_train)\n",
    "\n",
    "# Predict on test data\n",
    "y_test_predicted = dt_classifier.predict(X_test)"
   ]
  },
  {
   "cell_type": "code",
   "execution_count": 10,
   "metadata": {
    "colab": {
     "base_uri": "https://localhost:8080/"
    },
    "execution": {
     "iopub.execute_input": "2025-03-28T11:56:09.951304Z",
     "iopub.status.busy": "2025-03-28T11:56:09.951052Z",
     "iopub.status.idle": "2025-03-28T11:56:09.953453Z",
     "shell.execute_reply": "2025-03-28T11:56:09.953268Z"
    },
    "id": "F2OuKlSWT0wD",
    "outputId": "78e11752-a5ea-46b2-eb61-01db8dc7ed6b"
   },
   "outputs": [
    {
     "name": "stdout",
     "output_type": "stream",
     "text": [
      "Accuracy: 0.9284313725490196\n"
     ]
    }
   ],
   "source": [
    "# Calculate basic accuracy\n",
    "accuracy = (y_test_predicted == y_test).sum() / len(y_test)\n",
    "print(f\"Accuracy: {accuracy}\")"
   ]
  },
  {
   "cell_type": "markdown",
   "metadata": {
    "id": "8BQIfY66T0wD"
   },
   "source": [
    "## 4. Model Evaluation"
   ]
  },
  {
   "cell_type": "markdown",
   "metadata": {
    "id": "bSfWSZnET0wE"
   },
   "source": [
    "### 4.1 Confusion Matrix"
   ]
  },
  {
   "cell_type": "code",
   "execution_count": 11,
   "metadata": {
    "execution": {
     "iopub.execute_input": "2025-03-28T11:56:09.954981Z",
     "iopub.status.busy": "2025-03-28T11:56:09.954881Z",
     "iopub.status.idle": "2025-03-28T11:56:09.956556Z",
     "shell.execute_reply": "2025-03-28T11:56:09.956297Z"
    },
    "id": "ACKVG45KT0wE"
   },
   "outputs": [],
   "source": [
    "from sklearn.metrics import confusion_matrix"
   ]
  },
  {
   "cell_type": "code",
   "execution_count": 12,
   "metadata": {
    "colab": {
     "base_uri": "https://localhost:8080/",
     "height": 125
    },
    "execution": {
     "iopub.execute_input": "2025-03-28T11:56:09.957331Z",
     "iopub.status.busy": "2025-03-28T11:56:09.957252Z",
     "iopub.status.idle": "2025-03-28T11:56:09.962939Z",
     "shell.execute_reply": "2025-03-28T11:56:09.962653Z"
    },
    "id": "rAusTaUxT0wE",
    "outputId": "06288227-c77a-4104-af3c-3e2365f09744"
   },
   "outputs": [
    {
     "data": {
      "text/html": [
       "<div>\n",
       "<style scoped>\n",
       "    .dataframe tbody tr th:only-of-type {\n",
       "        vertical-align: middle;\n",
       "    }\n",
       "\n",
       "    .dataframe tbody tr th {\n",
       "        vertical-align: top;\n",
       "    }\n",
       "\n",
       "    .dataframe thead th {\n",
       "        text-align: right;\n",
       "    }\n",
       "</style>\n",
       "<table border=\"1\" class=\"dataframe\">\n",
       "  <thead>\n",
       "    <tr style=\"text-align: right;\">\n",
       "      <th></th>\n",
       "      <th>y_test_0</th>\n",
       "      <th>y_test_1</th>\n",
       "    </tr>\n",
       "  </thead>\n",
       "  <tbody>\n",
       "    <tr>\n",
       "      <th>y_pred_0</th>\n",
       "      <td>1441</td>\n",
       "      <td>116</td>\n",
       "    </tr>\n",
       "    <tr>\n",
       "      <th>y_pred_1</th>\n",
       "      <td>103</td>\n",
       "      <td>1400</td>\n",
       "    </tr>\n",
       "  </tbody>\n",
       "</table>\n",
       "</div>"
      ],
      "text/plain": [
       "         y_test_0 y_test_1\n",
       "y_pred_0     1441      116\n",
       "y_pred_1      103     1400"
      ]
     },
     "execution_count": 12,
     "metadata": {},
     "output_type": "execute_result"
    }
   ],
   "source": [
    "# Create confusion matrix\n",
    "cf = pd.DataFrame(\n",
    "    columns=[\"y_test_0\", \"y_test_1\"], index=[\"y_pred_0\", \"y_pred_1\"]\n",
    ")\n",
    "\n",
    "cf.loc[:, :] = confusion_matrix(y_true=y_test, y_pred=y_test_predicted)\n",
    "cf"
   ]
  },
  {
   "cell_type": "markdown",
   "metadata": {
    "id": "E76QqXUKT0wF"
   },
   "source": [
    "### 4.2 Classification Metrics"
   ]
  },
  {
   "cell_type": "code",
   "execution_count": 13,
   "metadata": {
    "execution": {
     "iopub.execute_input": "2025-03-28T11:56:09.964353Z",
     "iopub.status.busy": "2025-03-28T11:56:09.964265Z",
     "iopub.status.idle": "2025-03-28T11:56:09.966328Z",
     "shell.execute_reply": "2025-03-28T11:56:09.966007Z"
    },
    "id": "OQTKWe5RT0wF"
   },
   "outputs": [],
   "source": [
    "from sklearn.metrics import recall_score, precision_score, classification_report"
   ]
  },
  {
   "cell_type": "code",
   "execution_count": 14,
   "metadata": {
    "colab": {
     "base_uri": "https://localhost:8080/"
    },
    "execution": {
     "iopub.execute_input": "2025-03-28T11:56:09.967197Z",
     "iopub.status.busy": "2025-03-28T11:56:09.967116Z",
     "iopub.status.idle": "2025-03-28T11:56:09.971561Z",
     "shell.execute_reply": "2025-03-28T11:56:09.971185Z"
    },
    "id": "V9fRAxnTT0wG",
    "outputId": "f6f6c26e-9c5a-4f8c-8dea-48482eddb4e1"
   },
   "outputs": [
    {
     "name": "stdout",
     "output_type": "stream",
     "text": [
      "Recall: 0.9314703925482368,\n",
      "Precision: 0.9234828496042217\n"
     ]
    }
   ],
   "source": [
    "# Calculate recall and precision\n",
    "recall = recall_score(y_true=y_test, y_pred=y_test_predicted)\n",
    "precision = precision_score(y_true=y_test, y_pred=y_test_predicted)\n",
    "\n",
    "print(f\"Recall: {recall},\\nPrecision: {precision}\")"
   ]
  },
  {
   "cell_type": "code",
   "execution_count": 15,
   "metadata": {
    "colab": {
     "base_uri": "https://localhost:8080/"
    },
    "execution": {
     "iopub.execute_input": "2025-03-28T11:56:09.972464Z",
     "iopub.status.busy": "2025-03-28T11:56:09.972378Z",
     "iopub.status.idle": "2025-03-28T11:56:09.977195Z",
     "shell.execute_reply": "2025-03-28T11:56:09.976961Z"
    },
    "id": "5qPh1vquT0wG",
    "outputId": "6e472f71-c376-472e-dd3a-046a635a7d6d"
   },
   "outputs": [
    {
     "name": "stdout",
     "output_type": "stream",
     "text": [
      "Classification Report:\n",
      "              precision    recall  f1-score   support\n",
      "\n",
      "           0       0.93      0.93      0.93      1557\n",
      "           1       0.92      0.93      0.93      1503\n",
      "\n",
      "    accuracy                           0.93      3060\n",
      "   macro avg       0.93      0.93      0.93      3060\n",
      "weighted avg       0.93      0.93      0.93      3060\n",
      "\n"
     ]
    }
   ],
   "source": [
    "# Generate classification report\n",
    "report = classification_report(y_true=y_test, y_pred=y_test_predicted)\n",
    "print(\"Classification Report:\")\n",
    "print(report)"
   ]
  },
  {
   "cell_type": "markdown",
   "metadata": {
    "id": "620jqQJ7T0wH"
   },
   "source": [
    "## 7. Hyperparameter Tuning"
   ]
  },
  {
   "cell_type": "code",
   "execution_count": 16,
   "metadata": {
    "colab": {
     "base_uri": "https://localhost:8080/"
    },
    "execution": {
     "iopub.execute_input": "2025-03-28T11:56:09.978193Z",
     "iopub.status.busy": "2025-03-28T11:56:09.978109Z",
     "iopub.status.idle": "2025-03-28T11:56:12.433853Z",
     "shell.execute_reply": "2025-03-28T11:56:12.433608Z"
    },
    "id": "uCd5omZXT0wH",
    "outputId": "f28a1a1e-336b-4fef-f988-052af1a57b99"
   },
   "outputs": [
    {
     "name": "stdout",
     "output_type": "stream",
     "text": [
      "Best Parameters: {'criterion': 'entropy', 'max_depth': 10, 'min_samples_leaf': 10}\n",
      "Best Cross-Validation Score: 0.9327502196901101\n"
     ]
    }
   ],
   "source": [
    "from sklearn.model_selection import GridSearchCV\n",
    "\n",
    "# Define parameter grid\n",
    "param_grid = {\n",
    "    'max_depth': [3, 5, 8, 10],\n",
    "    'min_samples_leaf': [1, 5, 10],\n",
    "    'criterion': ['gini', 'entropy']\n",
    "}\n",
    "\n",
    "# Setup grid search\n",
    "grid_search = GridSearchCV(DecisionTreeClassifier(random_state=42), param_grid, cv=5)\n",
    "grid_search.fit(X_train, y_train)\n",
    "\n",
    "# Show best parameters\n",
    "print(f\"Best Parameters: {grid_search.best_params_}\")\n",
    "print(f\"Best Cross-Validation Score: {grid_search.best_score_}\")"
   ]
  },
  {
   "cell_type": "markdown",
   "metadata": {
    "id": "Vov7Q5vdT0wH"
   },
   "source": [
    "## 8. Final Model and Evaluation"
   ]
  },
  {
   "cell_type": "code",
   "execution_count": 17,
   "metadata": {
    "colab": {
     "base_uri": "https://localhost:8080/"
    },
    "execution": {
     "iopub.execute_input": "2025-03-28T11:56:12.434876Z",
     "iopub.status.busy": "2025-03-28T11:56:12.434787Z",
     "iopub.status.idle": "2025-03-28T11:56:12.474392Z",
     "shell.execute_reply": "2025-03-28T11:56:12.474068Z"
    },
    "id": "kRdKWGvKT0wI",
    "outputId": "85ddff63-0b62-4cbf-a04a-fc1a146e32ae"
   },
   "outputs": [
    {
     "name": "stdout",
     "output_type": "stream",
     "text": [
      "Final Model Accuracy: 0.9359477124183007\n",
      "\n",
      "Final Classification Report:\n",
      "              precision    recall  f1-score   support\n",
      "\n",
      "           0       0.94      0.93      0.94      1557\n",
      "           1       0.93      0.94      0.94      1503\n",
      "\n",
      "    accuracy                           0.94      3060\n",
      "   macro avg       0.94      0.94      0.94      3060\n",
      "weighted avg       0.94      0.94      0.94      3060\n",
      "\n"
     ]
    }
   ],
   "source": [
    "# Create final model with best parameters\n",
    "final_model = DecisionTreeClassifier(\n",
    "    criterion=grid_search.best_params_['criterion'],\n",
    "    max_depth=grid_search.best_params_['max_depth'],\n",
    "    min_samples_leaf=grid_search.best_params_['min_samples_leaf'],\n",
    "    random_state=42\n",
    ")\n",
    "\n",
    "# Train final model\n",
    "final_model.fit(X_train, y_train)\n",
    "\n",
    "# Evaluate on test set\n",
    "y_pred_final = final_model.predict(X_test)\n",
    "final_accuracy = (y_pred_final == y_test).sum() / len(y_test)\n",
    "final_report = classification_report(y_test, y_pred_final)\n",
    "\n",
    "print(f\"Final Model Accuracy: {final_accuracy}\")\n",
    "print(f\"\\nFinal Classification Report:\\n{final_report}\")"
   ]
  },
  {
   "cell_type": "code",
   "execution_count": 18,
   "metadata": {
    "colab": {
     "base_uri": "https://localhost:8080/"
    },
    "execution": {
     "iopub.execute_input": "2025-03-28T11:56:12.476165Z",
     "iopub.status.busy": "2025-03-28T11:56:12.475903Z",
     "iopub.status.idle": "2025-03-28T11:56:12.478095Z",
     "shell.execute_reply": "2025-03-28T11:56:12.477846Z"
    },
    "id": "XkApOiOtVaTL",
    "outputId": "95693e60-a23e-4399-f08b-96747a803b4e"
   },
   "outputs": [],
   "source": [
    "# Saving the model\n",
    "with open('../models/decision_tree_model.pkl', 'wb') as file:\n",
    "    pickle.dump(final_model, file)"
   ]
  }
 ],
 "metadata": {
  "colab": {
   "provenance": []
  },
  "kernelspec": {
   "display_name": "ml-project",
   "language": "python",
   "name": "python3"
  },
  "language_info": {
   "codemirror_mode": {
    "name": "ipython",
    "version": 3
   },
   "file_extension": ".py",
   "mimetype": "text/x-python",
   "name": "python",
   "nbconvert_exporter": "python",
   "pygments_lexer": "ipython3",
   "version": "3.12.9"
  }
 },
 "nbformat": 4,
 "nbformat_minor": 0
}
