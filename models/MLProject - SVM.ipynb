{
 "cells": [
  {
   "cell_type": "markdown",
   "metadata": {},
   "source": [
    "# Support Vector Machine Model for Diabetes Prediction"
   ]
  },
  {
   "cell_type": "code",
   "execution_count": 1,
   "metadata": {},
   "outputs": [],
   "source": [
    "import pandas as pd\n",
    "import numpy as np\n",
    "import pickle\n",
    "import time\n",
    "import matplotlib.pyplot as plt\n",
    "import seaborn as sns\n",
    "from sklearn.model_selection import train_test_split, GridSearchCV\n",
    "from sklearn.svm import SVC\n",
    "from sklearn.metrics import accuracy_score, classification_report, confusion_matrix, recall_score, precision_score"
   ]
  },
  {
   "cell_type": "markdown",
   "metadata": {},
   "source": [
    "## 1. Data Acquisition"
   ]
  },
  {
   "cell_type": "code",
   "execution_count": 2,
   "metadata": {},
   "outputs": [
    {
     "name": "stdout",
     "output_type": "stream",
     "text": [
      "Dataset shape: (15298, 18)\n"
     ]
    },
    {
     "data": {
      "text/html": [
       "<div>\n",
       "<style scoped>\n",
       "    .dataframe tbody tr th:only-of-type {\n",
       "        vertical-align: middle;\n",
       "    }\n",
       "\n",
       "    .dataframe tbody tr th {\n",
       "        vertical-align: top;\n",
       "    }\n",
       "\n",
       "    .dataframe thead th {\n",
       "        text-align: right;\n",
       "    }\n",
       "</style>\n",
       "<table border=\"1\" class=\"dataframe\">\n",
       "  <thead>\n",
       "    <tr style=\"text-align: right;\">\n",
       "      <th></th>\n",
       "      <th>Pregnancies</th>\n",
       "      <th>PlasmaGlucose</th>\n",
       "      <th>DiastolicBloodPressure</th>\n",
       "      <th>TricepsThickness</th>\n",
       "      <th>SerumInsulin</th>\n",
       "      <th>BMI</th>\n",
       "      <th>DiabetesPedigree</th>\n",
       "      <th>Age</th>\n",
       "      <th>Diabetic</th>\n",
       "      <th>BMI_Age_Ratio</th>\n",
       "      <th>ISI</th>\n",
       "      <th>BP_Age_Ratio</th>\n",
       "      <th>HighRiskPregnancy</th>\n",
       "      <th>Glucose_Insulin</th>\n",
       "      <th>Pregnancies_Age_Ratio</th>\n",
       "      <th>Metabolic_Risk</th>\n",
       "      <th>Pedigree_Glucose</th>\n",
       "      <th>Fat_Index</th>\n",
       "    </tr>\n",
       "    <tr>\n",
       "      <th>PatientID</th>\n",
       "      <th></th>\n",
       "      <th></th>\n",
       "      <th></th>\n",
       "      <th></th>\n",
       "      <th></th>\n",
       "      <th></th>\n",
       "      <th></th>\n",
       "      <th></th>\n",
       "      <th></th>\n",
       "      <th></th>\n",
       "      <th></th>\n",
       "      <th></th>\n",
       "      <th></th>\n",
       "      <th></th>\n",
       "      <th></th>\n",
       "      <th></th>\n",
       "      <th></th>\n",
       "      <th></th>\n",
       "    </tr>\n",
       "  </thead>\n",
       "  <tbody>\n",
       "    <tr>\n",
       "      <th>1</th>\n",
       "      <td>0</td>\n",
       "      <td>158</td>\n",
       "      <td>80</td>\n",
       "      <td>34</td>\n",
       "      <td>23</td>\n",
       "      <td>43.509726</td>\n",
       "      <td>0.981927</td>\n",
       "      <td>21</td>\n",
       "      <td>0</td>\n",
       "      <td>2.071892</td>\n",
       "      <td>2.751789</td>\n",
       "      <td>3.809524</td>\n",
       "      <td>0.000000</td>\n",
       "      <td>3634</td>\n",
       "      <td>0.000000</td>\n",
       "      <td>93.836575</td>\n",
       "      <td>155.144416</td>\n",
       "      <td>38.754863</td>\n",
       "    </tr>\n",
       "    <tr>\n",
       "      <th>2</th>\n",
       "      <td>7</td>\n",
       "      <td>103</td>\n",
       "      <td>78</td>\n",
       "      <td>25</td>\n",
       "      <td>269</td>\n",
       "      <td>29.582192</td>\n",
       "      <td>0.981927</td>\n",
       "      <td>43</td>\n",
       "      <td>1</td>\n",
       "      <td>0.687958</td>\n",
       "      <td>0.360920</td>\n",
       "      <td>1.813953</td>\n",
       "      <td>4.815706</td>\n",
       "      <td>27707</td>\n",
       "      <td>0.162791</td>\n",
       "      <td>70.194064</td>\n",
       "      <td>101.138448</td>\n",
       "      <td>27.291096</td>\n",
       "    </tr>\n",
       "    <tr>\n",
       "      <th>3</th>\n",
       "      <td>1</td>\n",
       "      <td>85</td>\n",
       "      <td>59</td>\n",
       "      <td>27</td>\n",
       "      <td>35</td>\n",
       "      <td>42.604536</td>\n",
       "      <td>0.549542</td>\n",
       "      <td>22</td>\n",
       "      <td>0</td>\n",
       "      <td>1.936570</td>\n",
       "      <td>3.361345</td>\n",
       "      <td>2.681818</td>\n",
       "      <td>1.936570</td>\n",
       "      <td>2975</td>\n",
       "      <td>0.045455</td>\n",
       "      <td>62.201512</td>\n",
       "      <td>46.711059</td>\n",
       "      <td>34.802268</td>\n",
       "    </tr>\n",
       "    <tr>\n",
       "      <th>4</th>\n",
       "      <td>0</td>\n",
       "      <td>82</td>\n",
       "      <td>92</td>\n",
       "      <td>9</td>\n",
       "      <td>253</td>\n",
       "      <td>19.724160</td>\n",
       "      <td>0.103424</td>\n",
       "      <td>26</td>\n",
       "      <td>0</td>\n",
       "      <td>0.758622</td>\n",
       "      <td>0.482021</td>\n",
       "      <td>3.538462</td>\n",
       "      <td>0.000000</td>\n",
       "      <td>20746</td>\n",
       "      <td>0.000000</td>\n",
       "      <td>64.574720</td>\n",
       "      <td>8.480809</td>\n",
       "      <td>14.362080</td>\n",
       "    </tr>\n",
       "    <tr>\n",
       "      <th>5</th>\n",
       "      <td>0</td>\n",
       "      <td>133</td>\n",
       "      <td>49</td>\n",
       "      <td>19</td>\n",
       "      <td>227</td>\n",
       "      <td>21.941357</td>\n",
       "      <td>0.174160</td>\n",
       "      <td>21</td>\n",
       "      <td>0</td>\n",
       "      <td>1.044827</td>\n",
       "      <td>0.331225</td>\n",
       "      <td>2.333333</td>\n",
       "      <td>0.000000</td>\n",
       "      <td>30191</td>\n",
       "      <td>0.000000</td>\n",
       "      <td>67.980452</td>\n",
       "      <td>23.163251</td>\n",
       "      <td>20.470678</td>\n",
       "    </tr>\n",
       "  </tbody>\n",
       "</table>\n",
       "</div>"
      ],
      "text/plain": [
       "           Pregnancies  PlasmaGlucose  DiastolicBloodPressure  \\\n",
       "PatientID                                                       \n",
       "1                    0            158                      80   \n",
       "2                    7            103                      78   \n",
       "3                    1             85                      59   \n",
       "4                    0             82                      92   \n",
       "5                    0            133                      49   \n",
       "\n",
       "           TricepsThickness  SerumInsulin        BMI  DiabetesPedigree  Age  \\\n",
       "PatientID                                                                     \n",
       "1                        34            23  43.509726          0.981927   21   \n",
       "2                        25           269  29.582192          0.981927   43   \n",
       "3                        27            35  42.604536          0.549542   22   \n",
       "4                         9           253  19.724160          0.103424   26   \n",
       "5                        19           227  21.941357          0.174160   21   \n",
       "\n",
       "           Diabetic  BMI_Age_Ratio       ISI  BP_Age_Ratio  HighRiskPregnancy  \\\n",
       "PatientID                                                                       \n",
       "1                 0       2.071892  2.751789      3.809524           0.000000   \n",
       "2                 1       0.687958  0.360920      1.813953           4.815706   \n",
       "3                 0       1.936570  3.361345      2.681818           1.936570   \n",
       "4                 0       0.758622  0.482021      3.538462           0.000000   \n",
       "5                 0       1.044827  0.331225      2.333333           0.000000   \n",
       "\n",
       "           Glucose_Insulin  Pregnancies_Age_Ratio  Metabolic_Risk  \\\n",
       "PatientID                                                           \n",
       "1                     3634               0.000000       93.836575   \n",
       "2                    27707               0.162791       70.194064   \n",
       "3                     2975               0.045455       62.201512   \n",
       "4                    20746               0.000000       64.574720   \n",
       "5                    30191               0.000000       67.980452   \n",
       "\n",
       "           Pedigree_Glucose  Fat_Index  \n",
       "PatientID                               \n",
       "1                155.144416  38.754863  \n",
       "2                101.138448  27.291096  \n",
       "3                 46.711059  34.802268  \n",
       "4                  8.480809  14.362080  \n",
       "5                 23.163251  20.470678  "
      ]
     },
     "execution_count": 2,
     "metadata": {},
     "output_type": "execute_result"
    }
   ],
   "source": [
    "# Reading the dataset\n",
    "df = pd.read_csv(\"../datasets/Processed_data.csv\", sep=\",\", index_col=\"PatientID\")\n",
    "print(f\"Dataset shape: {df.shape}\")\n",
    "df.head()"
   ]
  },
  {
   "cell_type": "markdown",
   "metadata": {},
   "source": [
    "## 2. Data Preparation"
   ]
  },
  {
   "cell_type": "code",
   "execution_count": 3,
   "metadata": {},
   "outputs": [
    {
     "name": "stdout",
     "output_type": "stream",
     "text": [
      "Training data shape: (12238, 18)\n",
      "Testing data shape: (3060, 18)\n"
     ]
    }
   ],
   "source": [
    "# Split data into training and testing sets\n",
    "df_train, df_test = train_test_split(df, test_size=0.2, random_state=42)\n",
    "\n",
    "print(f\"Training data shape: {df_train.shape}\")\n",
    "print(f\"Testing data shape: {df_test.shape}\")"
   ]
  },
  {
   "cell_type": "code",
   "execution_count": 4,
   "metadata": {},
   "outputs": [],
   "source": [
    "# Define feature columns\n",
    "feature_columns = ['Pregnancies', 'PlasmaGlucose', 'DiastolicBloodPressure',\n",
    "                   'TricepsThickness', 'SerumInsulin', 'BMI', 'DiabetesPedigree', 'Age']\n",
    "\n",
    "# Extract features and target for training data\n",
    "X_train = df_train.loc[:, feature_columns].values\n",
    "y_train = df_train.Diabetic.values\n",
    "\n",
    "# Extract features and target for test data\n",
    "X_test = df_test.loc[:, feature_columns].values\n",
    "y_test = df_test.Diabetic.values"
   ]
  },
  {
   "cell_type": "markdown",
   "metadata": {},
   "source": [
    "## 3. SVM Model Implementation"
   ]
  },
  {
   "cell_type": "code",
   "execution_count": 5,
   "metadata": {},
   "outputs": [
    {
     "name": "stdout",
     "output_type": "stream",
     "text": [
      "Training base SVM model...\n",
      "SVM training completed in 1.69 seconds\n"
     ]
    }
   ],
   "source": [
    "# Initialize and train the base SVM model\n",
    "print(\"Training base SVM model...\")\n",
    "start_time = time.time()\n",
    "\n",
    "svm_model = SVC(C=1.0, kernel=\"rbf\", gamma=\"scale\", random_state=42)\n",
    "svm_model.fit(X_train, y_train)\n",
    "\n",
    "end_time = time.time()\n",
    "training_time = end_time - start_time\n",
    "print(f\"SVM training completed in {training_time:.2f} seconds\")"
   ]
  },
  {
   "cell_type": "code",
   "execution_count": 6,
   "metadata": {},
   "outputs": [
    {
     "name": "stdout",
     "output_type": "stream",
     "text": [
      "Base SVM Model Accuracy: 0.8356\n"
     ]
    }
   ],
   "source": [
    "# Make predictions with the base model\n",
    "y_pred = svm_model.predict(X_test)\n",
    "\n",
    "# Calculate accuracy\n",
    "accuracy = accuracy_score(y_test, y_pred)\n",
    "print(f\"Base SVM Model Accuracy: {accuracy:.4f}\")"
   ]
  },
  {
   "cell_type": "markdown",
   "metadata": {},
   "source": [
    "## 4. Model Evaluation"
   ]
  },
  {
   "cell_type": "markdown",
   "metadata": {},
   "source": [
    "### 4.1 Confusion Matrix"
   ]
  },
  {
   "cell_type": "code",
   "execution_count": 7,
   "metadata": {},
   "outputs": [
    {
     "data": {
      "text/html": [
       "<div>\n",
       "<style scoped>\n",
       "    .dataframe tbody tr th:only-of-type {\n",
       "        vertical-align: middle;\n",
       "    }\n",
       "\n",
       "    .dataframe tbody tr th {\n",
       "        vertical-align: top;\n",
       "    }\n",
       "\n",
       "    .dataframe thead th {\n",
       "        text-align: right;\n",
       "    }\n",
       "</style>\n",
       "<table border=\"1\" class=\"dataframe\">\n",
       "  <thead>\n",
       "    <tr style=\"text-align: right;\">\n",
       "      <th></th>\n",
       "      <th>y_test_0</th>\n",
       "      <th>y_test_1</th>\n",
       "    </tr>\n",
       "  </thead>\n",
       "  <tbody>\n",
       "    <tr>\n",
       "      <th>y_pred_0</th>\n",
       "      <td>1298</td>\n",
       "      <td>259</td>\n",
       "    </tr>\n",
       "    <tr>\n",
       "      <th>y_pred_1</th>\n",
       "      <td>244</td>\n",
       "      <td>1259</td>\n",
       "    </tr>\n",
       "  </tbody>\n",
       "</table>\n",
       "</div>"
      ],
      "text/plain": [
       "         y_test_0 y_test_1\n",
       "y_pred_0     1298      259\n",
       "y_pred_1      244     1259"
      ]
     },
     "execution_count": 7,
     "metadata": {},
     "output_type": "execute_result"
    }
   ],
   "source": [
    "# Create confusion matrix\n",
    "cf = pd.DataFrame(\n",
    "    columns=[\"y_test_0\", \"y_test_1\"], \n",
    "    index=[\"y_pred_0\", \"y_pred_1\"]\n",
    ")\n",
    "\n",
    "cf.loc[:, :] = confusion_matrix(y_true=y_test, y_pred=y_pred)\n",
    "cf"
   ]
  },
  {
   "cell_type": "code",
   "execution_count": 20,
   "metadata": {},
   "outputs": [
    {
     "data": {
      "image/png": "[encoded data removed]",
      "text/plain": [
       "<Figure size 800x600 with 2 Axes>"
      ]
     },
     "metadata": {},
     "output_type": "display_data"
    }
   ],
   "source": [
    "cm = confusion_matrix(y_true=y_test, y_pred=y_pred)\n",
    "plt.figure(figsize=(8, 6))\n",
    "sns.heatmap(cm, annot=True, fmt='d', cmap='Blues',\n",
    "            xticklabels=['Non-Diabetic', 'Diabetic'],\n",
    "            yticklabels=['Non-Diabetic', 'Diabetic'])\n",
    "plt.title('SVM Confusion Matrix')\n",
    "plt.ylabel('Predicted')\n",
    "plt.xlabel('Actual')\n",
    "plt.show()"
   ]
  },
  {
   "cell_type": "markdown",
   "metadata": {},
   "source": [
    "### 4.2 Classification Metrics"
   ]
  },
  {
   "cell_type": "code",
   "execution_count": 9,
   "metadata": {},
   "outputs": [
    {
     "name": "stdout",
     "output_type": "stream",
     "text": [
      "Recall: 0.8377\n",
      "Precision: 0.8294\n"
     ]
    }
   ],
   "source": [
    "# Calculate recall and precision\n",
    "recall = recall_score(y_true=y_test, y_pred=y_pred)\n",
    "precision = precision_score(y_true=y_test, y_pred=y_pred)\n",
    "\n",
    "print(f\"Recall: {recall:.4f}\")\n",
    "print(f\"Precision: {precision:.4f}\")"
   ]
  },
  {
   "cell_type": "code",
   "execution_count": 10,
   "metadata": {},
   "outputs": [
    {
     "name": "stdout",
     "output_type": "stream",
     "text": [
      "Classification Report:\n",
      "              precision    recall  f1-score   support\n",
      "\n",
      "           0       0.84      0.83      0.84      1557\n",
      "           1       0.83      0.84      0.83      1503\n",
      "\n",
      "    accuracy                           0.84      3060\n",
      "   macro avg       0.84      0.84      0.84      3060\n",
      "weighted avg       0.84      0.84      0.84      3060\n",
      "\n"
     ]
    }
   ],
   "source": [
    "# Generate full classification report\n",
    "report = classification_report(y_true=y_test, y_pred=y_pred)\n",
    "print(\"Classification Report:\")\n",
    "print(report)"
   ]
  },
  {
   "cell_type": "markdown",
   "metadata": {},
   "source": [
    "## 5. Hyperparameter Tuning"
   ]
  },
  {
   "cell_type": "code",
   "execution_count": 11,
   "metadata": {},
   "outputs": [
    {
     "name": "stdout",
     "output_type": "stream",
     "text": [
      "Starting hyperparameter tuning with GridSearchCV...\n",
      "Note: This process can take a long time (potentially hours) to complete.\n",
      "Fitting 5 folds for each of 18 candidates, totalling 90 fits\n",
      "\n",
      "Grid search completed in 676.86 seconds (11.28 minutes)\n",
      "Best Parameters: {'C': 10, 'gamma': 'scale', 'kernel': 'rbf'}\n",
      "Best Cross-Validation Score: 0.8715\n"
     ]
    }
   ],
   "source": [
    "print(\"Starting hyperparameter tuning with GridSearchCV...\")\n",
    "print(\"Note: This process can take a long time (potentially hours) to complete.\")\n",
    "\n",
    "# Define parameter grid (reduced to speed up execution)\n",
    "param_grid = {\n",
    "    'C': [0.1, 1, 10],  # Reduced from [0.1, 1, 10, 100]\n",
    "    'gamma': ['scale', 'auto', 0.1],  # Fixed typo and reduced options\n",
    "    'kernel': ['rbf', 'linear']\n",
    "}\n",
    "\n",
    "# Setup grid search with parallelization\n",
    "start_time = time.time()\n",
    "\n",
    "grid_search = GridSearchCV(\n",
    "    SVC(random_state=42),\n",
    "    param_grid, \n",
    "    cv=5,\n",
    "    n_jobs=-1,  # Use all available cores\n",
    "    verbose=1   # Show progress\n",
    ")\n",
    "\n",
    "grid_search.fit(X_train, y_train)\n",
    "\n",
    "end_time = time.time()\n",
    "tuning_time = end_time - start_time\n",
    "\n",
    "print(f\"\\nGrid search completed in {tuning_time:.2f} seconds ({tuning_time/60:.2f} minutes)\")\n",
    "print(f\"Best Parameters: {grid_search.best_params_}\")\n",
    "print(f\"Best Cross-Validation Score: {grid_search.best_score_:.4f}\")"
   ]
  },
  {
   "cell_type": "markdown",
   "metadata": {},
   "source": [
    "## 6. Final Model and Evaluation"
   ]
  },
  {
   "cell_type": "code",
   "execution_count": 12,
   "metadata": {},
   "outputs": [
    {
     "name": "stdout",
     "output_type": "stream",
     "text": [
      "Final Optimized SVM Model Accuracy: 0.8778\n"
     ]
    }
   ],
   "source": [
    "# Create final model with best parameters\n",
    "final_model = SVC(\n",
    "    C=grid_search.best_params_['C'],\n",
    "    gamma=grid_search.best_params_['gamma'],\n",
    "    kernel=grid_search.best_params_['kernel'],\n",
    "    random_state=42\n",
    ")\n",
    "\n",
    "# Train final model\n",
    "final_model.fit(X_train, y_train)\n",
    "\n",
    "# Predict with optimized model\n",
    "y_pred_final = final_model.predict(X_test)\n",
    "\n",
    "# Calculate accuracy\n",
    "final_accuracy = accuracy_score(y_test, y_pred_final)\n",
    "print(f\"Final Optimized SVM Model Accuracy: {final_accuracy:.4f}\")"
   ]
  },
  {
   "cell_type": "code",
   "execution_count": 13,
   "metadata": {},
   "outputs": [
    {
     "name": "stdout",
     "output_type": "stream",
     "text": [
      "Final Classification Report:\n",
      "              precision    recall  f1-score   support\n",
      "\n",
      "           0       0.89      0.86      0.88      1557\n",
      "           1       0.86      0.89      0.88      1503\n",
      "\n",
      "    accuracy                           0.88      3060\n",
      "   macro avg       0.88      0.88      0.88      3060\n",
      "weighted avg       0.88      0.88      0.88      3060\n",
      "\n"
     ]
    }
   ],
   "source": [
    "# Generate final classification report\n",
    "final_report = classification_report(y_test, y_pred_final)\n",
    "print(\"Final Classification Report:\")\n",
    "print(final_report)"
   ]
  },
  {
   "cell_type": "code",
   "execution_count": 14,
   "metadata": {},
   "outputs": [
    {
     "data": {
      "image/png": "[encoded data removed]",
      "text/plain": [
       "<Figure size 800x600 with 2 Axes>"
      ]
     },
     "metadata": {},
     "output_type": "display_data"
    }
   ],
   "source": [
    "# Create final confusion matrix\n",
    "final_cf = confusion_matrix(y_test, y_pred_final)\n",
    "\n",
    "# Visualize final confusion matrix\n",
    "plt.figure(figsize=(8, 6))\n",
    "sns.heatmap(final_cf, annot=True, fmt='d', cmap='Blues')\n",
    "plt.title('Final SVM Model Confusion Matrix')\n",
    "plt.ylabel('Predicted')\n",
    "plt.xlabel('Actual')\n",
    "plt.show()"
   ]
  },
  {
   "cell_type": "code",
   "execution_count": 15,
   "metadata": {},
   "outputs": [
    {
     "name": "stdout",
     "output_type": "stream",
     "text": [
      "Base SVM Model Accuracy: 0.8356\n",
      "Optimized SVM Model Accuracy: 0.8778\n",
      "Improvement: 4.22%\n"
     ]
    }
   ],
   "source": [
    "# Comparison between base and optimized models\n",
    "print(f\"Base SVM Model Accuracy: {accuracy:.4f}\")\n",
    "print(f\"Optimized SVM Model Accuracy: {final_accuracy:.4f}\")\n",
    "print(f\"Improvement: {(final_accuracy - accuracy) * 100:.2f}%\")"
   ]
  },
  {
   "cell_type": "code",
   "execution_count": 16,
   "metadata": {},
   "outputs": [
    {
     "name": "stdout",
     "output_type": "stream",
     "text": [
      "Model saved successfully to '../svm_model.pkl'\n"
     ]
    }
   ],
   "source": [
    "# Saving the model\n",
    "with open('../svm_model.pkl', 'wb') as file:\n",
    "    pickle.dump(final_model, file)\n",
    "    \n",
    "print(\"Model saved successfully to '../svm_model.pkl'\")"
   ]
  },
  {
   "cell_type": "code",
   "execution_count": null,
   "metadata": {},
   "outputs": [],
   "source": []
  }
 ],
 "metadata": {
  "kernelspec": {
   "display_name": "ml-project",
   "language": "python",
   "name": "python3"
  },
  "language_info": {
   "codemirror_mode": {
    "name": "ipython",
    "version": 3
   },
   "file_extension": ".py",
   "mimetype": "text/x-python",
   "name": "python",
   "nbconvert_exporter": "python",
   "pygments_lexer": "ipython3",
   "version": "3.12.9"
  }
 },
 "nbformat": 4,
 "nbformat_minor": 2
}
