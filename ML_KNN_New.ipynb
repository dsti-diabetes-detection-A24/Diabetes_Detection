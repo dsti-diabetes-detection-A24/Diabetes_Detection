{
 "cells": [
  {
   "cell_type": "markdown",
   "metadata": {
    "id": "zVVfdsB0T0v6"
   },
   "source": [
    "# K-Nearest Neighbor Model for Diabetes Prediction"
   ]
  },
  {
   "cell_type": "code",
   "execution_count": 5,
   "metadata": {
    "id": "eHaEAX1MT0v8"
   },
   "outputs": [],
   "source": [
    "import numpy as np\n",
    "import pandas as pd\n",
    "import matplotlib.pyplot as plt\n",
    "import seaborn as sns\n",
    "import pickle"
   ]
  },
  {
   "cell_type": "markdown",
   "metadata": {
    "id": "cuRAkoSDT0v9"
   },
   "source": [
    "## 1. Data Acquisition"
   ]
  },
  {
   "cell_type": "code",
   "execution_count": 6,
   "metadata": {
    "colab": {
     "base_uri": "https://localhost:8080/"
    },
    "id": "kxbIP0h_T0v-",
    "outputId": "d333aa0f-8d75-4320-f6f3-3a694bbb2ea3"
   },
   "outputs": [
    {
     "data": {
      "text/plain": [
       "(15000, 9)"
      ]
     },
     "execution_count": 6,
     "metadata": {},
     "output_type": "execute_result"
    }
   ],
   "source": [
    "df = pd.read_csv(\"./TAIPEI_diabetes.csv\",sep=\",\",index_col=\"PatientID\")\n",
    "df.shape"
   ]
  },
  {
   "cell_type": "markdown",
   "metadata": {
    "id": "6Z4dD7AQT0v-"
   },
   "source": [
    "## 2. Data Preparation"
   ]
  },
  {
   "cell_type": "code",
   "execution_count": 15,
   "metadata": {
    "id": "V3oi4Da5T0v_"
   },
   "outputs": [],
   "source": [
    "from sklearn.model_selection import train_test_split"
   ]
  },
  {
   "cell_type": "code",
   "execution_count": 16,
   "metadata": {
    "id": "7CWCuXXHT0v_"
   },
   "outputs": [],
   "source": [
    "# Split data into training and testing sets\n",
    "df_train, df_test = train_test_split(df, test_size=0.2, random_state=42)"
   ]
  },
  {
   "cell_type": "code",
   "execution_count": 17,
   "metadata": {
    "colab": {
     "base_uri": "https://localhost:8080/"
    },
    "id": "gyXRvQg6T0v_",
    "outputId": "43cbcce3-6852-4b5d-fdcf-674191706782"
   },
   "outputs": [
    {
     "data": {
      "text/plain": [
       "(12000, 9)"
      ]
     },
     "execution_count": 17,
     "metadata": {},
     "output_type": "execute_result"
    }
   ],
   "source": [
    "# Display training data shape\n",
    "df_train.shape"
   ]
  },
  {
   "cell_type": "code",
   "execution_count": 18,
   "metadata": {
    "id": "arrsIGI-T0wA"
   },
   "outputs": [],
   "source": [
    "# Define feature columns for clarity\n",
    "feature_columns = ['Pregnancies', 'PlasmaGlucose', 'DiastolicBloodPressure',\n",
    "                   'TricepsThickness', 'SerumInsulin', 'BMI', 'DiabetesPedigree', 'Age']"
   ]
  },
  {
   "cell_type": "code",
   "execution_count": 19,
   "metadata": {
    "id": "PlPr1UzQT0wB"
   },
   "outputs": [],
   "source": [
    "# Extract features and target for training data\n",
    "X_train = df_train.loc[:, feature_columns].values\n",
    "y_train = df_train.Diabetic.values"
   ]
  },
  {
   "cell_type": "code",
   "execution_count": 20,
   "metadata": {
    "id": "r94OgQ1AT0wB"
   },
   "outputs": [],
   "source": [
    "# Extract features and target for test data\n",
    "X_test = df_test.loc[:, feature_columns].values\n",
    "y_test = df_test.Diabetic.values"
   ]
  },
  {
   "cell_type": "markdown",
   "metadata": {
    "id": "nlkbWFJeT0wC"
   },
   "source": [
    "## 3. KNN Model Implementation"
   ]
  },
  {
   "cell_type": "code",
   "execution_count": 21,
   "metadata": {
    "id": "9gtPgAbCT0wC"
   },
   "outputs": [],
   "source": [
    "# Import the KNeighborsRegressor model from scikit-learn  \n",
    "from sklearn.neighbors import KNeighborsRegressor  \n",
    "\n",
    "# Initialize the K-Nearest Neighbors regressor with 3 neighbors  \n",
    "knn_regressor = KNeighborsRegressor(n_neighbors=3)  \n",
    "\n",
    "# Train the model using the training data (features: X_train, target: y_train)  \n",
    "knn_regressor.fit(X=X_train, y=y_train)  \n",
    "\n",
    "# Make predictions on the test dataset  \n",
    "y_test_predicted = knn_regressor.predict(X_test)  \n",
    "\n",
    "# Convert the predicted values to integers (useful if the target values are discrete)  \n",
    "y_test_predicted = y_test_predicted.astype(int)  \n"
   ]
  },
  {
   "cell_type": "code",
   "execution_count": 22,
   "metadata": {
    "colab": {
     "base_uri": "https://localhost:8080/"
    },
    "id": "F2OuKlSWT0wD",
    "outputId": "78e11752-a5ea-46b2-eb61-01db8dc7ed6b"
   },
   "outputs": [
    {
     "name": "stdout",
     "output_type": "stream",
     "text": [
      "Accuracy: 0.7986666666666666\n"
     ]
    }
   ],
   "source": [
    "# Calculate basic accuracy\n",
    "accuracy = (y_test_predicted == y_test).sum()/len(y_test)\n",
    "print(f\"Accuracy: {accuracy}\")"
   ]
  },
  {
   "cell_type": "markdown",
   "metadata": {
    "id": "8BQIfY66T0wD"
   },
   "source": [
    "## 4. Model Evaluation"
   ]
  },
  {
   "cell_type": "markdown",
   "metadata": {
    "id": "bSfWSZnET0wE"
   },
   "source": [
    "### 4.1 Confusion Matrix"
   ]
  },
  {
   "cell_type": "code",
   "execution_count": 23,
   "metadata": {
    "id": "ACKVG45KT0wE"
   },
   "outputs": [],
   "source": [
    "from sklearn.metrics import confusion_matrix"
   ]
  },
  {
   "cell_type": "code",
   "execution_count": 24,
   "metadata": {
    "colab": {
     "base_uri": "https://localhost:8080/",
     "height": 125
    },
    "id": "rAusTaUxT0wE",
    "outputId": "06288227-c77a-4104-af3c-3e2365f09744"
   },
   "outputs": [
    {
     "data": {
      "text/html": [
       "<div>\n",
       "<style scoped>\n",
       "    .dataframe tbody tr th:only-of-type {\n",
       "        vertical-align: middle;\n",
       "    }\n",
       "\n",
       "    .dataframe tbody tr th {\n",
       "        vertical-align: top;\n",
       "    }\n",
       "\n",
       "    .dataframe thead th {\n",
       "        text-align: right;\n",
       "    }\n",
       "</style>\n",
       "<table border=\"1\" class=\"dataframe\">\n",
       "  <thead>\n",
       "    <tr style=\"text-align: right;\">\n",
       "      <th></th>\n",
       "      <th>y_test_0</th>\n",
       "      <th>y_test_1</th>\n",
       "    </tr>\n",
       "  </thead>\n",
       "  <tbody>\n",
       "    <tr>\n",
       "      <th>y_pred_0</th>\n",
       "      <td>1946</td>\n",
       "      <td>68</td>\n",
       "    </tr>\n",
       "    <tr>\n",
       "      <th>y_pred_1</th>\n",
       "      <td>536</td>\n",
       "      <td>450</td>\n",
       "    </tr>\n",
       "  </tbody>\n",
       "</table>\n",
       "</div>"
      ],
      "text/plain": [
       "         y_test_0 y_test_1\n",
       "y_pred_0     1946       68\n",
       "y_pred_1      536      450"
      ]
     },
     "execution_count": 24,
     "metadata": {},
     "output_type": "execute_result"
    }
   ],
   "source": [
    "# Create confusion matrix\n",
    "cf = pd.DataFrame(\n",
    "    columns=[\"y_test_0\", \"y_test_1\"], index=[\"y_pred_0\", \"y_pred_1\"]\n",
    ")\n",
    "\n",
    "cf.loc[:, :] = confusion_matrix(y_true=y_test, y_pred=y_test_predicted)\n",
    "cf"
   ]
  },
  {
   "cell_type": "markdown",
   "metadata": {
    "id": "E76QqXUKT0wF"
   },
   "source": [
    "### 4.2 Classification Metrics"
   ]
  },
  {
   "cell_type": "code",
   "execution_count": 25,
   "metadata": {
    "id": "OQTKWe5RT0wF"
   },
   "outputs": [],
   "source": [
    "from sklearn.metrics import recall_score, precision_score, classification_report"
   ]
  },
  {
   "cell_type": "code",
   "execution_count": 26,
   "metadata": {
    "colab": {
     "base_uri": "https://localhost:8080/"
    },
    "id": "V9fRAxnTT0wG",
    "outputId": "f6f6c26e-9c5a-4f8c-8dea-48482eddb4e1"
   },
   "outputs": [
    {
     "name": "stdout",
     "output_type": "stream",
     "text": [
      "Recall: 0.4563894523326572,\n",
      "Precision: 0.8687258687258688\n"
     ]
    }
   ],
   "source": [
    "# Calculate recall and precision\n",
    "recall = recall_score(y_true=y_test, y_pred=y_test_predicted)\n",
    "precision = precision_score(y_true=y_test, y_pred=y_test_predicted)\n",
    "\n",
    "print(f\"Recall: {recall},\\nPrecision: {precision}\")"
   ]
  },
  {
   "cell_type": "code",
   "execution_count": 27,
   "metadata": {
    "colab": {
     "base_uri": "https://localhost:8080/"
    },
    "id": "5qPh1vquT0wG",
    "outputId": "6e472f71-c376-472e-dd3a-046a635a7d6d"
   },
   "outputs": [
    {
     "name": "stdout",
     "output_type": "stream",
     "text": [
      "Classification Report:\n",
      "              precision    recall  f1-score   support\n",
      "\n",
      "           0       0.78      0.97      0.87      2014\n",
      "           1       0.87      0.46      0.60       986\n",
      "\n",
      "    accuracy                           0.80      3000\n",
      "   macro avg       0.83      0.71      0.73      3000\n",
      "weighted avg       0.81      0.80      0.78      3000\n",
      "\n"
     ]
    }
   ],
   "source": [
    "# Generate classification report\n",
    "report = classification_report(y_true=y_test, y_pred=y_test_predicted)\n",
    "print(\"Classification Report:\")\n",
    "print(report)"
   ]
  },
  {
   "cell_type": "markdown",
   "metadata": {
    "id": "620jqQJ7T0wH"
   },
   "source": [
    "## 7. Hyperparameter Tuning"
   ]
  },
  {
   "cell_type": "code",
   "execution_count": 30,
   "metadata": {
    "colab": {
     "base_uri": "https://localhost:8080/"
    },
    "id": "uCd5omZXT0wH",
    "outputId": "f28a1a1e-336b-4fef-f988-052af1a57b99"
   },
   "outputs": [
    {
     "name": "stdout",
     "output_type": "stream",
     "text": [
      "Best Parameters: {'metric': 'manhattan', 'n_neighbors': 10, 'weights': 'distance'}\n",
      "Best Cross-Validation Score: -0.09342309875783758\n"
     ]
    }
   ],
   "source": [
    "from sklearn.model_selection import GridSearchCV\n",
    "from sklearn.neighbors import KNeighborsRegressor\n",
    "\n",
    "param_grid = {\n",
    "    'n_neighbors': [3, 5, 7, 10],\n",
    "    'weights': ['uniform', 'distance'],\n",
    "    'metric': ['euclidean', 'manhattan']\n",
    "}\n",
    "\n",
    "# Setup grid search for KNN Regressor\n",
    "grid_search = GridSearchCV(KNeighborsRegressor(), param_grid, cv=5, scoring='neg_mean_squared_error', n_jobs=-1)\n",
    "grid_search.fit(X_train, y_train)\n",
    "\n",
    "# Show best parameters and best cross-validation score\n",
    "print(f\"Best Parameters: {grid_search.best_params_}\")\n",
    "print(f\"Best Cross-Validation Score: {grid_search.best_score_}\")\n"
   ]
  },
  {
   "cell_type": "markdown",
   "metadata": {
    "id": "Vov7Q5vdT0wH"
   },
   "source": [
    "## 8. Final Model and Evaluation"
   ]
  },
  {
   "cell_type": "code",
   "execution_count": 31,
   "metadata": {
    "colab": {
     "base_uri": "https://localhost:8080/"
    },
    "id": "kRdKWGvKT0wI",
    "outputId": "85ddff63-0b62-4cbf-a04a-fc1a146e32ae"
   },
   "outputs": [
    {
     "name": "stdout",
     "output_type": "stream",
     "text": [
      "Final Model Accuracy: 0.738\n",
      "\n",
      "Final Classification Report:\n",
      "              precision    recall  f1-score   support\n",
      "\n",
      "           0       0.72      1.00      0.84      2014\n",
      "           1       0.98      0.21      0.34       986\n",
      "\n",
      "    accuracy                           0.74      3000\n",
      "   macro avg       0.85      0.60      0.59      3000\n",
      "weighted avg       0.81      0.74      0.67      3000\n",
      "\n"
     ]
    }
   ],
   "source": [
    "# Create final model with best parameters\n",
    "final_model = KNeighborsRegressor(\n",
    "    n_neighbors=grid_search.best_params_['n_neighbors'],\n",
    "    weights=grid_search.best_params_['weights'],\n",
    "    metric=grid_search.best_params_['metric']\n",
    ")\n",
    "\n",
    "# Fit the final model on the training data\n",
    "final_model.fit(X_train, y_train)\n",
    "\n",
    "# Evaluate on test set\n",
    "y_pred_final = final_model.predict(X_test)\n",
    "y_pred_final = y_pred_final.astype(int)\n",
    "final_accuracy = (y_pred_final == y_test).sum() / len(y_test)\n",
    "final_report = classification_report(y_test, y_pred_final)\n",
    "\n",
    "print(f\"Final Model Accuracy: {final_accuracy}\")\n",
    "print(f\"\\nFinal Classification Report:\\n{final_report}\")"
   ]
  },
  {
   "cell_type": "code",
   "execution_count": 32,
   "metadata": {
    "colab": {
     "base_uri": "https://localhost:8080/"
    },
    "id": "XkApOiOtVaTL",
    "outputId": "95693e60-a23e-4399-f08b-96747a803b4e"
   },
   "outputs": [],
   "source": [
    "# Saving the model\n",
    "with open('knn_model.pkl', 'wb') as file:\n",
    "    pickle.dump(final_model, file)"
   ]
  }
 ],
 "metadata": {
  "colab": {
   "provenance": []
  },
  "kernelspec": {
   "display_name": "Python 3 (ipykernel)",
   "language": "python",
   "name": "python3"
  },
  "language_info": {
   "codemirror_mode": {
    "name": "ipython",
    "version": 3
   },
   "file_extension": ".py",
   "mimetype": "text/x-python",
   "name": "python",
   "nbconvert_exporter": "python",
   "pygments_lexer": "ipython3",
   "version": "3.9.21"
  }
 },
 "nbformat": 4,
 "nbformat_minor": 4
}
