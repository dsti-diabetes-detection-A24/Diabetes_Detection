{
 "cells": [
  {
   "cell_type": "markdown",
   "metadata": {},
   "source": [
    "## KNN Model Training"
   ]
  },
  {
   "cell_type": "code",
   "execution_count": 16,
   "metadata": {},
   "outputs": [],
   "source": [
    "import numpy as np\n",
    "import pandas as pd\n",
    "import matplotlib.pyplot as plt\n",
    "import seaborn as sns\n",
    "import plotly.express as px"
   ]
  },
  {
   "cell_type": "markdown",
   "metadata": {},
   "source": [
    "### Import data"
   ]
  },
  {
   "cell_type": "code",
   "execution_count": 58,
   "metadata": {},
   "outputs": [],
   "source": [
    "df = pd.read_csv(\"./TAIPEI_diabetes.csv\",sep=\",\",index_col=\"PatientID\")\n",
    "#df.shape"
   ]
  },
  {
   "cell_type": "markdown",
   "metadata": {},
   "source": [
    "### Data Preparation"
   ]
  },
  {
   "cell_type": "code",
   "execution_count": 59,
   "metadata": {},
   "outputs": [],
   "source": [
    "from sklearn.model_selection import train_test_split"
   ]
  },
  {
   "cell_type": "code",
   "execution_count": 60,
   "metadata": {},
   "outputs": [],
   "source": [
    "df_train, df_test = train_test_split(df,test_size = 0.2)"
   ]
  },
  {
   "cell_type": "code",
   "execution_count": 61,
   "metadata": {},
   "outputs": [
    {
     "data": {
      "text/html": [
       "<div>\n",
       "<style scoped>\n",
       "    .dataframe tbody tr th:only-of-type {\n",
       "        vertical-align: middle;\n",
       "    }\n",
       "\n",
       "    .dataframe tbody tr th {\n",
       "        vertical-align: top;\n",
       "    }\n",
       "\n",
       "    .dataframe thead th {\n",
       "        text-align: right;\n",
       "    }\n",
       "</style>\n",
       "<table border=\"1\" class=\"dataframe\">\n",
       "  <thead>\n",
       "    <tr style=\"text-align: right;\">\n",
       "      <th></th>\n",
       "      <th>Pregnancies</th>\n",
       "      <th>PlasmaGlucose</th>\n",
       "      <th>DiastolicBloodPressure</th>\n",
       "      <th>TricepsThickness</th>\n",
       "      <th>SerumInsulin</th>\n",
       "      <th>BMI</th>\n",
       "      <th>DiabetesPedigree</th>\n",
       "      <th>Age</th>\n",
       "      <th>Diabetic</th>\n",
       "    </tr>\n",
       "    <tr>\n",
       "      <th>PatientID</th>\n",
       "      <th></th>\n",
       "      <th></th>\n",
       "      <th></th>\n",
       "      <th></th>\n",
       "      <th></th>\n",
       "      <th></th>\n",
       "      <th></th>\n",
       "      <th></th>\n",
       "      <th></th>\n",
       "    </tr>\n",
       "  </thead>\n",
       "  <tbody>\n",
       "    <tr>\n",
       "      <th>1562008</th>\n",
       "      <td>6</td>\n",
       "      <td>152</td>\n",
       "      <td>58</td>\n",
       "      <td>26</td>\n",
       "      <td>91</td>\n",
       "      <td>43.544221</td>\n",
       "      <td>0.323791</td>\n",
       "      <td>23</td>\n",
       "      <td>1</td>\n",
       "    </tr>\n",
       "    <tr>\n",
       "      <th>1220134</th>\n",
       "      <td>6</td>\n",
       "      <td>75</td>\n",
       "      <td>62</td>\n",
       "      <td>8</td>\n",
       "      <td>38</td>\n",
       "      <td>38.047771</td>\n",
       "      <td>0.807225</td>\n",
       "      <td>21</td>\n",
       "      <td>0</td>\n",
       "    </tr>\n",
       "    <tr>\n",
       "      <th>1264692</th>\n",
       "      <td>6</td>\n",
       "      <td>156</td>\n",
       "      <td>78</td>\n",
       "      <td>41</td>\n",
       "      <td>193</td>\n",
       "      <td>36.064639</td>\n",
       "      <td>1.035875</td>\n",
       "      <td>46</td>\n",
       "      <td>1</td>\n",
       "    </tr>\n",
       "    <tr>\n",
       "      <th>1841917</th>\n",
       "      <td>0</td>\n",
       "      <td>115</td>\n",
       "      <td>66</td>\n",
       "      <td>31</td>\n",
       "      <td>50</td>\n",
       "      <td>44.422525</td>\n",
       "      <td>0.793642</td>\n",
       "      <td>25</td>\n",
       "      <td>0</td>\n",
       "    </tr>\n",
       "    <tr>\n",
       "      <th>1807886</th>\n",
       "      <td>0</td>\n",
       "      <td>90</td>\n",
       "      <td>61</td>\n",
       "      <td>33</td>\n",
       "      <td>511</td>\n",
       "      <td>42.918519</td>\n",
       "      <td>0.163570</td>\n",
       "      <td>21</td>\n",
       "      <td>0</td>\n",
       "    </tr>\n",
       "    <tr>\n",
       "      <th>...</th>\n",
       "      <td>...</td>\n",
       "      <td>...</td>\n",
       "      <td>...</td>\n",
       "      <td>...</td>\n",
       "      <td>...</td>\n",
       "      <td>...</td>\n",
       "      <td>...</td>\n",
       "      <td>...</td>\n",
       "      <td>...</td>\n",
       "    </tr>\n",
       "    <tr>\n",
       "      <th>1286508</th>\n",
       "      <td>7</td>\n",
       "      <td>91</td>\n",
       "      <td>54</td>\n",
       "      <td>24</td>\n",
       "      <td>154</td>\n",
       "      <td>21.599936</td>\n",
       "      <td>0.527744</td>\n",
       "      <td>21</td>\n",
       "      <td>0</td>\n",
       "    </tr>\n",
       "    <tr>\n",
       "      <th>1863445</th>\n",
       "      <td>3</td>\n",
       "      <td>67</td>\n",
       "      <td>87</td>\n",
       "      <td>29</td>\n",
       "      <td>61</td>\n",
       "      <td>43.629165</td>\n",
       "      <td>0.475230</td>\n",
       "      <td>61</td>\n",
       "      <td>1</td>\n",
       "    </tr>\n",
       "    <tr>\n",
       "      <th>1057554</th>\n",
       "      <td>0</td>\n",
       "      <td>92</td>\n",
       "      <td>78</td>\n",
       "      <td>7</td>\n",
       "      <td>148</td>\n",
       "      <td>38.185757</td>\n",
       "      <td>0.183511</td>\n",
       "      <td>34</td>\n",
       "      <td>0</td>\n",
       "    </tr>\n",
       "    <tr>\n",
       "      <th>1225780</th>\n",
       "      <td>9</td>\n",
       "      <td>120</td>\n",
       "      <td>83</td>\n",
       "      <td>9</td>\n",
       "      <td>45</td>\n",
       "      <td>19.461985</td>\n",
       "      <td>0.133649</td>\n",
       "      <td>68</td>\n",
       "      <td>0</td>\n",
       "    </tr>\n",
       "    <tr>\n",
       "      <th>1050942</th>\n",
       "      <td>0</td>\n",
       "      <td>129</td>\n",
       "      <td>91</td>\n",
       "      <td>11</td>\n",
       "      <td>38</td>\n",
       "      <td>40.668280</td>\n",
       "      <td>0.107645</td>\n",
       "      <td>24</td>\n",
       "      <td>0</td>\n",
       "    </tr>\n",
       "  </tbody>\n",
       "</table>\n",
       "<p>12000 rows × 9 columns</p>\n",
       "</div>"
      ],
      "text/plain": [
       "           Pregnancies  PlasmaGlucose  DiastolicBloodPressure  \\\n",
       "PatientID                                                       \n",
       "1562008              6            152                      58   \n",
       "1220134              6             75                      62   \n",
       "1264692              6            156                      78   \n",
       "1841917              0            115                      66   \n",
       "1807886              0             90                      61   \n",
       "...                ...            ...                     ...   \n",
       "1286508              7             91                      54   \n",
       "1863445              3             67                      87   \n",
       "1057554              0             92                      78   \n",
       "1225780              9            120                      83   \n",
       "1050942              0            129                      91   \n",
       "\n",
       "           TricepsThickness  SerumInsulin        BMI  DiabetesPedigree  Age  \\\n",
       "PatientID                                                                     \n",
       "1562008                  26            91  43.544221          0.323791   23   \n",
       "1220134                   8            38  38.047771          0.807225   21   \n",
       "1264692                  41           193  36.064639          1.035875   46   \n",
       "1841917                  31            50  44.422525          0.793642   25   \n",
       "1807886                  33           511  42.918519          0.163570   21   \n",
       "...                     ...           ...        ...               ...  ...   \n",
       "1286508                  24           154  21.599936          0.527744   21   \n",
       "1863445                  29            61  43.629165          0.475230   61   \n",
       "1057554                   7           148  38.185757          0.183511   34   \n",
       "1225780                   9            45  19.461985          0.133649   68   \n",
       "1050942                  11            38  40.668280          0.107645   24   \n",
       "\n",
       "           Diabetic  \n",
       "PatientID            \n",
       "1562008           1  \n",
       "1220134           0  \n",
       "1264692           1  \n",
       "1841917           0  \n",
       "1807886           0  \n",
       "...             ...  \n",
       "1286508           0  \n",
       "1863445           1  \n",
       "1057554           0  \n",
       "1225780           0  \n",
       "1050942           0  \n",
       "\n",
       "[12000 rows x 9 columns]"
      ]
     },
     "execution_count": 61,
     "metadata": {},
     "output_type": "execute_result"
    }
   ],
   "source": [
    "df_train"
   ]
  },
  {
   "cell_type": "code",
   "execution_count": 62,
   "metadata": {},
   "outputs": [
    {
     "data": {
      "text/plain": [
       "Index(['Pregnancies', 'PlasmaGlucose', 'DiastolicBloodPressure',\n",
       "       'TricepsThickness', 'SerumInsulin', 'BMI', 'DiabetesPedigree', 'Age',\n",
       "       'Diabetic'],\n",
       "      dtype='object')"
      ]
     },
     "execution_count": 62,
     "metadata": {},
     "output_type": "execute_result"
    }
   ],
   "source": [
    "df_train.columns"
   ]
  },
  {
   "cell_type": "code",
   "execution_count": 63,
   "metadata": {},
   "outputs": [],
   "source": [
    "# get the values of the columns for the training data\n",
    "X_train = df_train.loc[:,['Pregnancies', 'PlasmaGlucose', 'DiastolicBloodPressure',\n",
    "       'TricepsThickness', 'SerumInsulin', 'BMI', 'DiabetesPedigree', 'Age']].values\n",
    "y_train = df_train.Diabetic.values"
   ]
  },
  {
   "cell_type": "code",
   "execution_count": 64,
   "metadata": {},
   "outputs": [],
   "source": [
    "# get the values of the columns for the test data\n",
    "X_test = df_test.loc[:,['Pregnancies', 'PlasmaGlucose', 'DiastolicBloodPressure',\n",
    "       'TricepsThickness', 'SerumInsulin', 'BMI', 'DiabetesPedigree', 'Age']].values\n",
    "y_test = df_test.Diabetic.values"
   ]
  },
  {
   "cell_type": "markdown",
   "metadata": {},
   "source": [
    "### Model training"
   ]
  },
  {
   "cell_type": "code",
   "execution_count": 44,
   "metadata": {},
   "outputs": [],
   "source": [
    "from sklearn.neighbors import KNeighborsRegressor\n",
    "\n",
    "knn_regressor = KNeighborsRegressor(n_neighbors=3)\n",
    "knn_regressor.fit(X=X_train, y=y_train)\n",
    "y_test_predicted = knn_regressor.predict(X_test)\n",
    "y_test_predicted = y_test_predicted.astype(int)\n"
   ]
  },
  {
   "cell_type": "code",
   "execution_count": 65,
   "metadata": {},
   "outputs": [
    {
     "name": "stdout",
     "output_type": "stream",
     "text": [
      "0.598\n"
     ]
    }
   ],
   "source": [
    "print((y_test_predicted == y_test).sum()/len(y_test))"
   ]
  },
  {
   "cell_type": "markdown",
   "metadata": {},
   "source": [
    "### Metrics Calculation"
   ]
  },
  {
   "cell_type": "code",
   "execution_count": 66,
   "metadata": {},
   "outputs": [],
   "source": [
    "from sklearn.metrics import confusion_matrix"
   ]
  },
  {
   "cell_type": "code",
   "execution_count": 67,
   "metadata": {},
   "outputs": [],
   "source": [
    "cf = pd.DataFrame(\n",
    "    columns=[\"y_test_0\",\"y_test_1\"],index=[\"y_pred_0\",\"y_pred_1\"]\n",
    ")"
   ]
  },
  {
   "cell_type": "code",
   "execution_count": 68,
   "metadata": {},
   "outputs": [],
   "source": [
    "cf.loc[:,:] = confusion_matrix(y_true= y_test,y_pred= y_test_predicted)"
   ]
  },
  {
   "cell_type": "code",
   "execution_count": 69,
   "metadata": {},
   "outputs": [
    {
     "data": {
      "text/html": [
       "<div>\n",
       "<style scoped>\n",
       "    .dataframe tbody tr th:only-of-type {\n",
       "        vertical-align: middle;\n",
       "    }\n",
       "\n",
       "    .dataframe tbody tr th {\n",
       "        vertical-align: top;\n",
       "    }\n",
       "\n",
       "    .dataframe thead th {\n",
       "        text-align: right;\n",
       "    }\n",
       "</style>\n",
       "<table border=\"1\" class=\"dataframe\">\n",
       "  <thead>\n",
       "    <tr style=\"text-align: right;\">\n",
       "      <th></th>\n",
       "      <th>y_test_0</th>\n",
       "      <th>y_test_1</th>\n",
       "    </tr>\n",
       "  </thead>\n",
       "  <tbody>\n",
       "    <tr>\n",
       "      <th>y_pred_0</th>\n",
       "      <td>1611</td>\n",
       "      <td>340</td>\n",
       "    </tr>\n",
       "    <tr>\n",
       "      <th>y_pred_1</th>\n",
       "      <td>866</td>\n",
       "      <td>183</td>\n",
       "    </tr>\n",
       "  </tbody>\n",
       "</table>\n",
       "</div>"
      ],
      "text/plain": [
       "         y_test_0 y_test_1\n",
       "y_pred_0     1611      340\n",
       "y_pred_1      866      183"
      ]
     },
     "execution_count": 69,
     "metadata": {},
     "output_type": "execute_result"
    }
   ],
   "source": [
    "cf"
   ]
  },
  {
   "cell_type": "code",
   "execution_count": 70,
   "metadata": {},
   "outputs": [
    {
     "data": {
      "text/html": [
       "<div>\n",
       "<style scoped>\n",
       "    .dataframe tbody tr th:only-of-type {\n",
       "        vertical-align: middle;\n",
       "    }\n",
       "\n",
       "    .dataframe tbody tr th {\n",
       "        vertical-align: top;\n",
       "    }\n",
       "\n",
       "    .dataframe thead th {\n",
       "        text-align: right;\n",
       "    }\n",
       "</style>\n",
       "<table border=\"1\" class=\"dataframe\">\n",
       "  <thead>\n",
       "    <tr style=\"text-align: right;\">\n",
       "      <th></th>\n",
       "      <th>y_test_0</th>\n",
       "      <th>y_test_1</th>\n",
       "    </tr>\n",
       "  </thead>\n",
       "  <tbody>\n",
       "    <tr>\n",
       "      <th>y_pred_0</th>\n",
       "      <td>0.537</td>\n",
       "      <td>0.113333</td>\n",
       "    </tr>\n",
       "    <tr>\n",
       "      <th>y_pred_1</th>\n",
       "      <td>0.288667</td>\n",
       "      <td>0.061</td>\n",
       "    </tr>\n",
       "  </tbody>\n",
       "</table>\n",
       "</div>"
      ],
      "text/plain": [
       "          y_test_0  y_test_1\n",
       "y_pred_0     0.537  0.113333\n",
       "y_pred_1  0.288667     0.061"
      ]
     },
     "execution_count": 70,
     "metadata": {},
     "output_type": "execute_result"
    }
   ],
   "source": [
    "cf/len(y_test)"
   ]
  },
  {
   "cell_type": "code",
   "execution_count": 71,
   "metadata": {},
   "outputs": [],
   "source": [
    "from sklearn.metrics import recall_score, precision_score"
   ]
  },
  {
   "cell_type": "code",
   "execution_count": 52,
   "metadata": {},
   "outputs": [
    {
     "data": {
      "text/plain": [
       "0.48218029350104824"
      ]
     },
     "execution_count": 52,
     "metadata": {},
     "output_type": "execute_result"
    }
   ],
   "source": [
    "recall_score(y_true=y_test, y_pred=y_test_predicted)"
   ]
  },
  {
   "cell_type": "code",
   "execution_count": 53,
   "metadata": {},
   "outputs": [
    {
     "data": {
      "text/plain": [
       "0.8795411089866156"
      ]
     },
     "execution_count": 53,
     "metadata": {},
     "output_type": "execute_result"
    }
   ],
   "source": [
    "precision_score(y_true=y_test, y_pred=y_test_predicted)"
   ]
  },
  {
   "cell_type": "code",
   "execution_count": 54,
   "metadata": {},
   "outputs": [],
   "source": [
    "from sklearn.metrics import classification_report"
   ]
  },
  {
   "cell_type": "code",
   "execution_count": 55,
   "metadata": {},
   "outputs": [],
   "source": [
    "report =classification_report(y_true=y_test, y_pred=y_test_predicted)"
   ]
  },
  {
   "cell_type": "code",
   "execution_count": 56,
   "metadata": {},
   "outputs": [
    {
     "name": "stdout",
     "output_type": "stream",
     "text": [
      "              precision    recall  f1-score   support\n",
      "\n",
      "           0       0.80      0.97      0.88      2046\n",
      "           1       0.88      0.48      0.62       954\n",
      "\n",
      "    accuracy                           0.81      3000\n",
      "   macro avg       0.84      0.73      0.75      3000\n",
      "weighted avg       0.83      0.81      0.80      3000\n",
      "\n"
     ]
    }
   ],
   "source": [
    "print(report)"
   ]
  }
 ],
 "metadata": {
  "kernelspec": {
   "display_name": "Python 3 (ipykernel)",
   "language": "python",
   "name": "python3"
  },
  "language_info": {
   "codemirror_mode": {
    "name": "ipython",
    "version": 3
   },
   "file_extension": ".py",
   "mimetype": "text/x-python",
   "name": "python",
   "nbconvert_exporter": "python",
   "pygments_lexer": "ipython3",
   "version": "3.9.21"
  }
 },
 "nbformat": 4,
 "nbformat_minor": 4
}
