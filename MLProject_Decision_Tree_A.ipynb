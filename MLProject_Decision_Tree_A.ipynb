{
  "cells": [
    {
      "cell_type": "markdown",
      "metadata": {
        "id": "zVVfdsB0T0v6"
      },
      "source": [
        "# Decision Tree Model for Diabetes Prediction"
      ]
    },
    {
      "cell_type": "code",
      "execution_count": 1,
      "metadata": {
        "id": "eHaEAX1MT0v8"
      },
      "outputs": [],
      "source": [
        "import numpy as np\n",
        "import pandas as pd\n",
        "import matplotlib.pyplot as plt\n",
        "import seaborn as sns\n",
        "import plotly.express as px"
      ]
    },
    {
      "cell_type": "markdown",
      "metadata": {
        "id": "cuRAkoSDT0v9"
      },
      "source": [
        "## 1. Data Acquisition"
      ]
    },
    {
      "cell_type": "code",
      "execution_count": 2,
      "metadata": {
        "colab": {
          "base_uri": "https://localhost:8080/"
        },
        "id": "kxbIP0h_T0v-",
        "outputId": "d333aa0f-8d75-4320-f6f3-3a694bbb2ea3"
      },
      "outputs": [
        {
          "output_type": "execute_result",
          "data": {
            "text/plain": [
              "(15000, 9)"
            ]
          },
          "metadata": {},
          "execution_count": 2
        }
      ],
      "source": [
        "df = pd.read_csv(\"./TAIPEI_diabetes.csv\",sep=\",\",index_col=\"PatientID\")\n",
        "df.shape"
      ]
    },
    {
      "cell_type": "markdown",
      "metadata": {
        "id": "6Z4dD7AQT0v-"
      },
      "source": [
        "## 2. Data Preparation"
      ]
    },
    {
      "cell_type": "code",
      "execution_count": 3,
      "metadata": {
        "id": "V3oi4Da5T0v_"
      },
      "outputs": [],
      "source": [
        "from sklearn.model_selection import train_test_split"
      ]
    },
    {
      "cell_type": "code",
      "execution_count": 4,
      "metadata": {
        "id": "7CWCuXXHT0v_"
      },
      "outputs": [],
      "source": [
        "# Split data into training and testing sets\n",
        "df_train, df_test = train_test_split(df, test_size=0.2, random_state=42)"
      ]
    },
    {
      "cell_type": "code",
      "execution_count": 5,
      "metadata": {
        "colab": {
          "base_uri": "https://localhost:8080/"
        },
        "id": "gyXRvQg6T0v_",
        "outputId": "43cbcce3-6852-4b5d-fdcf-674191706782"
      },
      "outputs": [
        {
          "output_type": "execute_result",
          "data": {
            "text/plain": [
              "(12000, 9)"
            ]
          },
          "metadata": {},
          "execution_count": 5
        }
      ],
      "source": [
        "# Display training data shape\n",
        "df_train.shape"
      ]
    },
    {
      "cell_type": "code",
      "execution_count": 6,
      "metadata": {
        "id": "arrsIGI-T0wA"
      },
      "outputs": [],
      "source": [
        "# Define feature columns for clarity\n",
        "feature_columns = ['Pregnancies', 'PlasmaGlucose', 'DiastolicBloodPressure',\n",
        "                   'TricepsThickness', 'SerumInsulin', 'BMI', 'DiabetesPedigree', 'Age']"
      ]
    },
    {
      "cell_type": "code",
      "execution_count": 7,
      "metadata": {
        "id": "PlPr1UzQT0wB"
      },
      "outputs": [],
      "source": [
        "# Extract features and target for training data\n",
        "X_train = df_train.loc[:, feature_columns].values\n",
        "y_train = df_train.Diabetic.values"
      ]
    },
    {
      "cell_type": "code",
      "execution_count": 8,
      "metadata": {
        "id": "r94OgQ1AT0wB"
      },
      "outputs": [],
      "source": [
        "# Extract features and target for test data\n",
        "X_test = df_test.loc[:, feature_columns].values\n",
        "y_test = df_test.Diabetic.values"
      ]
    },
    {
      "cell_type": "markdown",
      "metadata": {
        "id": "nlkbWFJeT0wC"
      },
      "source": [
        "## 3. Decision Tree Model Implementation"
      ]
    },
    {
      "cell_type": "code",
      "execution_count": 9,
      "metadata": {
        "id": "9gtPgAbCT0wC"
      },
      "outputs": [],
      "source": [
        "from sklearn.tree import DecisionTreeClassifier\n",
        "\n",
        "# Initialize decision tree classifier\n",
        "dt_classifier = DecisionTreeClassifier(max_depth=5, random_state=42)\n",
        "\n",
        "# Train the model\n",
        "dt_classifier.fit(X=X_train, y=y_train)\n",
        "\n",
        "# Predict on test data\n",
        "y_test_predicted = dt_classifier.predict(X_test)"
      ]
    },
    {
      "cell_type": "code",
      "execution_count": 10,
      "metadata": {
        "colab": {
          "base_uri": "https://localhost:8080/"
        },
        "id": "F2OuKlSWT0wD",
        "outputId": "78e11752-a5ea-46b2-eb61-01db8dc7ed6b"
      },
      "outputs": [
        {
          "output_type": "stream",
          "name": "stdout",
          "text": [
            "Accuracy: 0.891\n"
          ]
        }
      ],
      "source": [
        "# Calculate basic accuracy\n",
        "accuracy = (y_test_predicted == y_test).sum() / len(y_test)\n",
        "print(f\"Accuracy: {accuracy}\")"
      ]
    },
    {
      "cell_type": "markdown",
      "metadata": {
        "id": "8BQIfY66T0wD"
      },
      "source": [
        "## 4. Model Evaluation"
      ]
    },
    {
      "cell_type": "markdown",
      "metadata": {
        "id": "bSfWSZnET0wE"
      },
      "source": [
        "### 4.1 Confusion Matrix"
      ]
    },
    {
      "cell_type": "code",
      "execution_count": 11,
      "metadata": {
        "id": "ACKVG45KT0wE"
      },
      "outputs": [],
      "source": [
        "from sklearn.metrics import confusion_matrix"
      ]
    },
    {
      "cell_type": "code",
      "execution_count": 12,
      "metadata": {
        "colab": {
          "base_uri": "https://localhost:8080/",
          "height": 125
        },
        "id": "rAusTaUxT0wE",
        "outputId": "06288227-c77a-4104-af3c-3e2365f09744"
      },
      "outputs": [
        {
          "output_type": "execute_result",
          "data": {
            "text/plain": [
              "         y_test_0 y_test_1\n",
              "y_pred_0     1898      116\n",
              "y_pred_1      211      775"
            ],
            "text/html": [
              "\n",
              "  <div id=\"df-027536e6-c84c-4798-a5b5-9d349fa61645\" class=\"colab-df-container\">\n",
              "    <div>\n",
              "<style scoped>\n",
              "    .dataframe tbody tr th:only-of-type {\n",
              "        vertical-align: middle;\n",
              "    }\n",
              "\n",
              "    .dataframe tbody tr th {\n",
              "        vertical-align: top;\n",
              "    }\n",
              "\n",
              "    .dataframe thead th {\n",
              "        text-align: right;\n",
              "    }\n",
              "</style>\n",
              "<table border=\"1\" class=\"dataframe\">\n",
              "  <thead>\n",
              "    <tr style=\"text-align: right;\">\n",
              "      <th></th>\n",
              "      <th>y_test_0</th>\n",
              "      <th>y_test_1</th>\n",
              "    </tr>\n",
              "  </thead>\n",
              "  <tbody>\n",
              "    <tr>\n",
              "      <th>y_pred_0</th>\n",
              "      <td>1898</td>\n",
              "      <td>116</td>\n",
              "    </tr>\n",
              "    <tr>\n",
              "      <th>y_pred_1</th>\n",
              "      <td>211</td>\n",
              "      <td>775</td>\n",
              "    </tr>\n",
              "  </tbody>\n",
              "</table>\n",
              "</div>\n",
              "    <div class=\"colab-df-buttons\">\n",
              "\n",
              "  <div class=\"colab-df-container\">\n",
              "    <button class=\"colab-df-convert\" onclick=\"convertToInteractive('df-027536e6-c84c-4798-a5b5-9d349fa61645')\"\n",
              "            title=\"Convert this dataframe to an interactive table.\"\n",
              "            style=\"display:none;\">\n",
              "\n",
              "  <svg xmlns=\"http://www.w3.org/2000/svg\" height=\"24px\" viewBox=\"0 -960 960 960\">\n",
              "    <path d=\"M120-120v-720h720v720H120Zm60-500h600v-160H180v160Zm220 220h160v-160H400v160Zm0 220h160v-160H400v160ZM180-400h160v-160H180v160Zm440 0h160v-160H620v160ZM180-180h160v-160H180v160Zm440 0h160v-160H620v160Z\"/>\n",
              "  </svg>\n",
              "    </button>\n",
              "\n",
              "  <style>\n",
              "    .colab-df-container {\n",
              "      display:flex;\n",
              "      gap: 12px;\n",
              "    }\n",
              "\n",
              "    .colab-df-convert {\n",
              "      background-color: #E8F0FE;\n",
              "      border: none;\n",
              "      border-radius: 50%;\n",
              "      cursor: pointer;\n",
              "      display: none;\n",
              "      fill: #1967D2;\n",
              "      height: 32px;\n",
              "      padding: 0 0 0 0;\n",
              "      width: 32px;\n",
              "    }\n",
              "\n",
              "    .colab-df-convert:hover {\n",
              "      background-color: #E2EBFA;\n",
              "      box-shadow: 0px 1px 2px rgba(60, 64, 67, 0.3), 0px 1px 3px 1px rgba(60, 64, 67, 0.15);\n",
              "      fill: #174EA6;\n",
              "    }\n",
              "\n",
              "    .colab-df-buttons div {\n",
              "      margin-bottom: 4px;\n",
              "    }\n",
              "\n",
              "    [theme=dark] .colab-df-convert {\n",
              "      background-color: #3B4455;\n",
              "      fill: #D2E3FC;\n",
              "    }\n",
              "\n",
              "    [theme=dark] .colab-df-convert:hover {\n",
              "      background-color: #434B5C;\n",
              "      box-shadow: 0px 1px 3px 1px rgba(0, 0, 0, 0.15);\n",
              "      filter: drop-shadow(0px 1px 2px rgba(0, 0, 0, 0.3));\n",
              "      fill: #FFFFFF;\n",
              "    }\n",
              "  </style>\n",
              "\n",
              "    <script>\n",
              "      const buttonEl =\n",
              "        document.querySelector('#df-027536e6-c84c-4798-a5b5-9d349fa61645 button.colab-df-convert');\n",
              "      buttonEl.style.display =\n",
              "        google.colab.kernel.accessAllowed ? 'block' : 'none';\n",
              "\n",
              "      async function convertToInteractive(key) {\n",
              "        const element = document.querySelector('#df-027536e6-c84c-4798-a5b5-9d349fa61645');\n",
              "        const dataTable =\n",
              "          await google.colab.kernel.invokeFunction('convertToInteractive',\n",
              "                                                    [key], {});\n",
              "        if (!dataTable) return;\n",
              "\n",
              "        const docLinkHtml = 'Like what you see? Visit the ' +\n",
              "          '<a target=\"_blank\" href=https://colab.research.google.com/notebooks/data_table.ipynb>data table notebook</a>'\n",
              "          + ' to learn more about interactive tables.';\n",
              "        element.innerHTML = '';\n",
              "        dataTable['output_type'] = 'display_data';\n",
              "        await google.colab.output.renderOutput(dataTable, element);\n",
              "        const docLink = document.createElement('div');\n",
              "        docLink.innerHTML = docLinkHtml;\n",
              "        element.appendChild(docLink);\n",
              "      }\n",
              "    </script>\n",
              "  </div>\n",
              "\n",
              "\n",
              "<div id=\"df-46814586-52cf-44a1-ac9a-a21d3ee927c3\">\n",
              "  <button class=\"colab-df-quickchart\" onclick=\"quickchart('df-46814586-52cf-44a1-ac9a-a21d3ee927c3')\"\n",
              "            title=\"Suggest charts\"\n",
              "            style=\"display:none;\">\n",
              "\n",
              "<svg xmlns=\"http://www.w3.org/2000/svg\" height=\"24px\"viewBox=\"0 0 24 24\"\n",
              "     width=\"24px\">\n",
              "    <g>\n",
              "        <path d=\"M19 3H5c-1.1 0-2 .9-2 2v14c0 1.1.9 2 2 2h14c1.1 0 2-.9 2-2V5c0-1.1-.9-2-2-2zM9 17H7v-7h2v7zm4 0h-2V7h2v10zm4 0h-2v-4h2v4z\"/>\n",
              "    </g>\n",
              "</svg>\n",
              "  </button>\n",
              "\n",
              "<style>\n",
              "  .colab-df-quickchart {\n",
              "      --bg-color: #E8F0FE;\n",
              "      --fill-color: #1967D2;\n",
              "      --hover-bg-color: #E2EBFA;\n",
              "      --hover-fill-color: #174EA6;\n",
              "      --disabled-fill-color: #AAA;\n",
              "      --disabled-bg-color: #DDD;\n",
              "  }\n",
              "\n",
              "  [theme=dark] .colab-df-quickchart {\n",
              "      --bg-color: #3B4455;\n",
              "      --fill-color: #D2E3FC;\n",
              "      --hover-bg-color: #434B5C;\n",
              "      --hover-fill-color: #FFFFFF;\n",
              "      --disabled-bg-color: #3B4455;\n",
              "      --disabled-fill-color: #666;\n",
              "  }\n",
              "\n",
              "  .colab-df-quickchart {\n",
              "    background-color: var(--bg-color);\n",
              "    border: none;\n",
              "    border-radius: 50%;\n",
              "    cursor: pointer;\n",
              "    display: none;\n",
              "    fill: var(--fill-color);\n",
              "    height: 32px;\n",
              "    padding: 0;\n",
              "    width: 32px;\n",
              "  }\n",
              "\n",
              "  .colab-df-quickchart:hover {\n",
              "    background-color: var(--hover-bg-color);\n",
              "    box-shadow: 0 1px 2px rgba(60, 64, 67, 0.3), 0 1px 3px 1px rgba(60, 64, 67, 0.15);\n",
              "    fill: var(--button-hover-fill-color);\n",
              "  }\n",
              "\n",
              "  .colab-df-quickchart-complete:disabled,\n",
              "  .colab-df-quickchart-complete:disabled:hover {\n",
              "    background-color: var(--disabled-bg-color);\n",
              "    fill: var(--disabled-fill-color);\n",
              "    box-shadow: none;\n",
              "  }\n",
              "\n",
              "  .colab-df-spinner {\n",
              "    border: 2px solid var(--fill-color);\n",
              "    border-color: transparent;\n",
              "    border-bottom-color: var(--fill-color);\n",
              "    animation:\n",
              "      spin 1s steps(1) infinite;\n",
              "  }\n",
              "\n",
              "  @keyframes spin {\n",
              "    0% {\n",
              "      border-color: transparent;\n",
              "      border-bottom-color: var(--fill-color);\n",
              "      border-left-color: var(--fill-color);\n",
              "    }\n",
              "    20% {\n",
              "      border-color: transparent;\n",
              "      border-left-color: var(--fill-color);\n",
              "      border-top-color: var(--fill-color);\n",
              "    }\n",
              "    30% {\n",
              "      border-color: transparent;\n",
              "      border-left-color: var(--fill-color);\n",
              "      border-top-color: var(--fill-color);\n",
              "      border-right-color: var(--fill-color);\n",
              "    }\n",
              "    40% {\n",
              "      border-color: transparent;\n",
              "      border-right-color: var(--fill-color);\n",
              "      border-top-color: var(--fill-color);\n",
              "    }\n",
              "    60% {\n",
              "      border-color: transparent;\n",
              "      border-right-color: var(--fill-color);\n",
              "    }\n",
              "    80% {\n",
              "      border-color: transparent;\n",
              "      border-right-color: var(--fill-color);\n",
              "      border-bottom-color: var(--fill-color);\n",
              "    }\n",
              "    90% {\n",
              "      border-color: transparent;\n",
              "      border-bottom-color: var(--fill-color);\n",
              "    }\n",
              "  }\n",
              "</style>\n",
              "\n",
              "  <script>\n",
              "    async function quickchart(key) {\n",
              "      const quickchartButtonEl =\n",
              "        document.querySelector('#' + key + ' button');\n",
              "      quickchartButtonEl.disabled = true;  // To prevent multiple clicks.\n",
              "      quickchartButtonEl.classList.add('colab-df-spinner');\n",
              "      try {\n",
              "        const charts = await google.colab.kernel.invokeFunction(\n",
              "            'suggestCharts', [key], {});\n",
              "      } catch (error) {\n",
              "        console.error('Error during call to suggestCharts:', error);\n",
              "      }\n",
              "      quickchartButtonEl.classList.remove('colab-df-spinner');\n",
              "      quickchartButtonEl.classList.add('colab-df-quickchart-complete');\n",
              "    }\n",
              "    (() => {\n",
              "      let quickchartButtonEl =\n",
              "        document.querySelector('#df-46814586-52cf-44a1-ac9a-a21d3ee927c3 button');\n",
              "      quickchartButtonEl.style.display =\n",
              "        google.colab.kernel.accessAllowed ? 'block' : 'none';\n",
              "    })();\n",
              "  </script>\n",
              "</div>\n",
              "\n",
              "  <div id=\"id_56ce359a-c5d3-49af-bf6d-1913c4dc6e68\">\n",
              "    <style>\n",
              "      .colab-df-generate {\n",
              "        background-color: #E8F0FE;\n",
              "        border: none;\n",
              "        border-radius: 50%;\n",
              "        cursor: pointer;\n",
              "        display: none;\n",
              "        fill: #1967D2;\n",
              "        height: 32px;\n",
              "        padding: 0 0 0 0;\n",
              "        width: 32px;\n",
              "      }\n",
              "\n",
              "      .colab-df-generate:hover {\n",
              "        background-color: #E2EBFA;\n",
              "        box-shadow: 0px 1px 2px rgba(60, 64, 67, 0.3), 0px 1px 3px 1px rgba(60, 64, 67, 0.15);\n",
              "        fill: #174EA6;\n",
              "      }\n",
              "\n",
              "      [theme=dark] .colab-df-generate {\n",
              "        background-color: #3B4455;\n",
              "        fill: #D2E3FC;\n",
              "      }\n",
              "\n",
              "      [theme=dark] .colab-df-generate:hover {\n",
              "        background-color: #434B5C;\n",
              "        box-shadow: 0px 1px 3px 1px rgba(0, 0, 0, 0.15);\n",
              "        filter: drop-shadow(0px 1px 2px rgba(0, 0, 0, 0.3));\n",
              "        fill: #FFFFFF;\n",
              "      }\n",
              "    </style>\n",
              "    <button class=\"colab-df-generate\" onclick=\"generateWithVariable('cf')\"\n",
              "            title=\"Generate code using this dataframe.\"\n",
              "            style=\"display:none;\">\n",
              "\n",
              "  <svg xmlns=\"http://www.w3.org/2000/svg\" height=\"24px\"viewBox=\"0 0 24 24\"\n",
              "       width=\"24px\">\n",
              "    <path d=\"M7,19H8.4L18.45,9,17,7.55,7,17.6ZM5,21V16.75L18.45,3.32a2,2,0,0,1,2.83,0l1.4,1.43a1.91,1.91,0,0,1,.58,1.4,1.91,1.91,0,0,1-.58,1.4L9.25,21ZM18.45,9,17,7.55Zm-12,3A5.31,5.31,0,0,0,4.9,8.1,5.31,5.31,0,0,0,1,6.5,5.31,5.31,0,0,0,4.9,4.9,5.31,5.31,0,0,0,6.5,1,5.31,5.31,0,0,0,8.1,4.9,5.31,5.31,0,0,0,12,6.5,5.46,5.46,0,0,0,6.5,12Z\"/>\n",
              "  </svg>\n",
              "    </button>\n",
              "    <script>\n",
              "      (() => {\n",
              "      const buttonEl =\n",
              "        document.querySelector('#id_56ce359a-c5d3-49af-bf6d-1913c4dc6e68 button.colab-df-generate');\n",
              "      buttonEl.style.display =\n",
              "        google.colab.kernel.accessAllowed ? 'block' : 'none';\n",
              "\n",
              "      buttonEl.onclick = () => {\n",
              "        google.colab.notebook.generateWithVariable('cf');\n",
              "      }\n",
              "      })();\n",
              "    </script>\n",
              "  </div>\n",
              "\n",
              "    </div>\n",
              "  </div>\n"
            ],
            "application/vnd.google.colaboratory.intrinsic+json": {
              "type": "dataframe",
              "variable_name": "cf",
              "summary": "{\n  \"name\": \"cf\",\n  \"rows\": 2,\n  \"fields\": [\n    {\n      \"column\": \"y_test_0\",\n      \"properties\": {\n        \"dtype\": \"date\",\n        \"min\": 211,\n        \"max\": 1898,\n        \"num_unique_values\": 2,\n        \"samples\": [\n          211,\n          1898\n        ],\n        \"semantic_type\": \"\",\n        \"description\": \"\"\n      }\n    },\n    {\n      \"column\": \"y_test_1\",\n      \"properties\": {\n        \"dtype\": \"date\",\n        \"min\": 116,\n        \"max\": 775,\n        \"num_unique_values\": 2,\n        \"samples\": [\n          775,\n          116\n        ],\n        \"semantic_type\": \"\",\n        \"description\": \"\"\n      }\n    }\n  ]\n}"
            }
          },
          "metadata": {},
          "execution_count": 12
        }
      ],
      "source": [
        "# Create confusion matrix\n",
        "cf = pd.DataFrame(\n",
        "    columns=[\"y_test_0\", \"y_test_1\"], index=[\"y_pred_0\", \"y_pred_1\"]\n",
        ")\n",
        "\n",
        "cf.loc[:, :] = confusion_matrix(y_true=y_test, y_pred=y_test_predicted)\n",
        "cf"
      ]
    },
    {
      "cell_type": "code",
      "execution_count": 13,
      "metadata": {
        "colab": {
          "base_uri": "https://localhost:8080/",
          "height": 112
        },
        "id": "bpMimf0sT0wF",
        "outputId": "032047a9-d850-47d0-e7bb-bdc8e9c292ec"
      },
      "outputs": [
        {
          "output_type": "execute_result",
          "data": {
            "text/plain": [
              "          y_test_0  y_test_1\n",
              "y_pred_0  0.632667  0.038667\n",
              "y_pred_1  0.070333  0.258333"
            ],
            "text/html": [
              "\n",
              "  <div id=\"df-763a0368-8714-4291-a0d5-1cac10b06288\" class=\"colab-df-container\">\n",
              "    <div>\n",
              "<style scoped>\n",
              "    .dataframe tbody tr th:only-of-type {\n",
              "        vertical-align: middle;\n",
              "    }\n",
              "\n",
              "    .dataframe tbody tr th {\n",
              "        vertical-align: top;\n",
              "    }\n",
              "\n",
              "    .dataframe thead th {\n",
              "        text-align: right;\n",
              "    }\n",
              "</style>\n",
              "<table border=\"1\" class=\"dataframe\">\n",
              "  <thead>\n",
              "    <tr style=\"text-align: right;\">\n",
              "      <th></th>\n",
              "      <th>y_test_0</th>\n",
              "      <th>y_test_1</th>\n",
              "    </tr>\n",
              "  </thead>\n",
              "  <tbody>\n",
              "    <tr>\n",
              "      <th>y_pred_0</th>\n",
              "      <td>0.632667</td>\n",
              "      <td>0.038667</td>\n",
              "    </tr>\n",
              "    <tr>\n",
              "      <th>y_pred_1</th>\n",
              "      <td>0.070333</td>\n",
              "      <td>0.258333</td>\n",
              "    </tr>\n",
              "  </tbody>\n",
              "</table>\n",
              "</div>\n",
              "    <div class=\"colab-df-buttons\">\n",
              "\n",
              "  <div class=\"colab-df-container\">\n",
              "    <button class=\"colab-df-convert\" onclick=\"convertToInteractive('df-763a0368-8714-4291-a0d5-1cac10b06288')\"\n",
              "            title=\"Convert this dataframe to an interactive table.\"\n",
              "            style=\"display:none;\">\n",
              "\n",
              "  <svg xmlns=\"http://www.w3.org/2000/svg\" height=\"24px\" viewBox=\"0 -960 960 960\">\n",
              "    <path d=\"M120-120v-720h720v720H120Zm60-500h600v-160H180v160Zm220 220h160v-160H400v160Zm0 220h160v-160H400v160ZM180-400h160v-160H180v160Zm440 0h160v-160H620v160ZM180-180h160v-160H180v160Zm440 0h160v-160H620v160Z\"/>\n",
              "  </svg>\n",
              "    </button>\n",
              "\n",
              "  <style>\n",
              "    .colab-df-container {\n",
              "      display:flex;\n",
              "      gap: 12px;\n",
              "    }\n",
              "\n",
              "    .colab-df-convert {\n",
              "      background-color: #E8F0FE;\n",
              "      border: none;\n",
              "      border-radius: 50%;\n",
              "      cursor: pointer;\n",
              "      display: none;\n",
              "      fill: #1967D2;\n",
              "      height: 32px;\n",
              "      padding: 0 0 0 0;\n",
              "      width: 32px;\n",
              "    }\n",
              "\n",
              "    .colab-df-convert:hover {\n",
              "      background-color: #E2EBFA;\n",
              "      box-shadow: 0px 1px 2px rgba(60, 64, 67, 0.3), 0px 1px 3px 1px rgba(60, 64, 67, 0.15);\n",
              "      fill: #174EA6;\n",
              "    }\n",
              "\n",
              "    .colab-df-buttons div {\n",
              "      margin-bottom: 4px;\n",
              "    }\n",
              "\n",
              "    [theme=dark] .colab-df-convert {\n",
              "      background-color: #3B4455;\n",
              "      fill: #D2E3FC;\n",
              "    }\n",
              "\n",
              "    [theme=dark] .colab-df-convert:hover {\n",
              "      background-color: #434B5C;\n",
              "      box-shadow: 0px 1px 3px 1px rgba(0, 0, 0, 0.15);\n",
              "      filter: drop-shadow(0px 1px 2px rgba(0, 0, 0, 0.3));\n",
              "      fill: #FFFFFF;\n",
              "    }\n",
              "  </style>\n",
              "\n",
              "    <script>\n",
              "      const buttonEl =\n",
              "        document.querySelector('#df-763a0368-8714-4291-a0d5-1cac10b06288 button.colab-df-convert');\n",
              "      buttonEl.style.display =\n",
              "        google.colab.kernel.accessAllowed ? 'block' : 'none';\n",
              "\n",
              "      async function convertToInteractive(key) {\n",
              "        const element = document.querySelector('#df-763a0368-8714-4291-a0d5-1cac10b06288');\n",
              "        const dataTable =\n",
              "          await google.colab.kernel.invokeFunction('convertToInteractive',\n",
              "                                                    [key], {});\n",
              "        if (!dataTable) return;\n",
              "\n",
              "        const docLinkHtml = 'Like what you see? Visit the ' +\n",
              "          '<a target=\"_blank\" href=https://colab.research.google.com/notebooks/data_table.ipynb>data table notebook</a>'\n",
              "          + ' to learn more about interactive tables.';\n",
              "        element.innerHTML = '';\n",
              "        dataTable['output_type'] = 'display_data';\n",
              "        await google.colab.output.renderOutput(dataTable, element);\n",
              "        const docLink = document.createElement('div');\n",
              "        docLink.innerHTML = docLinkHtml;\n",
              "        element.appendChild(docLink);\n",
              "      }\n",
              "    </script>\n",
              "  </div>\n",
              "\n",
              "\n",
              "<div id=\"df-10d30459-ddcc-4e64-9fde-85a36095fc2b\">\n",
              "  <button class=\"colab-df-quickchart\" onclick=\"quickchart('df-10d30459-ddcc-4e64-9fde-85a36095fc2b')\"\n",
              "            title=\"Suggest charts\"\n",
              "            style=\"display:none;\">\n",
              "\n",
              "<svg xmlns=\"http://www.w3.org/2000/svg\" height=\"24px\"viewBox=\"0 0 24 24\"\n",
              "     width=\"24px\">\n",
              "    <g>\n",
              "        <path d=\"M19 3H5c-1.1 0-2 .9-2 2v14c0 1.1.9 2 2 2h14c1.1 0 2-.9 2-2V5c0-1.1-.9-2-2-2zM9 17H7v-7h2v7zm4 0h-2V7h2v10zm4 0h-2v-4h2v4z\"/>\n",
              "    </g>\n",
              "</svg>\n",
              "  </button>\n",
              "\n",
              "<style>\n",
              "  .colab-df-quickchart {\n",
              "      --bg-color: #E8F0FE;\n",
              "      --fill-color: #1967D2;\n",
              "      --hover-bg-color: #E2EBFA;\n",
              "      --hover-fill-color: #174EA6;\n",
              "      --disabled-fill-color: #AAA;\n",
              "      --disabled-bg-color: #DDD;\n",
              "  }\n",
              "\n",
              "  [theme=dark] .colab-df-quickchart {\n",
              "      --bg-color: #3B4455;\n",
              "      --fill-color: #D2E3FC;\n",
              "      --hover-bg-color: #434B5C;\n",
              "      --hover-fill-color: #FFFFFF;\n",
              "      --disabled-bg-color: #3B4455;\n",
              "      --disabled-fill-color: #666;\n",
              "  }\n",
              "\n",
              "  .colab-df-quickchart {\n",
              "    background-color: var(--bg-color);\n",
              "    border: none;\n",
              "    border-radius: 50%;\n",
              "    cursor: pointer;\n",
              "    display: none;\n",
              "    fill: var(--fill-color);\n",
              "    height: 32px;\n",
              "    padding: 0;\n",
              "    width: 32px;\n",
              "  }\n",
              "\n",
              "  .colab-df-quickchart:hover {\n",
              "    background-color: var(--hover-bg-color);\n",
              "    box-shadow: 0 1px 2px rgba(60, 64, 67, 0.3), 0 1px 3px 1px rgba(60, 64, 67, 0.15);\n",
              "    fill: var(--button-hover-fill-color);\n",
              "  }\n",
              "\n",
              "  .colab-df-quickchart-complete:disabled,\n",
              "  .colab-df-quickchart-complete:disabled:hover {\n",
              "    background-color: var(--disabled-bg-color);\n",
              "    fill: var(--disabled-fill-color);\n",
              "    box-shadow: none;\n",
              "  }\n",
              "\n",
              "  .colab-df-spinner {\n",
              "    border: 2px solid var(--fill-color);\n",
              "    border-color: transparent;\n",
              "    border-bottom-color: var(--fill-color);\n",
              "    animation:\n",
              "      spin 1s steps(1) infinite;\n",
              "  }\n",
              "\n",
              "  @keyframes spin {\n",
              "    0% {\n",
              "      border-color: transparent;\n",
              "      border-bottom-color: var(--fill-color);\n",
              "      border-left-color: var(--fill-color);\n",
              "    }\n",
              "    20% {\n",
              "      border-color: transparent;\n",
              "      border-left-color: var(--fill-color);\n",
              "      border-top-color: var(--fill-color);\n",
              "    }\n",
              "    30% {\n",
              "      border-color: transparent;\n",
              "      border-left-color: var(--fill-color);\n",
              "      border-top-color: var(--fill-color);\n",
              "      border-right-color: var(--fill-color);\n",
              "    }\n",
              "    40% {\n",
              "      border-color: transparent;\n",
              "      border-right-color: var(--fill-color);\n",
              "      border-top-color: var(--fill-color);\n",
              "    }\n",
              "    60% {\n",
              "      border-color: transparent;\n",
              "      border-right-color: var(--fill-color);\n",
              "    }\n",
              "    80% {\n",
              "      border-color: transparent;\n",
              "      border-right-color: var(--fill-color);\n",
              "      border-bottom-color: var(--fill-color);\n",
              "    }\n",
              "    90% {\n",
              "      border-color: transparent;\n",
              "      border-bottom-color: var(--fill-color);\n",
              "    }\n",
              "  }\n",
              "</style>\n",
              "\n",
              "  <script>\n",
              "    async function quickchart(key) {\n",
              "      const quickchartButtonEl =\n",
              "        document.querySelector('#' + key + ' button');\n",
              "      quickchartButtonEl.disabled = true;  // To prevent multiple clicks.\n",
              "      quickchartButtonEl.classList.add('colab-df-spinner');\n",
              "      try {\n",
              "        const charts = await google.colab.kernel.invokeFunction(\n",
              "            'suggestCharts', [key], {});\n",
              "      } catch (error) {\n",
              "        console.error('Error during call to suggestCharts:', error);\n",
              "      }\n",
              "      quickchartButtonEl.classList.remove('colab-df-spinner');\n",
              "      quickchartButtonEl.classList.add('colab-df-quickchart-complete');\n",
              "    }\n",
              "    (() => {\n",
              "      let quickchartButtonEl =\n",
              "        document.querySelector('#df-10d30459-ddcc-4e64-9fde-85a36095fc2b button');\n",
              "      quickchartButtonEl.style.display =\n",
              "        google.colab.kernel.accessAllowed ? 'block' : 'none';\n",
              "    })();\n",
              "  </script>\n",
              "</div>\n",
              "\n",
              "    </div>\n",
              "  </div>\n"
            ],
            "application/vnd.google.colaboratory.intrinsic+json": {
              "type": "dataframe",
              "summary": "{\n  \"name\": \"cf / len(y_test)\",\n  \"rows\": 2,\n  \"fields\": [\n    {\n      \"column\": \"y_test_0\",\n      \"properties\": {\n        \"dtype\": \"date\",\n        \"min\": 0.07033333333333333,\n        \"max\": 0.6326666666666667,\n        \"num_unique_values\": 2,\n        \"samples\": [\n          0.07033333333333333,\n          0.6326666666666667\n        ],\n        \"semantic_type\": \"\",\n        \"description\": \"\"\n      }\n    },\n    {\n      \"column\": \"y_test_1\",\n      \"properties\": {\n        \"dtype\": \"date\",\n        \"min\": 0.03866666666666667,\n        \"max\": 0.25833333333333336,\n        \"num_unique_values\": 2,\n        \"samples\": [\n          0.25833333333333336,\n          0.03866666666666667\n        ],\n        \"semantic_type\": \"\",\n        \"description\": \"\"\n      }\n    }\n  ]\n}"
            }
          },
          "metadata": {},
          "execution_count": 13
        }
      ],
      "source": [
        "# Normalized confusion matrix\n",
        "cf / len(y_test)"
      ]
    },
    {
      "cell_type": "markdown",
      "metadata": {
        "id": "E76QqXUKT0wF"
      },
      "source": [
        "### 4.2 Classification Metrics"
      ]
    },
    {
      "cell_type": "code",
      "execution_count": 14,
      "metadata": {
        "id": "OQTKWe5RT0wF"
      },
      "outputs": [],
      "source": [
        "from sklearn.metrics import recall_score, precision_score, classification_report"
      ]
    },
    {
      "cell_type": "code",
      "execution_count": 15,
      "metadata": {
        "colab": {
          "base_uri": "https://localhost:8080/"
        },
        "id": "V9fRAxnTT0wG",
        "outputId": "f6f6c26e-9c5a-4f8c-8dea-48482eddb4e1"
      },
      "outputs": [
        {
          "output_type": "stream",
          "name": "stdout",
          "text": [
            "Recall: 0.7860040567951319,\n",
            "Precision: 0.8698092031425365\n"
          ]
        }
      ],
      "source": [
        "# Calculate recall and precision\n",
        "recall = recall_score(y_true=y_test, y_pred=y_test_predicted)\n",
        "precision = precision_score(y_true=y_test, y_pred=y_test_predicted)\n",
        "\n",
        "print(f\"Recall: {recall},\\nPrecision: {precision}\")"
      ]
    },
    {
      "cell_type": "code",
      "execution_count": 16,
      "metadata": {
        "colab": {
          "base_uri": "https://localhost:8080/"
        },
        "id": "5qPh1vquT0wG",
        "outputId": "6e472f71-c376-472e-dd3a-046a635a7d6d"
      },
      "outputs": [
        {
          "output_type": "stream",
          "name": "stdout",
          "text": [
            "Classification Report:\n",
            "              precision    recall  f1-score   support\n",
            "\n",
            "           0       0.90      0.94      0.92      2014\n",
            "           1       0.87      0.79      0.83       986\n",
            "\n",
            "    accuracy                           0.89      3000\n",
            "   macro avg       0.88      0.86      0.87      3000\n",
            "weighted avg       0.89      0.89      0.89      3000\n",
            "\n"
          ]
        }
      ],
      "source": [
        "# Generate classification report\n",
        "report = classification_report(y_true=y_test, y_pred=y_test_predicted)\n",
        "print(\"Classification Report:\")\n",
        "print(report)"
      ]
    },
    {
      "cell_type": "markdown",
      "metadata": {
        "id": "2kNXnZ70T0wG"
      },
      "source": [
        "## 5. Feature Importance Analysis"
      ]
    },
    {
      "cell_type": "code",
      "execution_count": 17,
      "metadata": {
        "colab": {
          "base_uri": "https://localhost:8080/",
          "height": 300
        },
        "id": "59kPE9gCT0wH",
        "outputId": "7da1f6ed-bd32-4b75-a357-906ddffd54bf"
      },
      "outputs": [
        {
          "output_type": "execute_result",
          "data": {
            "text/plain": [
              "                  Feature  Importance\n",
              "0             Pregnancies    0.557560\n",
              "5                     BMI    0.198222\n",
              "7                     Age    0.125738\n",
              "4            SerumInsulin    0.105129\n",
              "1           PlasmaGlucose    0.011978\n",
              "3        TricepsThickness    0.001373\n",
              "2  DiastolicBloodPressure    0.000000\n",
              "6        DiabetesPedigree    0.000000"
            ],
            "text/html": [
              "\n",
              "  <div id=\"df-83e56d8d-af8e-48b9-8aff-a82306dc7116\" class=\"colab-df-container\">\n",
              "    <div>\n",
              "<style scoped>\n",
              "    .dataframe tbody tr th:only-of-type {\n",
              "        vertical-align: middle;\n",
              "    }\n",
              "\n",
              "    .dataframe tbody tr th {\n",
              "        vertical-align: top;\n",
              "    }\n",
              "\n",
              "    .dataframe thead th {\n",
              "        text-align: right;\n",
              "    }\n",
              "</style>\n",
              "<table border=\"1\" class=\"dataframe\">\n",
              "  <thead>\n",
              "    <tr style=\"text-align: right;\">\n",
              "      <th></th>\n",
              "      <th>Feature</th>\n",
              "      <th>Importance</th>\n",
              "    </tr>\n",
              "  </thead>\n",
              "  <tbody>\n",
              "    <tr>\n",
              "      <th>0</th>\n",
              "      <td>Pregnancies</td>\n",
              "      <td>0.557560</td>\n",
              "    </tr>\n",
              "    <tr>\n",
              "      <th>5</th>\n",
              "      <td>BMI</td>\n",
              "      <td>0.198222</td>\n",
              "    </tr>\n",
              "    <tr>\n",
              "      <th>7</th>\n",
              "      <td>Age</td>\n",
              "      <td>0.125738</td>\n",
              "    </tr>\n",
              "    <tr>\n",
              "      <th>4</th>\n",
              "      <td>SerumInsulin</td>\n",
              "      <td>0.105129</td>\n",
              "    </tr>\n",
              "    <tr>\n",
              "      <th>1</th>\n",
              "      <td>PlasmaGlucose</td>\n",
              "      <td>0.011978</td>\n",
              "    </tr>\n",
              "    <tr>\n",
              "      <th>3</th>\n",
              "      <td>TricepsThickness</td>\n",
              "      <td>0.001373</td>\n",
              "    </tr>\n",
              "    <tr>\n",
              "      <th>2</th>\n",
              "      <td>DiastolicBloodPressure</td>\n",
              "      <td>0.000000</td>\n",
              "    </tr>\n",
              "    <tr>\n",
              "      <th>6</th>\n",
              "      <td>DiabetesPedigree</td>\n",
              "      <td>0.000000</td>\n",
              "    </tr>\n",
              "  </tbody>\n",
              "</table>\n",
              "</div>\n",
              "    <div class=\"colab-df-buttons\">\n",
              "\n",
              "  <div class=\"colab-df-container\">\n",
              "    <button class=\"colab-df-convert\" onclick=\"convertToInteractive('df-83e56d8d-af8e-48b9-8aff-a82306dc7116')\"\n",
              "            title=\"Convert this dataframe to an interactive table.\"\n",
              "            style=\"display:none;\">\n",
              "\n",
              "  <svg xmlns=\"http://www.w3.org/2000/svg\" height=\"24px\" viewBox=\"0 -960 960 960\">\n",
              "    <path d=\"M120-120v-720h720v720H120Zm60-500h600v-160H180v160Zm220 220h160v-160H400v160Zm0 220h160v-160H400v160ZM180-400h160v-160H180v160Zm440 0h160v-160H620v160ZM180-180h160v-160H180v160Zm440 0h160v-160H620v160Z\"/>\n",
              "  </svg>\n",
              "    </button>\n",
              "\n",
              "  <style>\n",
              "    .colab-df-container {\n",
              "      display:flex;\n",
              "      gap: 12px;\n",
              "    }\n",
              "\n",
              "    .colab-df-convert {\n",
              "      background-color: #E8F0FE;\n",
              "      border: none;\n",
              "      border-radius: 50%;\n",
              "      cursor: pointer;\n",
              "      display: none;\n",
              "      fill: #1967D2;\n",
              "      height: 32px;\n",
              "      padding: 0 0 0 0;\n",
              "      width: 32px;\n",
              "    }\n",
              "\n",
              "    .colab-df-convert:hover {\n",
              "      background-color: #E2EBFA;\n",
              "      box-shadow: 0px 1px 2px rgba(60, 64, 67, 0.3), 0px 1px 3px 1px rgba(60, 64, 67, 0.15);\n",
              "      fill: #174EA6;\n",
              "    }\n",
              "\n",
              "    .colab-df-buttons div {\n",
              "      margin-bottom: 4px;\n",
              "    }\n",
              "\n",
              "    [theme=dark] .colab-df-convert {\n",
              "      background-color: #3B4455;\n",
              "      fill: #D2E3FC;\n",
              "    }\n",
              "\n",
              "    [theme=dark] .colab-df-convert:hover {\n",
              "      background-color: #434B5C;\n",
              "      box-shadow: 0px 1px 3px 1px rgba(0, 0, 0, 0.15);\n",
              "      filter: drop-shadow(0px 1px 2px rgba(0, 0, 0, 0.3));\n",
              "      fill: #FFFFFF;\n",
              "    }\n",
              "  </style>\n",
              "\n",
              "    <script>\n",
              "      const buttonEl =\n",
              "        document.querySelector('#df-83e56d8d-af8e-48b9-8aff-a82306dc7116 button.colab-df-convert');\n",
              "      buttonEl.style.display =\n",
              "        google.colab.kernel.accessAllowed ? 'block' : 'none';\n",
              "\n",
              "      async function convertToInteractive(key) {\n",
              "        const element = document.querySelector('#df-83e56d8d-af8e-48b9-8aff-a82306dc7116');\n",
              "        const dataTable =\n",
              "          await google.colab.kernel.invokeFunction('convertToInteractive',\n",
              "                                                    [key], {});\n",
              "        if (!dataTable) return;\n",
              "\n",
              "        const docLinkHtml = 'Like what you see? Visit the ' +\n",
              "          '<a target=\"_blank\" href=https://colab.research.google.com/notebooks/data_table.ipynb>data table notebook</a>'\n",
              "          + ' to learn more about interactive tables.';\n",
              "        element.innerHTML = '';\n",
              "        dataTable['output_type'] = 'display_data';\n",
              "        await google.colab.output.renderOutput(dataTable, element);\n",
              "        const docLink = document.createElement('div');\n",
              "        docLink.innerHTML = docLinkHtml;\n",
              "        element.appendChild(docLink);\n",
              "      }\n",
              "    </script>\n",
              "  </div>\n",
              "\n",
              "\n",
              "<div id=\"df-af39496d-120e-4c42-a38a-b0b2ce228941\">\n",
              "  <button class=\"colab-df-quickchart\" onclick=\"quickchart('df-af39496d-120e-4c42-a38a-b0b2ce228941')\"\n",
              "            title=\"Suggest charts\"\n",
              "            style=\"display:none;\">\n",
              "\n",
              "<svg xmlns=\"http://www.w3.org/2000/svg\" height=\"24px\"viewBox=\"0 0 24 24\"\n",
              "     width=\"24px\">\n",
              "    <g>\n",
              "        <path d=\"M19 3H5c-1.1 0-2 .9-2 2v14c0 1.1.9 2 2 2h14c1.1 0 2-.9 2-2V5c0-1.1-.9-2-2-2zM9 17H7v-7h2v7zm4 0h-2V7h2v10zm4 0h-2v-4h2v4z\"/>\n",
              "    </g>\n",
              "</svg>\n",
              "  </button>\n",
              "\n",
              "<style>\n",
              "  .colab-df-quickchart {\n",
              "      --bg-color: #E8F0FE;\n",
              "      --fill-color: #1967D2;\n",
              "      --hover-bg-color: #E2EBFA;\n",
              "      --hover-fill-color: #174EA6;\n",
              "      --disabled-fill-color: #AAA;\n",
              "      --disabled-bg-color: #DDD;\n",
              "  }\n",
              "\n",
              "  [theme=dark] .colab-df-quickchart {\n",
              "      --bg-color: #3B4455;\n",
              "      --fill-color: #D2E3FC;\n",
              "      --hover-bg-color: #434B5C;\n",
              "      --hover-fill-color: #FFFFFF;\n",
              "      --disabled-bg-color: #3B4455;\n",
              "      --disabled-fill-color: #666;\n",
              "  }\n",
              "\n",
              "  .colab-df-quickchart {\n",
              "    background-color: var(--bg-color);\n",
              "    border: none;\n",
              "    border-radius: 50%;\n",
              "    cursor: pointer;\n",
              "    display: none;\n",
              "    fill: var(--fill-color);\n",
              "    height: 32px;\n",
              "    padding: 0;\n",
              "    width: 32px;\n",
              "  }\n",
              "\n",
              "  .colab-df-quickchart:hover {\n",
              "    background-color: var(--hover-bg-color);\n",
              "    box-shadow: 0 1px 2px rgba(60, 64, 67, 0.3), 0 1px 3px 1px rgba(60, 64, 67, 0.15);\n",
              "    fill: var(--button-hover-fill-color);\n",
              "  }\n",
              "\n",
              "  .colab-df-quickchart-complete:disabled,\n",
              "  .colab-df-quickchart-complete:disabled:hover {\n",
              "    background-color: var(--disabled-bg-color);\n",
              "    fill: var(--disabled-fill-color);\n",
              "    box-shadow: none;\n",
              "  }\n",
              "\n",
              "  .colab-df-spinner {\n",
              "    border: 2px solid var(--fill-color);\n",
              "    border-color: transparent;\n",
              "    border-bottom-color: var(--fill-color);\n",
              "    animation:\n",
              "      spin 1s steps(1) infinite;\n",
              "  }\n",
              "\n",
              "  @keyframes spin {\n",
              "    0% {\n",
              "      border-color: transparent;\n",
              "      border-bottom-color: var(--fill-color);\n",
              "      border-left-color: var(--fill-color);\n",
              "    }\n",
              "    20% {\n",
              "      border-color: transparent;\n",
              "      border-left-color: var(--fill-color);\n",
              "      border-top-color: var(--fill-color);\n",
              "    }\n",
              "    30% {\n",
              "      border-color: transparent;\n",
              "      border-left-color: var(--fill-color);\n",
              "      border-top-color: var(--fill-color);\n",
              "      border-right-color: var(--fill-color);\n",
              "    }\n",
              "    40% {\n",
              "      border-color: transparent;\n",
              "      border-right-color: var(--fill-color);\n",
              "      border-top-color: var(--fill-color);\n",
              "    }\n",
              "    60% {\n",
              "      border-color: transparent;\n",
              "      border-right-color: var(--fill-color);\n",
              "    }\n",
              "    80% {\n",
              "      border-color: transparent;\n",
              "      border-right-color: var(--fill-color);\n",
              "      border-bottom-color: var(--fill-color);\n",
              "    }\n",
              "    90% {\n",
              "      border-color: transparent;\n",
              "      border-bottom-color: var(--fill-color);\n",
              "    }\n",
              "  }\n",
              "</style>\n",
              "\n",
              "  <script>\n",
              "    async function quickchart(key) {\n",
              "      const quickchartButtonEl =\n",
              "        document.querySelector('#' + key + ' button');\n",
              "      quickchartButtonEl.disabled = true;  // To prevent multiple clicks.\n",
              "      quickchartButtonEl.classList.add('colab-df-spinner');\n",
              "      try {\n",
              "        const charts = await google.colab.kernel.invokeFunction(\n",
              "            'suggestCharts', [key], {});\n",
              "      } catch (error) {\n",
              "        console.error('Error during call to suggestCharts:', error);\n",
              "      }\n",
              "      quickchartButtonEl.classList.remove('colab-df-spinner');\n",
              "      quickchartButtonEl.classList.add('colab-df-quickchart-complete');\n",
              "    }\n",
              "    (() => {\n",
              "      let quickchartButtonEl =\n",
              "        document.querySelector('#df-af39496d-120e-4c42-a38a-b0b2ce228941 button');\n",
              "      quickchartButtonEl.style.display =\n",
              "        google.colab.kernel.accessAllowed ? 'block' : 'none';\n",
              "    })();\n",
              "  </script>\n",
              "</div>\n",
              "\n",
              "  <div id=\"id_73417842-2095-4486-b1e0-db13c64f6204\">\n",
              "    <style>\n",
              "      .colab-df-generate {\n",
              "        background-color: #E8F0FE;\n",
              "        border: none;\n",
              "        border-radius: 50%;\n",
              "        cursor: pointer;\n",
              "        display: none;\n",
              "        fill: #1967D2;\n",
              "        height: 32px;\n",
              "        padding: 0 0 0 0;\n",
              "        width: 32px;\n",
              "      }\n",
              "\n",
              "      .colab-df-generate:hover {\n",
              "        background-color: #E2EBFA;\n",
              "        box-shadow: 0px 1px 2px rgba(60, 64, 67, 0.3), 0px 1px 3px 1px rgba(60, 64, 67, 0.15);\n",
              "        fill: #174EA6;\n",
              "      }\n",
              "\n",
              "      [theme=dark] .colab-df-generate {\n",
              "        background-color: #3B4455;\n",
              "        fill: #D2E3FC;\n",
              "      }\n",
              "\n",
              "      [theme=dark] .colab-df-generate:hover {\n",
              "        background-color: #434B5C;\n",
              "        box-shadow: 0px 1px 3px 1px rgba(0, 0, 0, 0.15);\n",
              "        filter: drop-shadow(0px 1px 2px rgba(0, 0, 0, 0.3));\n",
              "        fill: #FFFFFF;\n",
              "      }\n",
              "    </style>\n",
              "    <button class=\"colab-df-generate\" onclick=\"generateWithVariable('feature_importance_df')\"\n",
              "            title=\"Generate code using this dataframe.\"\n",
              "            style=\"display:none;\">\n",
              "\n",
              "  <svg xmlns=\"http://www.w3.org/2000/svg\" height=\"24px\"viewBox=\"0 0 24 24\"\n",
              "       width=\"24px\">\n",
              "    <path d=\"M7,19H8.4L18.45,9,17,7.55,7,17.6ZM5,21V16.75L18.45,3.32a2,2,0,0,1,2.83,0l1.4,1.43a1.91,1.91,0,0,1,.58,1.4,1.91,1.91,0,0,1-.58,1.4L9.25,21ZM18.45,9,17,7.55Zm-12,3A5.31,5.31,0,0,0,4.9,8.1,5.31,5.31,0,0,0,1,6.5,5.31,5.31,0,0,0,4.9,4.9,5.31,5.31,0,0,0,6.5,1,5.31,5.31,0,0,0,8.1,4.9,5.31,5.31,0,0,0,12,6.5,5.46,5.46,0,0,0,6.5,12Z\"/>\n",
              "  </svg>\n",
              "    </button>\n",
              "    <script>\n",
              "      (() => {\n",
              "      const buttonEl =\n",
              "        document.querySelector('#id_73417842-2095-4486-b1e0-db13c64f6204 button.colab-df-generate');\n",
              "      buttonEl.style.display =\n",
              "        google.colab.kernel.accessAllowed ? 'block' : 'none';\n",
              "\n",
              "      buttonEl.onclick = () => {\n",
              "        google.colab.notebook.generateWithVariable('feature_importance_df');\n",
              "      }\n",
              "      })();\n",
              "    </script>\n",
              "  </div>\n",
              "\n",
              "    </div>\n",
              "  </div>\n"
            ],
            "application/vnd.google.colaboratory.intrinsic+json": {
              "type": "dataframe",
              "variable_name": "feature_importance_df",
              "summary": "{\n  \"name\": \"feature_importance_df\",\n  \"rows\": 8,\n  \"fields\": [\n    {\n      \"column\": \"Feature\",\n      \"properties\": {\n        \"dtype\": \"string\",\n        \"num_unique_values\": 8,\n        \"samples\": [\n          \"BMI\",\n          \"TricepsThickness\",\n          \"Pregnancies\"\n        ],\n        \"semantic_type\": \"\",\n        \"description\": \"\"\n      }\n    },\n    {\n      \"column\": \"Importance\",\n      \"properties\": {\n        \"dtype\": \"number\",\n        \"std\": 0.18980147352592222,\n        \"min\": 0.0,\n        \"max\": 0.5575596201138848,\n        \"num_unique_values\": 7,\n        \"samples\": [\n          0.5575596201138848,\n          0.19822154690982094,\n          0.0013729274516961966\n        ],\n        \"semantic_type\": \"\",\n        \"description\": \"\"\n      }\n    }\n  ]\n}"
            }
          },
          "metadata": {},
          "execution_count": 17
        }
      ],
      "source": [
        "# Extract feature importance\n",
        "importances = dt_classifier.feature_importances_\n",
        "feature_importance_df = pd.DataFrame({\n",
        "    'Feature': feature_columns,\n",
        "    'Importance': importances\n",
        "})\n",
        "\n",
        "# Sort by importance\n",
        "feature_importance_df = feature_importance_df.sort_values('Importance', ascending=False)\n",
        "feature_importance_df"
      ]
    },
    {
      "cell_type": "markdown",
      "metadata": {
        "id": "YChAjf3UT0wH"
      },
      "source": [
        "## 6. Model Visualization"
      ]
    },
    {
      "cell_type": "code",
      "execution_count": 18,
      "metadata": {
        "colab": {
          "base_uri": "https://localhost:8080/",
          "height": 935
        },
        "id": "fNAYJcFaT0wH",
        "outputId": "591e4fe6-c75a-4071-8b3f-aeb90fb7418a"
      },
      "outputs": [
        {
          "output_type": "execute_result",
          "data": {
            "image/svg+xml": "<?xml version=\"1.0\" encoding=\"UTF-8\" standalone=\"no\"?>\n<!DOCTYPE svg PUBLIC \"-//W3C//DTD SVG 1.1//EN\"\n \"http://www.w3.org/Graphics/SVG/1.1/DTD/svg11.dtd\">\n<!-- Generated by graphviz version 2.43.0 (0)\n -->\n<!-- Title: Tree Pages: 1 -->\n<svg width=\"4515pt\" height=\"671pt\"\n viewBox=\"0.00 0.00 4515.00 671.00\" xmlns=\"http://www.w3.org/2000/svg\" xmlns:xlink=\"http://www.w3.org/1999/xlink\">\n<g id=\"graph0\" class=\"graph\" transform=\"scale(1 1) rotate(0) translate(4 667)\">\n<title>Tree</title>\n<polygon fill=\"white\" stroke=\"transparent\" points=\"-4,4 -4,-667 4511,-667 4511,4 -4,4\"/>\n<!-- 0 -->\n<g id=\"node1\" class=\"node\">\n<title>0</title>\n<path fill=\"#f2c09d\" stroke=\"black\" d=\"M2433.5,-663C2433.5,-663 2295.5,-663 2295.5,-663 2289.5,-663 2283.5,-657 2283.5,-651 2283.5,-651 2283.5,-592 2283.5,-592 2283.5,-586 2289.5,-580 2295.5,-580 2295.5,-580 2433.5,-580 2433.5,-580 2439.5,-580 2445.5,-586 2445.5,-592 2445.5,-592 2445.5,-651 2445.5,-651 2445.5,-657 2439.5,-663 2433.5,-663\"/>\n<text text-anchor=\"start\" x=\"2310\" y=\"-647.8\" font-family=\"Helvetica,sans-Serif\" font-size=\"14.00\">Pregnancies ≤ 1.5</text>\n<text text-anchor=\"start\" x=\"2329\" y=\"-632.8\" font-family=\"Helvetica,sans-Serif\" font-size=\"14.00\">gini = 0.445</text>\n<text text-anchor=\"start\" x=\"2312\" y=\"-617.8\" font-family=\"Helvetica,sans-Serif\" font-size=\"14.00\">samples = 12000</text>\n<text text-anchor=\"start\" x=\"2291.5\" y=\"-602.8\" font-family=\"Helvetica,sans-Serif\" font-size=\"14.00\">value = [7986.0, 4014.0]</text>\n<text text-anchor=\"start\" x=\"2302\" y=\"-587.8\" font-family=\"Helvetica,sans-Serif\" font-size=\"14.00\">class = Non&#45;Diabetic</text>\n</g>\n<!-- 1 -->\n<g id=\"node2\" class=\"node\">\n<title>1</title>\n<path fill=\"#e68641\" stroke=\"black\" d=\"M1600,-544C1600,-544 1483,-544 1483,-544 1477,-544 1471,-538 1471,-532 1471,-532 1471,-473 1471,-473 1471,-467 1477,-461 1483,-461 1483,-461 1600,-461 1600,-461 1606,-461 1612,-467 1612,-473 1612,-473 1612,-532 1612,-532 1612,-538 1606,-544 1600,-544\"/>\n<text text-anchor=\"start\" x=\"1508.5\" y=\"-528.8\" font-family=\"Helvetica,sans-Serif\" font-size=\"14.00\">Age ≤ 35.5</text>\n<text text-anchor=\"start\" x=\"1506\" y=\"-513.8\" font-family=\"Helvetica,sans-Serif\" font-size=\"14.00\">gini = 0.074</text>\n<text text-anchor=\"start\" x=\"1493\" y=\"-498.8\" font-family=\"Helvetica,sans-Serif\" font-size=\"14.00\">samples = 5769</text>\n<text text-anchor=\"start\" x=\"1483.5\" y=\"-483.8\" font-family=\"Helvetica,sans-Serif\" font-size=\"14.00\">value = [5548, 221]</text>\n<text text-anchor=\"start\" x=\"1479\" y=\"-468.8\" font-family=\"Helvetica,sans-Serif\" font-size=\"14.00\">class = Non&#45;Diabetic</text>\n</g>\n<!-- 0&#45;&gt;1 -->\n<g id=\"edge1\" class=\"edge\">\n<title>0&#45;&gt;1</title>\n<path fill=\"none\" stroke=\"black\" d=\"M2283.34,-608.96C2125.6,-586.54 1779.39,-537.32 1622.11,-514.96\"/>\n<polygon fill=\"black\" stroke=\"black\" points=\"1622.42,-511.47 1612.02,-513.53 1621.43,-518.4 1622.42,-511.47\"/>\n<text text-anchor=\"middle\" x=\"1627.04\" y=\"-529.82\" font-family=\"Helvetica,sans-Serif\" font-size=\"14.00\">True</text>\n</g>\n<!-- 30 -->\n<g id=\"node31\" class=\"node\">\n<title>30</title>\n<path fill=\"#b8dcf6\" stroke=\"black\" d=\"M2693.5,-544C2693.5,-544 2555.5,-544 2555.5,-544 2549.5,-544 2543.5,-538 2543.5,-532 2543.5,-532 2543.5,-473 2543.5,-473 2543.5,-467 2549.5,-461 2555.5,-461 2555.5,-461 2693.5,-461 2693.5,-461 2699.5,-461 2705.5,-467 2705.5,-473 2705.5,-473 2705.5,-532 2705.5,-532 2705.5,-538 2699.5,-544 2693.5,-544\"/>\n<text text-anchor=\"start\" x=\"2583.5\" y=\"-528.8\" font-family=\"Helvetica,sans-Serif\" font-size=\"14.00\">BMI ≤ 22.115</text>\n<text text-anchor=\"start\" x=\"2589\" y=\"-513.8\" font-family=\"Helvetica,sans-Serif\" font-size=\"14.00\">gini = 0.476</text>\n<text text-anchor=\"start\" x=\"2576\" y=\"-498.8\" font-family=\"Helvetica,sans-Serif\" font-size=\"14.00\">samples = 6231</text>\n<text text-anchor=\"start\" x=\"2551.5\" y=\"-483.8\" font-family=\"Helvetica,sans-Serif\" font-size=\"14.00\">value = [2438.0, 3793.0]</text>\n<text text-anchor=\"start\" x=\"2576.5\" y=\"-468.8\" font-family=\"Helvetica,sans-Serif\" font-size=\"14.00\">class = Diabetic</text>\n</g>\n<!-- 0&#45;&gt;30 -->\n<g id=\"edge30\" class=\"edge\">\n<title>0&#45;&gt;30</title>\n<path fill=\"none\" stroke=\"black\" d=\"M2445.7,-583.96C2473.8,-571.32 2505.45,-557.07 2534.24,-544.12\"/>\n<polygon fill=\"black\" stroke=\"black\" points=\"2535.79,-547.26 2543.47,-539.96 2532.92,-540.87 2535.79,-547.26\"/>\n<text text-anchor=\"middle\" x=\"2534.61\" y=\"-559.64\" font-family=\"Helvetica,sans-Serif\" font-size=\"14.00\">False</text>\n</g>\n<!-- 2 -->\n<g id=\"node3\" class=\"node\">\n<title>2</title>\n<path fill=\"#e6843d\" stroke=\"black\" d=\"M731,-425C731,-425 594,-425 594,-425 588,-425 582,-419 582,-413 582,-413 582,-354 582,-354 582,-348 588,-342 594,-342 594,-342 731,-342 731,-342 737,-342 743,-348 743,-354 743,-354 743,-413 743,-413 743,-419 737,-425 731,-425\"/>\n<text text-anchor=\"start\" x=\"590\" y=\"-409.8\" font-family=\"Helvetica,sans-Serif\" font-size=\"14.00\">PlasmaGlucose ≤ 174.5</text>\n<text text-anchor=\"start\" x=\"627\" y=\"-394.8\" font-family=\"Helvetica,sans-Serif\" font-size=\"14.00\">gini = 0.041</text>\n<text text-anchor=\"start\" x=\"614\" y=\"-379.8\" font-family=\"Helvetica,sans-Serif\" font-size=\"14.00\">samples = 5056</text>\n<text text-anchor=\"start\" x=\"604.5\" y=\"-364.8\" font-family=\"Helvetica,sans-Serif\" font-size=\"14.00\">value = [4950, 106]</text>\n<text text-anchor=\"start\" x=\"600\" y=\"-349.8\" font-family=\"Helvetica,sans-Serif\" font-size=\"14.00\">class = Non&#45;Diabetic</text>\n</g>\n<!-- 1&#45;&gt;2 -->\n<g id=\"edge2\" class=\"edge\">\n<title>1&#45;&gt;2</title>\n<path fill=\"none\" stroke=\"black\" d=\"M1470.68,-492.07C1312.17,-470.98 928.97,-419.97 753.27,-396.58\"/>\n<polygon fill=\"black\" stroke=\"black\" points=\"753.65,-393.1 743.27,-395.25 752.72,-400.04 753.65,-393.1\"/>\n</g>\n<!-- 15 -->\n<g id=\"node16\" class=\"node\">\n<title>15</title>\n<path fill=\"#ea995f\" stroke=\"black\" d=\"M1600,-425C1600,-425 1483,-425 1483,-425 1477,-425 1471,-419 1471,-413 1471,-413 1471,-354 1471,-354 1471,-348 1477,-342 1483,-342 1483,-342 1600,-342 1600,-342 1606,-342 1612,-348 1612,-354 1612,-354 1612,-413 1612,-413 1612,-419 1606,-425 1600,-425\"/>\n<text text-anchor=\"start\" x=\"1500.5\" y=\"-409.8\" font-family=\"Helvetica,sans-Serif\" font-size=\"14.00\">BMI ≤ 22.171</text>\n<text text-anchor=\"start\" x=\"1506\" y=\"-394.8\" font-family=\"Helvetica,sans-Serif\" font-size=\"14.00\">gini = 0.271</text>\n<text text-anchor=\"start\" x=\"1496.5\" y=\"-379.8\" font-family=\"Helvetica,sans-Serif\" font-size=\"14.00\">samples = 713</text>\n<text text-anchor=\"start\" x=\"1487\" y=\"-364.8\" font-family=\"Helvetica,sans-Serif\" font-size=\"14.00\">value = [598, 115]</text>\n<text text-anchor=\"start\" x=\"1479\" y=\"-349.8\" font-family=\"Helvetica,sans-Serif\" font-size=\"14.00\">class = Non&#45;Diabetic</text>\n</g>\n<!-- 1&#45;&gt;15 -->\n<g id=\"edge15\" class=\"edge\">\n<title>1&#45;&gt;15</title>\n<path fill=\"none\" stroke=\"black\" d=\"M1541.5,-460.91C1541.5,-452.65 1541.5,-443.86 1541.5,-435.3\"/>\n<polygon fill=\"black\" stroke=\"black\" points=\"1545,-435.02 1541.5,-425.02 1538,-435.02 1545,-435.02\"/>\n</g>\n<!-- 3 -->\n<g id=\"node4\" class=\"node\">\n<title>3</title>\n<path fill=\"#e5833d\" stroke=\"black\" d=\"M483,-306C483,-306 344,-306 344,-306 338,-306 332,-300 332,-294 332,-294 332,-235 332,-235 332,-229 338,-223 344,-223 344,-223 483,-223 483,-223 489,-223 495,-229 495,-235 495,-235 495,-294 495,-294 495,-300 489,-306 483,-306\"/>\n<text text-anchor=\"start\" x=\"340\" y=\"-290.8\" font-family=\"Helvetica,sans-Serif\" font-size=\"14.00\">TricepsThickness ≤ 56.5</text>\n<text text-anchor=\"start\" x=\"378\" y=\"-275.8\" font-family=\"Helvetica,sans-Serif\" font-size=\"14.00\">gini = 0.036</text>\n<text text-anchor=\"start\" x=\"365\" y=\"-260.8\" font-family=\"Helvetica,sans-Serif\" font-size=\"14.00\">samples = 5025</text>\n<text text-anchor=\"start\" x=\"359\" y=\"-245.8\" font-family=\"Helvetica,sans-Serif\" font-size=\"14.00\">value = [4932, 93]</text>\n<text text-anchor=\"start\" x=\"351\" y=\"-230.8\" font-family=\"Helvetica,sans-Serif\" font-size=\"14.00\">class = Non&#45;Diabetic</text>\n</g>\n<!-- 2&#45;&gt;3 -->\n<g id=\"edge3\" class=\"edge\">\n<title>2&#45;&gt;3</title>\n<path fill=\"none\" stroke=\"black\" d=\"M581.66,-344.51C556.99,-332.93 529.72,-320.11 504.43,-308.23\"/>\n<polygon fill=\"black\" stroke=\"black\" points=\"505.76,-304.98 495.22,-303.9 502.78,-311.32 505.76,-304.98\"/>\n</g>\n<!-- 10 -->\n<g id=\"node11\" class=\"node\">\n<title>10</title>\n<path fill=\"#f8dcc8\" stroke=\"black\" d=\"M721,-306C721,-306 604,-306 604,-306 598,-306 592,-300 592,-294 592,-294 592,-235 592,-235 592,-229 598,-223 604,-223 604,-223 721,-223 721,-223 727,-223 733,-229 733,-235 733,-235 733,-294 733,-294 733,-300 727,-306 721,-306\"/>\n<text text-anchor=\"start\" x=\"602\" y=\"-290.8\" font-family=\"Helvetica,sans-Serif\" font-size=\"14.00\">SerumInsulin ≤ 55.5</text>\n<text text-anchor=\"start\" x=\"627\" y=\"-275.8\" font-family=\"Helvetica,sans-Serif\" font-size=\"14.00\">gini = 0.487</text>\n<text text-anchor=\"start\" x=\"621.5\" y=\"-260.8\" font-family=\"Helvetica,sans-Serif\" font-size=\"14.00\">samples = 31</text>\n<text text-anchor=\"start\" x=\"615.5\" y=\"-245.8\" font-family=\"Helvetica,sans-Serif\" font-size=\"14.00\">value = [18, 13]</text>\n<text text-anchor=\"start\" x=\"600\" y=\"-230.8\" font-family=\"Helvetica,sans-Serif\" font-size=\"14.00\">class = Non&#45;Diabetic</text>\n</g>\n<!-- 2&#45;&gt;10 -->\n<g id=\"edge10\" class=\"edge\">\n<title>2&#45;&gt;10</title>\n<path fill=\"none\" stroke=\"black\" d=\"M662.5,-341.91C662.5,-333.65 662.5,-324.86 662.5,-316.3\"/>\n<polygon fill=\"black\" stroke=\"black\" points=\"666,-316.02 662.5,-306.02 659,-316.02 666,-316.02\"/>\n</g>\n<!-- 4 -->\n<g id=\"node5\" class=\"node\">\n<title>4</title>\n<path fill=\"#e5833d\" stroke=\"black\" d=\"M274,-187C274,-187 157,-187 157,-187 151,-187 145,-181 145,-175 145,-175 145,-116 145,-116 145,-110 151,-104 157,-104 157,-104 274,-104 274,-104 280,-104 286,-110 286,-116 286,-116 286,-175 286,-175 286,-181 280,-187 274,-187\"/>\n<text text-anchor=\"start\" x=\"174.5\" y=\"-171.8\" font-family=\"Helvetica,sans-Serif\" font-size=\"14.00\">BMI ≤ 52.427</text>\n<text text-anchor=\"start\" x=\"180\" y=\"-156.8\" font-family=\"Helvetica,sans-Serif\" font-size=\"14.00\">gini = 0.034</text>\n<text text-anchor=\"start\" x=\"167\" y=\"-141.8\" font-family=\"Helvetica,sans-Serif\" font-size=\"14.00\">samples = 5014</text>\n<text text-anchor=\"start\" x=\"161\" y=\"-126.8\" font-family=\"Helvetica,sans-Serif\" font-size=\"14.00\">value = [4926, 88]</text>\n<text text-anchor=\"start\" x=\"153\" y=\"-111.8\" font-family=\"Helvetica,sans-Serif\" font-size=\"14.00\">class = Non&#45;Diabetic</text>\n</g>\n<!-- 3&#45;&gt;4 -->\n<g id=\"edge4\" class=\"edge\">\n<title>3&#45;&gt;4</title>\n<path fill=\"none\" stroke=\"black\" d=\"M344.8,-222.91C328.06,-213.02 310.05,-202.37 292.93,-192.25\"/>\n<polygon fill=\"black\" stroke=\"black\" points=\"294.46,-189.09 284.07,-187.02 290.9,-195.12 294.46,-189.09\"/>\n</g>\n<!-- 7 -->\n<g id=\"node8\" class=\"node\">\n<title>7</title>\n<path fill=\"#fbeade\" stroke=\"black\" d=\"M472,-187C472,-187 355,-187 355,-187 349,-187 343,-181 343,-175 343,-175 343,-116 343,-116 343,-110 349,-104 355,-104 355,-104 472,-104 472,-104 478,-104 484,-110 484,-116 484,-116 484,-175 484,-175 484,-181 478,-187 472,-187\"/>\n<text text-anchor=\"start\" x=\"380.5\" y=\"-171.8\" font-family=\"Helvetica,sans-Serif\" font-size=\"14.00\">Age ≤ 23.5</text>\n<text text-anchor=\"start\" x=\"378\" y=\"-156.8\" font-family=\"Helvetica,sans-Serif\" font-size=\"14.00\">gini = 0.496</text>\n<text text-anchor=\"start\" x=\"372.5\" y=\"-141.8\" font-family=\"Helvetica,sans-Serif\" font-size=\"14.00\">samples = 11</text>\n<text text-anchor=\"start\" x=\"374\" y=\"-126.8\" font-family=\"Helvetica,sans-Serif\" font-size=\"14.00\">value = [6, 5]</text>\n<text text-anchor=\"start\" x=\"351\" y=\"-111.8\" font-family=\"Helvetica,sans-Serif\" font-size=\"14.00\">class = Non&#45;Diabetic</text>\n</g>\n<!-- 3&#45;&gt;7 -->\n<g id=\"edge7\" class=\"edge\">\n<title>3&#45;&gt;7</title>\n<path fill=\"none\" stroke=\"black\" d=\"M413.5,-222.91C413.5,-214.65 413.5,-205.86 413.5,-197.3\"/>\n<polygon fill=\"black\" stroke=\"black\" points=\"417,-197.02 413.5,-187.02 410,-197.02 417,-197.02\"/>\n</g>\n<!-- 5 -->\n<g id=\"node6\" class=\"node\">\n<title>5</title>\n<path fill=\"#e5833c\" stroke=\"black\" d=\"M129,-68C129,-68 12,-68 12,-68 6,-68 0,-62 0,-56 0,-56 0,-12 0,-12 0,-6 6,0 12,0 12,0 129,0 129,0 135,0 141,-6 141,-12 141,-12 141,-56 141,-56 141,-62 135,-68 129,-68\"/>\n<text text-anchor=\"start\" x=\"35\" y=\"-52.8\" font-family=\"Helvetica,sans-Serif\" font-size=\"14.00\">gini = 0.034</text>\n<text text-anchor=\"start\" x=\"22\" y=\"-37.8\" font-family=\"Helvetica,sans-Serif\" font-size=\"14.00\">samples = 5012</text>\n<text text-anchor=\"start\" x=\"16\" y=\"-22.8\" font-family=\"Helvetica,sans-Serif\" font-size=\"14.00\">value = [4926, 86]</text>\n<text text-anchor=\"start\" x=\"8\" y=\"-7.8\" font-family=\"Helvetica,sans-Serif\" font-size=\"14.00\">class = Non&#45;Diabetic</text>\n</g>\n<!-- 4&#45;&gt;5 -->\n<g id=\"edge5\" class=\"edge\">\n<title>4&#45;&gt;5</title>\n<path fill=\"none\" stroke=\"black\" d=\"M161.51,-103.73C148.83,-94.15 135.33,-83.96 122.73,-74.44\"/>\n<polygon fill=\"black\" stroke=\"black\" points=\"124.68,-71.53 114.6,-68.3 120.47,-77.12 124.68,-71.53\"/>\n</g>\n<!-- 6 -->\n<g id=\"node7\" class=\"node\">\n<title>6</title>\n<path fill=\"#399de5\" stroke=\"black\" d=\"M259.5,-68C259.5,-68 171.5,-68 171.5,-68 165.5,-68 159.5,-62 159.5,-56 159.5,-56 159.5,-12 159.5,-12 159.5,-6 165.5,0 171.5,0 171.5,0 259.5,0 259.5,0 265.5,0 271.5,-6 271.5,-12 271.5,-12 271.5,-56 271.5,-56 271.5,-62 265.5,-68 259.5,-68\"/>\n<text text-anchor=\"start\" x=\"187.5\" y=\"-52.8\" font-family=\"Helvetica,sans-Serif\" font-size=\"14.00\">gini = 0.0</text>\n<text text-anchor=\"start\" x=\"178\" y=\"-37.8\" font-family=\"Helvetica,sans-Serif\" font-size=\"14.00\">samples = 2</text>\n<text text-anchor=\"start\" x=\"176\" y=\"-22.8\" font-family=\"Helvetica,sans-Serif\" font-size=\"14.00\">value = [0, 2]</text>\n<text text-anchor=\"start\" x=\"167.5\" y=\"-7.8\" font-family=\"Helvetica,sans-Serif\" font-size=\"14.00\">class = Diabetic</text>\n</g>\n<!-- 4&#45;&gt;6 -->\n<g id=\"edge6\" class=\"edge\">\n<title>4&#45;&gt;6</title>\n<path fill=\"none\" stroke=\"black\" d=\"M215.5,-103.73C215.5,-95.52 215.5,-86.86 215.5,-78.56\"/>\n<polygon fill=\"black\" stroke=\"black\" points=\"219,-78.3 215.5,-68.3 212,-78.3 219,-78.3\"/>\n</g>\n<!-- 8 -->\n<g id=\"node9\" class=\"node\">\n<title>8</title>\n<path fill=\"#88c4ef\" stroke=\"black\" d=\"M389.5,-68C389.5,-68 301.5,-68 301.5,-68 295.5,-68 289.5,-62 289.5,-56 289.5,-56 289.5,-12 289.5,-12 289.5,-6 295.5,0 301.5,0 301.5,0 389.5,0 389.5,0 395.5,0 401.5,-6 401.5,-12 401.5,-12 401.5,-56 401.5,-56 401.5,-62 395.5,-68 389.5,-68\"/>\n<text text-anchor=\"start\" x=\"310\" y=\"-52.8\" font-family=\"Helvetica,sans-Serif\" font-size=\"14.00\">gini = 0.408</text>\n<text text-anchor=\"start\" x=\"308\" y=\"-37.8\" font-family=\"Helvetica,sans-Serif\" font-size=\"14.00\">samples = 7</text>\n<text text-anchor=\"start\" x=\"306\" y=\"-22.8\" font-family=\"Helvetica,sans-Serif\" font-size=\"14.00\">value = [2, 5]</text>\n<text text-anchor=\"start\" x=\"297.5\" y=\"-7.8\" font-family=\"Helvetica,sans-Serif\" font-size=\"14.00\">class = Diabetic</text>\n</g>\n<!-- 7&#45;&gt;8 -->\n<g id=\"edge8\" class=\"edge\">\n<title>7&#45;&gt;8</title>\n<path fill=\"none\" stroke=\"black\" d=\"M388.18,-103.73C382.74,-94.97 376.99,-85.7 371.52,-76.91\"/>\n<polygon fill=\"black\" stroke=\"black\" points=\"374.43,-74.95 366.18,-68.3 368.48,-78.64 374.43,-74.95\"/>\n</g>\n<!-- 9 -->\n<g id=\"node10\" class=\"node\">\n<title>9</title>\n<path fill=\"#e58139\" stroke=\"black\" d=\"M549,-68C549,-68 432,-68 432,-68 426,-68 420,-62 420,-56 420,-56 420,-12 420,-12 420,-6 426,0 432,0 432,0 549,0 549,0 555,0 561,-6 561,-12 561,-12 561,-56 561,-56 561,-62 555,-68 549,-68\"/>\n<text text-anchor=\"start\" x=\"462.5\" y=\"-52.8\" font-family=\"Helvetica,sans-Serif\" font-size=\"14.00\">gini = 0.0</text>\n<text text-anchor=\"start\" x=\"453\" y=\"-37.8\" font-family=\"Helvetica,sans-Serif\" font-size=\"14.00\">samples = 4</text>\n<text text-anchor=\"start\" x=\"451\" y=\"-22.8\" font-family=\"Helvetica,sans-Serif\" font-size=\"14.00\">value = [4, 0]</text>\n<text text-anchor=\"start\" x=\"428\" y=\"-7.8\" font-family=\"Helvetica,sans-Serif\" font-size=\"14.00\">class = Non&#45;Diabetic</text>\n</g>\n<!-- 7&#45;&gt;9 -->\n<g id=\"edge9\" class=\"edge\">\n<title>7&#45;&gt;9</title>\n<path fill=\"none\" stroke=\"black\" d=\"M442.17,-103.73C448.39,-94.88 454.98,-85.51 461.23,-76.63\"/>\n<polygon fill=\"black\" stroke=\"black\" points=\"464.19,-78.49 467.08,-68.3 458.47,-74.47 464.19,-78.49\"/>\n</g>\n<!-- 11 -->\n<g id=\"node12\" class=\"node\">\n<title>11</title>\n<path fill=\"#e58139\" stroke=\"black\" d=\"M650,-179.5C650,-179.5 533,-179.5 533,-179.5 527,-179.5 521,-173.5 521,-167.5 521,-167.5 521,-123.5 521,-123.5 521,-117.5 527,-111.5 533,-111.5 533,-111.5 650,-111.5 650,-111.5 656,-111.5 662,-117.5 662,-123.5 662,-123.5 662,-167.5 662,-167.5 662,-173.5 656,-179.5 650,-179.5\"/>\n<text text-anchor=\"start\" x=\"563.5\" y=\"-164.3\" font-family=\"Helvetica,sans-Serif\" font-size=\"14.00\">gini = 0.0</text>\n<text text-anchor=\"start\" x=\"554\" y=\"-149.3\" font-family=\"Helvetica,sans-Serif\" font-size=\"14.00\">samples = 8</text>\n<text text-anchor=\"start\" x=\"552\" y=\"-134.3\" font-family=\"Helvetica,sans-Serif\" font-size=\"14.00\">value = [8, 0]</text>\n<text text-anchor=\"start\" x=\"529\" y=\"-119.3\" font-family=\"Helvetica,sans-Serif\" font-size=\"14.00\">class = Non&#45;Diabetic</text>\n</g>\n<!-- 10&#45;&gt;11 -->\n<g id=\"edge11\" class=\"edge\">\n<title>10&#45;&gt;11</title>\n<path fill=\"none\" stroke=\"black\" d=\"M637.87,-222.91C631.1,-211.76 623.76,-199.66 616.95,-188.44\"/>\n<polygon fill=\"black\" stroke=\"black\" points=\"619.81,-186.4 611.63,-179.67 613.82,-190.03 619.81,-186.4\"/>\n</g>\n<!-- 12 -->\n<g id=\"node13\" class=\"node\">\n<title>12</title>\n<path fill=\"#d1e8f9\" stroke=\"black\" d=\"M829,-187C829,-187 692,-187 692,-187 686,-187 680,-181 680,-175 680,-175 680,-116 680,-116 680,-110 686,-104 692,-104 692,-104 829,-104 829,-104 835,-104 841,-110 841,-116 841,-116 841,-175 841,-175 841,-181 835,-187 829,-187\"/>\n<text text-anchor=\"start\" x=\"688\" y=\"-171.8\" font-family=\"Helvetica,sans-Serif\" font-size=\"14.00\">PlasmaGlucose ≤ 181.0</text>\n<text text-anchor=\"start\" x=\"725\" y=\"-156.8\" font-family=\"Helvetica,sans-Serif\" font-size=\"14.00\">gini = 0.491</text>\n<text text-anchor=\"start\" x=\"719.5\" y=\"-141.8\" font-family=\"Helvetica,sans-Serif\" font-size=\"14.00\">samples = 23</text>\n<text text-anchor=\"start\" x=\"702.5\" y=\"-126.8\" font-family=\"Helvetica,sans-Serif\" font-size=\"14.00\">value = [10.0, 13.0]</text>\n<text text-anchor=\"start\" x=\"712.5\" y=\"-111.8\" font-family=\"Helvetica,sans-Serif\" font-size=\"14.00\">class = Diabetic</text>\n</g>\n<!-- 10&#45;&gt;12 -->\n<g id=\"edge12\" class=\"edge\">\n<title>10&#45;&gt;12</title>\n<path fill=\"none\" stroke=\"black\" d=\"M696.5,-222.91C704.1,-213.83 712.24,-204.12 720.07,-194.77\"/>\n<polygon fill=\"black\" stroke=\"black\" points=\"722.82,-196.93 726.56,-187.02 717.46,-192.44 722.82,-196.93\"/>\n</g>\n<!-- 13 -->\n<g id=\"node14\" class=\"node\">\n<title>13</title>\n<path fill=\"#6ab6ec\" stroke=\"black\" d=\"M679.5,-68C679.5,-68 591.5,-68 591.5,-68 585.5,-68 579.5,-62 579.5,-56 579.5,-56 579.5,-12 579.5,-12 579.5,-6 585.5,0 591.5,0 591.5,0 679.5,0 679.5,0 685.5,0 691.5,-6 691.5,-12 691.5,-12 691.5,-56 691.5,-56 691.5,-62 685.5,-68 679.5,-68\"/>\n<text text-anchor=\"start\" x=\"603.5\" y=\"-52.8\" font-family=\"Helvetica,sans-Serif\" font-size=\"14.00\">gini = 0.32</text>\n<text text-anchor=\"start\" x=\"594.5\" y=\"-37.8\" font-family=\"Helvetica,sans-Serif\" font-size=\"14.00\">samples = 15</text>\n<text text-anchor=\"start\" x=\"592.5\" y=\"-22.8\" font-family=\"Helvetica,sans-Serif\" font-size=\"14.00\">value = [3, 12]</text>\n<text text-anchor=\"start\" x=\"587.5\" y=\"-7.8\" font-family=\"Helvetica,sans-Serif\" font-size=\"14.00\">class = Diabetic</text>\n</g>\n<!-- 12&#45;&gt;13 -->\n<g id=\"edge13\" class=\"edge\">\n<title>12&#45;&gt;13</title>\n<path fill=\"none\" stroke=\"black\" d=\"M713.95,-103.73C703.23,-94.33 691.83,-84.35 681.15,-74.99\"/>\n<polygon fill=\"black\" stroke=\"black\" points=\"683.34,-72.26 673.51,-68.3 678.73,-77.52 683.34,-72.26\"/>\n</g>\n<!-- 14 -->\n<g id=\"node15\" class=\"node\">\n<title>14</title>\n<path fill=\"#e99355\" stroke=\"black\" d=\"M839,-68C839,-68 722,-68 722,-68 716,-68 710,-62 710,-56 710,-56 710,-12 710,-12 710,-6 716,0 722,0 722,0 839,0 839,0 845,0 851,-6 851,-12 851,-12 851,-56 851,-56 851,-62 845,-68 839,-68\"/>\n<text text-anchor=\"start\" x=\"745\" y=\"-52.8\" font-family=\"Helvetica,sans-Serif\" font-size=\"14.00\">gini = 0.219</text>\n<text text-anchor=\"start\" x=\"743\" y=\"-37.8\" font-family=\"Helvetica,sans-Serif\" font-size=\"14.00\">samples = 8</text>\n<text text-anchor=\"start\" x=\"741\" y=\"-22.8\" font-family=\"Helvetica,sans-Serif\" font-size=\"14.00\">value = [7, 1]</text>\n<text text-anchor=\"start\" x=\"718\" y=\"-7.8\" font-family=\"Helvetica,sans-Serif\" font-size=\"14.00\">class = Non&#45;Diabetic</text>\n</g>\n<!-- 12&#45;&gt;14 -->\n<g id=\"edge14\" class=\"edge\">\n<title>12&#45;&gt;14</title>\n<path fill=\"none\" stroke=\"black\" d=\"M767.95,-103.73C769.46,-95.43 771.06,-86.67 772.59,-78.28\"/>\n<polygon fill=\"black\" stroke=\"black\" points=\"776.06,-78.77 774.42,-68.3 769.18,-77.51 776.06,-78.77\"/>\n</g>\n<!-- 16 -->\n<g id=\"node17\" class=\"node\">\n<title>16</title>\n<path fill=\"#e6843e\" stroke=\"black\" d=\"M1404,-306C1404,-306 1267,-306 1267,-306 1261,-306 1255,-300 1255,-294 1255,-294 1255,-235 1255,-235 1255,-229 1261,-223 1267,-223 1267,-223 1404,-223 1404,-223 1410,-223 1416,-229 1416,-235 1416,-235 1416,-294 1416,-294 1416,-300 1410,-306 1404,-306\"/>\n<text text-anchor=\"start\" x=\"1263\" y=\"-290.8\" font-family=\"Helvetica,sans-Serif\" font-size=\"14.00\">PlasmaGlucose ≤ 175.5</text>\n<text text-anchor=\"start\" x=\"1300\" y=\"-275.8\" font-family=\"Helvetica,sans-Serif\" font-size=\"14.00\">gini = 0.047</text>\n<text text-anchor=\"start\" x=\"1290.5\" y=\"-260.8\" font-family=\"Helvetica,sans-Serif\" font-size=\"14.00\">samples = 293</text>\n<text text-anchor=\"start\" x=\"1277.5\" y=\"-245.8\" font-family=\"Helvetica,sans-Serif\" font-size=\"14.00\">value = [286.0, 7.0]</text>\n<text text-anchor=\"start\" x=\"1273\" y=\"-230.8\" font-family=\"Helvetica,sans-Serif\" font-size=\"14.00\">class = Non&#45;Diabetic</text>\n</g>\n<!-- 15&#45;&gt;16 -->\n<g id=\"edge16\" class=\"edge\">\n<title>15&#45;&gt;16</title>\n<path fill=\"none\" stroke=\"black\" d=\"M1470.89,-342.4C1453.18,-332.34 1434.04,-321.47 1415.88,-311.16\"/>\n<polygon fill=\"black\" stroke=\"black\" points=\"1417.49,-308.04 1407.06,-306.14 1414.03,-314.13 1417.49,-308.04\"/>\n</g>\n<!-- 23 -->\n<g id=\"node24\" class=\"node\">\n<title>23</title>\n<path fill=\"#eead7e\" stroke=\"black\" d=\"M1676,-306C1676,-306 1553,-306 1553,-306 1547,-306 1541,-300 1541,-294 1541,-294 1541,-235 1541,-235 1541,-229 1547,-223 1553,-223 1553,-223 1676,-223 1676,-223 1682,-223 1688,-229 1688,-235 1688,-235 1688,-294 1688,-294 1688,-300 1682,-306 1676,-306\"/>\n<text text-anchor=\"start\" x=\"1573.5\" y=\"-290.8\" font-family=\"Helvetica,sans-Serif\" font-size=\"14.00\">BMI ≤ 30.779</text>\n<text text-anchor=\"start\" x=\"1579\" y=\"-275.8\" font-family=\"Helvetica,sans-Serif\" font-size=\"14.00\">gini = 0.382</text>\n<text text-anchor=\"start\" x=\"1569.5\" y=\"-260.8\" font-family=\"Helvetica,sans-Serif\" font-size=\"14.00\">samples = 420</text>\n<text text-anchor=\"start\" x=\"1549\" y=\"-245.8\" font-family=\"Helvetica,sans-Serif\" font-size=\"14.00\">value = [312.0, 108.0]</text>\n<text text-anchor=\"start\" x=\"1552\" y=\"-230.8\" font-family=\"Helvetica,sans-Serif\" font-size=\"14.00\">class = Non&#45;Diabetic</text>\n</g>\n<!-- 15&#45;&gt;23 -->\n<g id=\"edge23\" class=\"edge\">\n<title>15&#45;&gt;23</title>\n<path fill=\"none\" stroke=\"black\" d=\"M1566.83,-341.91C1572.32,-333.1 1578.19,-323.7 1583.86,-314.61\"/>\n<polygon fill=\"black\" stroke=\"black\" points=\"1586.89,-316.36 1589.22,-306.02 1580.95,-312.65 1586.89,-316.36\"/>\n</g>\n<!-- 17 -->\n<g id=\"node18\" class=\"node\">\n<title>17</title>\n<path fill=\"#e6843d\" stroke=\"black\" d=\"M1168,-187C1168,-187 1029,-187 1029,-187 1023,-187 1017,-181 1017,-175 1017,-175 1017,-116 1017,-116 1017,-110 1023,-104 1029,-104 1029,-104 1168,-104 1168,-104 1174,-104 1180,-110 1180,-116 1180,-116 1180,-175 1180,-175 1180,-181 1174,-187 1168,-187\"/>\n<text text-anchor=\"start\" x=\"1025\" y=\"-171.8\" font-family=\"Helvetica,sans-Serif\" font-size=\"14.00\">TricepsThickness ≤ 52.5</text>\n<text text-anchor=\"start\" x=\"1066.5\" y=\"-156.8\" font-family=\"Helvetica,sans-Serif\" font-size=\"14.00\">gini = 0.04</text>\n<text text-anchor=\"start\" x=\"1053.5\" y=\"-141.8\" font-family=\"Helvetica,sans-Serif\" font-size=\"14.00\">samples = 291</text>\n<text text-anchor=\"start\" x=\"1051.5\" y=\"-126.8\" font-family=\"Helvetica,sans-Serif\" font-size=\"14.00\">value = [285, 6]</text>\n<text text-anchor=\"start\" x=\"1036\" y=\"-111.8\" font-family=\"Helvetica,sans-Serif\" font-size=\"14.00\">class = Non&#45;Diabetic</text>\n</g>\n<!-- 16&#45;&gt;17 -->\n<g id=\"edge17\" class=\"edge\">\n<title>16&#45;&gt;17</title>\n<path fill=\"none\" stroke=\"black\" d=\"M1254.93,-223.73C1233.8,-213.29 1210.86,-201.97 1189.23,-191.29\"/>\n<polygon fill=\"black\" stroke=\"black\" points=\"1190.57,-188.05 1180.05,-186.76 1187.47,-194.33 1190.57,-188.05\"/>\n</g>\n<!-- 20 -->\n<g id=\"node21\" class=\"node\">\n<title>20</title>\n<path fill=\"#ffffff\" stroke=\"black\" d=\"M1394,-187C1394,-187 1277,-187 1277,-187 1271,-187 1265,-181 1265,-175 1265,-175 1265,-116 1265,-116 1265,-110 1271,-104 1277,-104 1277,-104 1394,-104 1394,-104 1400,-104 1406,-110 1406,-116 1406,-116 1406,-175 1406,-175 1406,-181 1400,-187 1394,-187\"/>\n<text text-anchor=\"start\" x=\"1275\" y=\"-171.8\" font-family=\"Helvetica,sans-Serif\" font-size=\"14.00\">SerumInsulin ≤ 99.0</text>\n<text text-anchor=\"start\" x=\"1307.5\" y=\"-156.8\" font-family=\"Helvetica,sans-Serif\" font-size=\"14.00\">gini = 0.5</text>\n<text text-anchor=\"start\" x=\"1298\" y=\"-141.8\" font-family=\"Helvetica,sans-Serif\" font-size=\"14.00\">samples = 2</text>\n<text text-anchor=\"start\" x=\"1296\" y=\"-126.8\" font-family=\"Helvetica,sans-Serif\" font-size=\"14.00\">value = [1, 1]</text>\n<text text-anchor=\"start\" x=\"1273\" y=\"-111.8\" font-family=\"Helvetica,sans-Serif\" font-size=\"14.00\">class = Non&#45;Diabetic</text>\n</g>\n<!-- 16&#45;&gt;20 -->\n<g id=\"edge20\" class=\"edge\">\n<title>16&#45;&gt;20</title>\n<path fill=\"none\" stroke=\"black\" d=\"M1335.5,-222.91C1335.5,-214.65 1335.5,-205.86 1335.5,-197.3\"/>\n<polygon fill=\"black\" stroke=\"black\" points=\"1339,-197.02 1335.5,-187.02 1332,-197.02 1339,-197.02\"/>\n</g>\n<!-- 18 -->\n<g id=\"node19\" class=\"node\">\n<title>18</title>\n<path fill=\"#e5833c\" stroke=\"black\" d=\"M998,-68C998,-68 881,-68 881,-68 875,-68 869,-62 869,-56 869,-56 869,-12 869,-12 869,-6 875,0 881,0 881,0 998,0 998,0 1004,0 1010,-6 1010,-12 1010,-12 1010,-56 1010,-56 1010,-62 1004,-68 998,-68\"/>\n<text text-anchor=\"start\" x=\"904\" y=\"-52.8\" font-family=\"Helvetica,sans-Serif\" font-size=\"14.00\">gini = 0.028</text>\n<text text-anchor=\"start\" x=\"894.5\" y=\"-37.8\" font-family=\"Helvetica,sans-Serif\" font-size=\"14.00\">samples = 282</text>\n<text text-anchor=\"start\" x=\"892.5\" y=\"-22.8\" font-family=\"Helvetica,sans-Serif\" font-size=\"14.00\">value = [278, 4]</text>\n<text text-anchor=\"start\" x=\"877\" y=\"-7.8\" font-family=\"Helvetica,sans-Serif\" font-size=\"14.00\">class = Non&#45;Diabetic</text>\n</g>\n<!-- 17&#45;&gt;18 -->\n<g id=\"edge18\" class=\"edge\">\n<title>17&#45;&gt;18</title>\n<path fill=\"none\" stroke=\"black\" d=\"M1039.29,-103.73C1025.18,-94.01 1010.16,-83.66 996.16,-74.02\"/>\n<polygon fill=\"black\" stroke=\"black\" points=\"997.82,-70.91 987.6,-68.13 993.85,-76.68 997.82,-70.91\"/>\n</g>\n<!-- 19 -->\n<g id=\"node20\" class=\"node\">\n<title>19</title>\n<path fill=\"#eca572\" stroke=\"black\" d=\"M1157,-68C1157,-68 1040,-68 1040,-68 1034,-68 1028,-62 1028,-56 1028,-56 1028,-12 1028,-12 1028,-6 1034,0 1040,0 1040,0 1157,0 1157,0 1163,0 1169,-6 1169,-12 1169,-12 1169,-56 1169,-56 1169,-62 1163,-68 1157,-68\"/>\n<text text-anchor=\"start\" x=\"1063\" y=\"-52.8\" font-family=\"Helvetica,sans-Serif\" font-size=\"14.00\">gini = 0.346</text>\n<text text-anchor=\"start\" x=\"1061\" y=\"-37.8\" font-family=\"Helvetica,sans-Serif\" font-size=\"14.00\">samples = 9</text>\n<text text-anchor=\"start\" x=\"1059\" y=\"-22.8\" font-family=\"Helvetica,sans-Serif\" font-size=\"14.00\">value = [7, 2]</text>\n<text text-anchor=\"start\" x=\"1036\" y=\"-7.8\" font-family=\"Helvetica,sans-Serif\" font-size=\"14.00\">class = Non&#45;Diabetic</text>\n</g>\n<!-- 17&#45;&gt;19 -->\n<g id=\"edge19\" class=\"edge\">\n<title>17&#45;&gt;19</title>\n<path fill=\"none\" stroke=\"black\" d=\"M1098.5,-103.73C1098.5,-95.52 1098.5,-86.86 1098.5,-78.56\"/>\n<polygon fill=\"black\" stroke=\"black\" points=\"1102,-78.3 1098.5,-68.3 1095,-78.3 1102,-78.3\"/>\n</g>\n<!-- 21 -->\n<g id=\"node22\" class=\"node\">\n<title>21</title>\n<path fill=\"#e58139\" stroke=\"black\" d=\"M1316,-68C1316,-68 1199,-68 1199,-68 1193,-68 1187,-62 1187,-56 1187,-56 1187,-12 1187,-12 1187,-6 1193,0 1199,0 1199,0 1316,0 1316,0 1322,0 1328,-6 1328,-12 1328,-12 1328,-56 1328,-56 1328,-62 1322,-68 1316,-68\"/>\n<text text-anchor=\"start\" x=\"1229.5\" y=\"-52.8\" font-family=\"Helvetica,sans-Serif\" font-size=\"14.00\">gini = 0.0</text>\n<text text-anchor=\"start\" x=\"1220\" y=\"-37.8\" font-family=\"Helvetica,sans-Serif\" font-size=\"14.00\">samples = 1</text>\n<text text-anchor=\"start\" x=\"1218\" y=\"-22.8\" font-family=\"Helvetica,sans-Serif\" font-size=\"14.00\">value = [1, 0]</text>\n<text text-anchor=\"start\" x=\"1195\" y=\"-7.8\" font-family=\"Helvetica,sans-Serif\" font-size=\"14.00\">class = Non&#45;Diabetic</text>\n</g>\n<!-- 20&#45;&gt;21 -->\n<g id=\"edge21\" class=\"edge\">\n<title>20&#45;&gt;21</title>\n<path fill=\"none\" stroke=\"black\" d=\"M1306.46,-103.73C1300.15,-94.88 1293.48,-85.51 1287.15,-76.63\"/>\n<polygon fill=\"black\" stroke=\"black\" points=\"1289.87,-74.41 1281.22,-68.3 1284.17,-78.48 1289.87,-74.41\"/>\n</g>\n<!-- 22 -->\n<g id=\"node23\" class=\"node\">\n<title>22</title>\n<path fill=\"#399de5\" stroke=\"black\" d=\"M1446.5,-68C1446.5,-68 1358.5,-68 1358.5,-68 1352.5,-68 1346.5,-62 1346.5,-56 1346.5,-56 1346.5,-12 1346.5,-12 1346.5,-6 1352.5,0 1358.5,0 1358.5,0 1446.5,0 1446.5,0 1452.5,0 1458.5,-6 1458.5,-12 1458.5,-12 1458.5,-56 1458.5,-56 1458.5,-62 1452.5,-68 1446.5,-68\"/>\n<text text-anchor=\"start\" x=\"1374.5\" y=\"-52.8\" font-family=\"Helvetica,sans-Serif\" font-size=\"14.00\">gini = 0.0</text>\n<text text-anchor=\"start\" x=\"1365\" y=\"-37.8\" font-family=\"Helvetica,sans-Serif\" font-size=\"14.00\">samples = 1</text>\n<text text-anchor=\"start\" x=\"1363\" y=\"-22.8\" font-family=\"Helvetica,sans-Serif\" font-size=\"14.00\">value = [0, 1]</text>\n<text text-anchor=\"start\" x=\"1354.5\" y=\"-7.8\" font-family=\"Helvetica,sans-Serif\" font-size=\"14.00\">class = Diabetic</text>\n</g>\n<!-- 20&#45;&gt;22 -->\n<g id=\"edge22\" class=\"edge\">\n<title>20&#45;&gt;22</title>\n<path fill=\"none\" stroke=\"black\" d=\"M1360.45,-103.73C1365.81,-94.97 1371.48,-85.7 1376.86,-76.91\"/>\n<polygon fill=\"black\" stroke=\"black\" points=\"1379.89,-78.66 1382.12,-68.3 1373.92,-75 1379.89,-78.66\"/>\n</g>\n<!-- 24 -->\n<g id=\"node25\" class=\"node\">\n<title>24</title>\n<path fill=\"#a3d1f3\" stroke=\"black\" d=\"M1671,-187C1671,-187 1558,-187 1558,-187 1552,-187 1546,-181 1546,-175 1546,-175 1546,-116 1546,-116 1546,-110 1552,-104 1558,-104 1558,-104 1671,-104 1671,-104 1677,-104 1683,-110 1683,-116 1683,-116 1683,-175 1683,-175 1683,-181 1677,-187 1671,-187\"/>\n<text text-anchor=\"start\" x=\"1554\" y=\"-171.8\" font-family=\"Helvetica,sans-Serif\" font-size=\"14.00\">SerumInsulin ≤ 59.0</text>\n<text text-anchor=\"start\" x=\"1579\" y=\"-156.8\" font-family=\"Helvetica,sans-Serif\" font-size=\"14.00\">gini = 0.454</text>\n<text text-anchor=\"start\" x=\"1573.5\" y=\"-141.8\" font-family=\"Helvetica,sans-Serif\" font-size=\"14.00\">samples = 66</text>\n<text text-anchor=\"start\" x=\"1567.5\" y=\"-126.8\" font-family=\"Helvetica,sans-Serif\" font-size=\"14.00\">value = [23, 43]</text>\n<text text-anchor=\"start\" x=\"1566.5\" y=\"-111.8\" font-family=\"Helvetica,sans-Serif\" font-size=\"14.00\">class = Diabetic</text>\n</g>\n<!-- 23&#45;&gt;24 -->\n<g id=\"edge24\" class=\"edge\">\n<title>23&#45;&gt;24</title>\n<path fill=\"none\" stroke=\"black\" d=\"M1614.5,-222.91C1614.5,-214.65 1614.5,-205.86 1614.5,-197.3\"/>\n<polygon fill=\"black\" stroke=\"black\" points=\"1618,-197.02 1614.5,-187.02 1611,-197.02 1618,-197.02\"/>\n</g>\n<!-- 27 -->\n<g id=\"node28\" class=\"node\">\n<title>27</title>\n<path fill=\"#eb9d66\" stroke=\"black\" d=\"M1896,-187C1896,-187 1779,-187 1779,-187 1773,-187 1767,-181 1767,-175 1767,-175 1767,-116 1767,-116 1767,-110 1773,-104 1779,-104 1779,-104 1896,-104 1896,-104 1902,-104 1908,-110 1908,-116 1908,-116 1908,-175 1908,-175 1908,-181 1902,-187 1896,-187\"/>\n<text text-anchor=\"start\" x=\"1777\" y=\"-171.8\" font-family=\"Helvetica,sans-Serif\" font-size=\"14.00\">SerumInsulin ≤ 55.5</text>\n<text text-anchor=\"start\" x=\"1809.5\" y=\"-156.8\" font-family=\"Helvetica,sans-Serif\" font-size=\"14.00\">gini = 0.3</text>\n<text text-anchor=\"start\" x=\"1792.5\" y=\"-141.8\" font-family=\"Helvetica,sans-Serif\" font-size=\"14.00\">samples = 354</text>\n<text text-anchor=\"start\" x=\"1787\" y=\"-126.8\" font-family=\"Helvetica,sans-Serif\" font-size=\"14.00\">value = [289, 65]</text>\n<text text-anchor=\"start\" x=\"1775\" y=\"-111.8\" font-family=\"Helvetica,sans-Serif\" font-size=\"14.00\">class = Non&#45;Diabetic</text>\n</g>\n<!-- 23&#45;&gt;27 -->\n<g id=\"edge27\" class=\"edge\">\n<title>23&#45;&gt;27</title>\n<path fill=\"none\" stroke=\"black\" d=\"M1688.14,-224.87C1710.54,-213.11 1735.25,-200.15 1758.02,-188.2\"/>\n<polygon fill=\"black\" stroke=\"black\" points=\"1759.74,-191.25 1766.97,-183.5 1756.49,-185.05 1759.74,-191.25\"/>\n</g>\n<!-- 25 -->\n<g id=\"node26\" class=\"node\">\n<title>25</title>\n<path fill=\"#eca36e\" stroke=\"black\" d=\"M1606,-68C1606,-68 1489,-68 1489,-68 1483,-68 1477,-62 1477,-56 1477,-56 1477,-12 1477,-12 1477,-6 1483,0 1489,0 1489,0 1606,0 1606,0 1612,0 1618,-6 1618,-12 1618,-12 1618,-56 1618,-56 1618,-62 1612,-68 1606,-68\"/>\n<text text-anchor=\"start\" x=\"1512\" y=\"-52.8\" font-family=\"Helvetica,sans-Serif\" font-size=\"14.00\">gini = 0.332</text>\n<text text-anchor=\"start\" x=\"1506.5\" y=\"-37.8\" font-family=\"Helvetica,sans-Serif\" font-size=\"14.00\">samples = 19</text>\n<text text-anchor=\"start\" x=\"1504.5\" y=\"-22.8\" font-family=\"Helvetica,sans-Serif\" font-size=\"14.00\">value = [15, 4]</text>\n<text text-anchor=\"start\" x=\"1485\" y=\"-7.8\" font-family=\"Helvetica,sans-Serif\" font-size=\"14.00\">class = Non&#45;Diabetic</text>\n</g>\n<!-- 24&#45;&gt;25 -->\n<g id=\"edge25\" class=\"edge\">\n<title>24&#45;&gt;25</title>\n<path fill=\"none\" stroke=\"black\" d=\"M1589.55,-103.73C1584.19,-94.97 1578.52,-85.7 1573.14,-76.91\"/>\n<polygon fill=\"black\" stroke=\"black\" points=\"1576.08,-75 1567.88,-68.3 1570.11,-78.66 1576.08,-75\"/>\n</g>\n<!-- 26 -->\n<g id=\"node27\" class=\"node\">\n<title>26</title>\n<path fill=\"#62b1ea\" stroke=\"black\" d=\"M1736.5,-68C1736.5,-68 1648.5,-68 1648.5,-68 1642.5,-68 1636.5,-62 1636.5,-56 1636.5,-56 1636.5,-12 1636.5,-12 1636.5,-6 1642.5,0 1648.5,0 1648.5,0 1736.5,0 1736.5,0 1742.5,0 1748.5,-6 1748.5,-12 1748.5,-12 1748.5,-56 1748.5,-56 1748.5,-62 1742.5,-68 1736.5,-68\"/>\n<text text-anchor=\"start\" x=\"1657\" y=\"-52.8\" font-family=\"Helvetica,sans-Serif\" font-size=\"14.00\">gini = 0.282</text>\n<text text-anchor=\"start\" x=\"1651.5\" y=\"-37.8\" font-family=\"Helvetica,sans-Serif\" font-size=\"14.00\">samples = 47</text>\n<text text-anchor=\"start\" x=\"1649.5\" y=\"-22.8\" font-family=\"Helvetica,sans-Serif\" font-size=\"14.00\">value = [8, 39]</text>\n<text text-anchor=\"start\" x=\"1644.5\" y=\"-7.8\" font-family=\"Helvetica,sans-Serif\" font-size=\"14.00\">class = Diabetic</text>\n</g>\n<!-- 24&#45;&gt;26 -->\n<g id=\"edge26\" class=\"edge\">\n<title>24&#45;&gt;26</title>\n<path fill=\"none\" stroke=\"black\" d=\"M1643.54,-103.73C1649.85,-94.88 1656.52,-85.51 1662.85,-76.63\"/>\n<polygon fill=\"black\" stroke=\"black\" points=\"1665.83,-78.48 1668.78,-68.3 1660.13,-74.41 1665.83,-78.48\"/>\n</g>\n<!-- 28 -->\n<g id=\"node29\" class=\"node\">\n<title>28</title>\n<path fill=\"#e68641\" stroke=\"black\" d=\"M1896,-68C1896,-68 1779,-68 1779,-68 1773,-68 1767,-62 1767,-56 1767,-56 1767,-12 1767,-12 1767,-6 1773,0 1779,0 1779,0 1896,0 1896,0 1902,0 1908,-6 1908,-12 1908,-12 1908,-56 1908,-56 1908,-62 1902,-68 1896,-68\"/>\n<text text-anchor=\"start\" x=\"1802\" y=\"-52.8\" font-family=\"Helvetica,sans-Serif\" font-size=\"14.00\">gini = 0.076</text>\n<text text-anchor=\"start\" x=\"1792.5\" y=\"-37.8\" font-family=\"Helvetica,sans-Serif\" font-size=\"14.00\">samples = 151</text>\n<text text-anchor=\"start\" x=\"1790.5\" y=\"-22.8\" font-family=\"Helvetica,sans-Serif\" font-size=\"14.00\">value = [145, 6]</text>\n<text text-anchor=\"start\" x=\"1775\" y=\"-7.8\" font-family=\"Helvetica,sans-Serif\" font-size=\"14.00\">class = Non&#45;Diabetic</text>\n</g>\n<!-- 27&#45;&gt;28 -->\n<g id=\"edge28\" class=\"edge\">\n<title>27&#45;&gt;28</title>\n<path fill=\"none\" stroke=\"black\" d=\"M1837.5,-103.73C1837.5,-95.52 1837.5,-86.86 1837.5,-78.56\"/>\n<polygon fill=\"black\" stroke=\"black\" points=\"1841,-78.3 1837.5,-68.3 1834,-78.3 1841,-78.3\"/>\n</g>\n<!-- 29 -->\n<g id=\"node30\" class=\"node\">\n<title>29</title>\n<path fill=\"#f0b58a\" stroke=\"black\" d=\"M2055,-68C2055,-68 1938,-68 1938,-68 1932,-68 1926,-62 1926,-56 1926,-56 1926,-12 1926,-12 1926,-6 1932,0 1938,0 1938,0 2055,0 2055,0 2061,0 2067,-6 2067,-12 2067,-12 2067,-56 2067,-56 2067,-62 2061,-68 2055,-68\"/>\n<text text-anchor=\"start\" x=\"1961\" y=\"-52.8\" font-family=\"Helvetica,sans-Serif\" font-size=\"14.00\">gini = 0.412</text>\n<text text-anchor=\"start\" x=\"1951.5\" y=\"-37.8\" font-family=\"Helvetica,sans-Serif\" font-size=\"14.00\">samples = 203</text>\n<text text-anchor=\"start\" x=\"1934.5\" y=\"-22.8\" font-family=\"Helvetica,sans-Serif\" font-size=\"14.00\">value = [144.0, 59.0]</text>\n<text text-anchor=\"start\" x=\"1934\" y=\"-7.8\" font-family=\"Helvetica,sans-Serif\" font-size=\"14.00\">class = Non&#45;Diabetic</text>\n</g>\n<!-- 27&#45;&gt;29 -->\n<g id=\"edge29\" class=\"edge\">\n<title>27&#45;&gt;29</title>\n<path fill=\"none\" stroke=\"black\" d=\"M1896.71,-103.73C1910.82,-94.01 1925.84,-83.66 1939.84,-74.02\"/>\n<polygon fill=\"black\" stroke=\"black\" points=\"1942.15,-76.68 1948.4,-68.13 1938.18,-70.91 1942.15,-76.68\"/>\n</g>\n<!-- 31 -->\n<g id=\"node32\" class=\"node\">\n<title>31</title>\n<path fill=\"#eb9c64\" stroke=\"black\" d=\"M2683,-425C2683,-425 2566,-425 2566,-425 2560,-425 2554,-419 2554,-413 2554,-413 2554,-354 2554,-354 2554,-348 2560,-342 2566,-342 2566,-342 2683,-342 2683,-342 2689,-342 2695,-348 2695,-354 2695,-354 2695,-413 2695,-413 2695,-419 2689,-425 2683,-425\"/>\n<text text-anchor=\"start\" x=\"2591.5\" y=\"-409.8\" font-family=\"Helvetica,sans-Serif\" font-size=\"14.00\">Age ≤ 36.5</text>\n<text text-anchor=\"start\" x=\"2589\" y=\"-394.8\" font-family=\"Helvetica,sans-Serif\" font-size=\"14.00\">gini = 0.294</text>\n<text text-anchor=\"start\" x=\"2576\" y=\"-379.8\" font-family=\"Helvetica,sans-Serif\" font-size=\"14.00\">samples = 1399</text>\n<text text-anchor=\"start\" x=\"2566.5\" y=\"-364.8\" font-family=\"Helvetica,sans-Serif\" font-size=\"14.00\">value = [1149, 250]</text>\n<text text-anchor=\"start\" x=\"2562\" y=\"-349.8\" font-family=\"Helvetica,sans-Serif\" font-size=\"14.00\">class = Non&#45;Diabetic</text>\n</g>\n<!-- 30&#45;&gt;31 -->\n<g id=\"edge31\" class=\"edge\">\n<title>30&#45;&gt;31</title>\n<path fill=\"none\" stroke=\"black\" d=\"M2624.5,-460.91C2624.5,-452.65 2624.5,-443.86 2624.5,-435.3\"/>\n<polygon fill=\"black\" stroke=\"black\" points=\"2628,-435.02 2624.5,-425.02 2621,-435.02 2628,-435.02\"/>\n</g>\n<!-- 46 -->\n<g id=\"node47\" class=\"node\">\n<title>46</title>\n<path fill=\"#81c1ee\" stroke=\"black\" d=\"M3662.5,-425C3662.5,-425 3546.5,-425 3546.5,-425 3540.5,-425 3534.5,-419 3534.5,-413 3534.5,-413 3534.5,-354 3534.5,-354 3534.5,-348 3540.5,-342 3546.5,-342 3546.5,-342 3662.5,-342 3662.5,-342 3668.5,-342 3674.5,-348 3674.5,-354 3674.5,-354 3674.5,-413 3674.5,-413 3674.5,-419 3668.5,-425 3662.5,-425\"/>\n<text text-anchor=\"start\" x=\"3544\" y=\"-409.8\" font-family=\"Helvetica,sans-Serif\" font-size=\"14.00\">SerumInsulin ≤ 51.5</text>\n<text text-anchor=\"start\" x=\"3569\" y=\"-394.8\" font-family=\"Helvetica,sans-Serif\" font-size=\"14.00\">gini = 0.391</text>\n<text text-anchor=\"start\" x=\"3556\" y=\"-379.8\" font-family=\"Helvetica,sans-Serif\" font-size=\"14.00\">samples = 4832</text>\n<text text-anchor=\"start\" x=\"3542.5\" y=\"-364.8\" font-family=\"Helvetica,sans-Serif\" font-size=\"14.00\">value = [1289, 3543]</text>\n<text text-anchor=\"start\" x=\"3556.5\" y=\"-349.8\" font-family=\"Helvetica,sans-Serif\" font-size=\"14.00\">class = Diabetic</text>\n</g>\n<!-- 30&#45;&gt;46 -->\n<g id=\"edge46\" class=\"edge\">\n<title>30&#45;&gt;46</title>\n<path fill=\"none\" stroke=\"black\" d=\"M2705.53,-491.83C2890.18,-469.78 3340.36,-416.04 3524.25,-394.08\"/>\n<polygon fill=\"black\" stroke=\"black\" points=\"3524.88,-397.53 3534.39,-392.87 3524.05,-390.58 3524.88,-397.53\"/>\n</g>\n<!-- 32 -->\n<g id=\"node33\" class=\"node\">\n<title>32</title>\n<path fill=\"#e89152\" stroke=\"black\" d=\"M2608,-306C2608,-306 2491,-306 2491,-306 2485,-306 2479,-300 2479,-294 2479,-294 2479,-235 2479,-235 2479,-229 2485,-223 2491,-223 2491,-223 2608,-223 2608,-223 2614,-223 2620,-229 2620,-235 2620,-235 2620,-294 2620,-294 2620,-300 2614,-306 2608,-306\"/>\n<text text-anchor=\"start\" x=\"2495\" y=\"-290.8\" font-family=\"Helvetica,sans-Serif\" font-size=\"14.00\">Pregnancies ≤ 5.5</text>\n<text text-anchor=\"start\" x=\"2514\" y=\"-275.8\" font-family=\"Helvetica,sans-Serif\" font-size=\"14.00\">gini = 0.198</text>\n<text text-anchor=\"start\" x=\"2501\" y=\"-260.8\" font-family=\"Helvetica,sans-Serif\" font-size=\"14.00\">samples = 1152</text>\n<text text-anchor=\"start\" x=\"2491.5\" y=\"-245.8\" font-family=\"Helvetica,sans-Serif\" font-size=\"14.00\">value = [1024, 128]</text>\n<text text-anchor=\"start\" x=\"2487\" y=\"-230.8\" font-family=\"Helvetica,sans-Serif\" font-size=\"14.00\">class = Non&#45;Diabetic</text>\n</g>\n<!-- 31&#45;&gt;32 -->\n<g id=\"edge32\" class=\"edge\">\n<title>31&#45;&gt;32</title>\n<path fill=\"none\" stroke=\"black\" d=\"M2598.48,-341.91C2592.84,-333.1 2586.81,-323.7 2580.98,-314.61\"/>\n<polygon fill=\"black\" stroke=\"black\" points=\"2583.82,-312.55 2575.47,-306.02 2577.93,-316.33 2583.82,-312.55\"/>\n</g>\n<!-- 39 -->\n<g id=\"node40\" class=\"node\">\n<title>39</title>\n<path fill=\"#fefcfa\" stroke=\"black\" d=\"M2900,-306C2900,-306 2783,-306 2783,-306 2777,-306 2771,-300 2771,-294 2771,-294 2771,-235 2771,-235 2771,-229 2777,-223 2783,-223 2783,-223 2900,-223 2900,-223 2906,-223 2912,-229 2912,-235 2912,-235 2912,-294 2912,-294 2912,-300 2906,-306 2900,-306\"/>\n<text text-anchor=\"start\" x=\"2781\" y=\"-290.8\" font-family=\"Helvetica,sans-Serif\" font-size=\"14.00\">SerumInsulin ≤ 49.5</text>\n<text text-anchor=\"start\" x=\"2813.5\" y=\"-275.8\" font-family=\"Helvetica,sans-Serif\" font-size=\"14.00\">gini = 0.5</text>\n<text text-anchor=\"start\" x=\"2796.5\" y=\"-260.8\" font-family=\"Helvetica,sans-Serif\" font-size=\"14.00\">samples = 247</text>\n<text text-anchor=\"start\" x=\"2787\" y=\"-245.8\" font-family=\"Helvetica,sans-Serif\" font-size=\"14.00\">value = [125, 122]</text>\n<text text-anchor=\"start\" x=\"2779\" y=\"-230.8\" font-family=\"Helvetica,sans-Serif\" font-size=\"14.00\">class = Non&#45;Diabetic</text>\n</g>\n<!-- 31&#45;&gt;39 -->\n<g id=\"edge39\" class=\"edge\">\n<title>31&#45;&gt;39</title>\n<path fill=\"none\" stroke=\"black\" d=\"M2695.25,-344.35C2716.56,-332.86 2740.08,-320.18 2761.92,-308.41\"/>\n<polygon fill=\"black\" stroke=\"black\" points=\"2763.7,-311.42 2770.84,-303.6 2760.38,-305.26 2763.7,-311.42\"/>\n</g>\n<!-- 33 -->\n<g id=\"node34\" class=\"node\">\n<title>33</title>\n<path fill=\"#edaa79\" stroke=\"black\" d=\"M2379.5,-187C2379.5,-187 2249.5,-187 2249.5,-187 2243.5,-187 2237.5,-181 2237.5,-175 2237.5,-175 2237.5,-116 2237.5,-116 2237.5,-110 2243.5,-104 2249.5,-104 2249.5,-104 2379.5,-104 2379.5,-104 2385.5,-104 2391.5,-110 2391.5,-116 2391.5,-116 2391.5,-175 2391.5,-175 2391.5,-181 2385.5,-187 2379.5,-187\"/>\n<text text-anchor=\"start\" x=\"2245.5\" y=\"-171.8\" font-family=\"Helvetica,sans-Serif\" font-size=\"14.00\">PlasmaGlucose ≤ 95.5</text>\n<text text-anchor=\"start\" x=\"2279\" y=\"-156.8\" font-family=\"Helvetica,sans-Serif\" font-size=\"14.00\">gini = 0.369</text>\n<text text-anchor=\"start\" x=\"2269.5\" y=\"-141.8\" font-family=\"Helvetica,sans-Serif\" font-size=\"14.00\">samples = 303</text>\n<text text-anchor=\"start\" x=\"2264\" y=\"-126.8\" font-family=\"Helvetica,sans-Serif\" font-size=\"14.00\">value = [229, 74]</text>\n<text text-anchor=\"start\" x=\"2252\" y=\"-111.8\" font-family=\"Helvetica,sans-Serif\" font-size=\"14.00\">class = Non&#45;Diabetic</text>\n</g>\n<!-- 32&#45;&gt;33 -->\n<g id=\"edge33\" class=\"edge\">\n<title>32&#45;&gt;33</title>\n<path fill=\"none\" stroke=\"black\" d=\"M2478.99,-228.4C2454.32,-216.11 2426.34,-202.18 2400.54,-189.34\"/>\n<polygon fill=\"black\" stroke=\"black\" points=\"2402.03,-186.17 2391.52,-184.85 2398.91,-192.44 2402.03,-186.17\"/>\n</g>\n<!-- 36 -->\n<g id=\"node37\" class=\"node\">\n<title>36</title>\n<path fill=\"#e78a46\" stroke=\"black\" d=\"M2608,-187C2608,-187 2491,-187 2491,-187 2485,-187 2479,-181 2479,-175 2479,-175 2479,-116 2479,-116 2479,-110 2485,-104 2491,-104 2491,-104 2608,-104 2608,-104 2614,-104 2620,-110 2620,-116 2620,-116 2620,-175 2620,-175 2620,-181 2614,-187 2608,-187\"/>\n<text text-anchor=\"start\" x=\"2491\" y=\"-171.8\" font-family=\"Helvetica,sans-Serif\" font-size=\"14.00\">Pregnancies ≤ 11.5</text>\n<text text-anchor=\"start\" x=\"2514\" y=\"-156.8\" font-family=\"Helvetica,sans-Serif\" font-size=\"14.00\">gini = 0.119</text>\n<text text-anchor=\"start\" x=\"2504.5\" y=\"-141.8\" font-family=\"Helvetica,sans-Serif\" font-size=\"14.00\">samples = 849</text>\n<text text-anchor=\"start\" x=\"2487.5\" y=\"-126.8\" font-family=\"Helvetica,sans-Serif\" font-size=\"14.00\">value = [795.0, 54.0]</text>\n<text text-anchor=\"start\" x=\"2487\" y=\"-111.8\" font-family=\"Helvetica,sans-Serif\" font-size=\"14.00\">class = Non&#45;Diabetic</text>\n</g>\n<!-- 32&#45;&gt;36 -->\n<g id=\"edge36\" class=\"edge\">\n<title>32&#45;&gt;36</title>\n<path fill=\"none\" stroke=\"black\" d=\"M2549.5,-222.91C2549.5,-214.65 2549.5,-205.86 2549.5,-197.3\"/>\n<polygon fill=\"black\" stroke=\"black\" points=\"2553,-197.02 2549.5,-187.02 2546,-197.02 2553,-197.02\"/>\n</g>\n<!-- 34 -->\n<g id=\"node35\" class=\"node\">\n<title>34</title>\n<path fill=\"#e78b49\" stroke=\"black\" d=\"M2214,-68C2214,-68 2097,-68 2097,-68 2091,-68 2085,-62 2085,-56 2085,-56 2085,-12 2085,-12 2085,-6 2091,0 2097,0 2097,0 2214,0 2214,0 2220,0 2226,-6 2226,-12 2226,-12 2226,-56 2226,-56 2226,-62 2220,-68 2214,-68\"/>\n<text text-anchor=\"start\" x=\"2120\" y=\"-52.8\" font-family=\"Helvetica,sans-Serif\" font-size=\"14.00\">gini = 0.136</text>\n<text text-anchor=\"start\" x=\"2110.5\" y=\"-37.8\" font-family=\"Helvetica,sans-Serif\" font-size=\"14.00\">samples = 136</text>\n<text text-anchor=\"start\" x=\"2105\" y=\"-22.8\" font-family=\"Helvetica,sans-Serif\" font-size=\"14.00\">value = [126, 10]</text>\n<text text-anchor=\"start\" x=\"2093\" y=\"-7.8\" font-family=\"Helvetica,sans-Serif\" font-size=\"14.00\">class = Non&#45;Diabetic</text>\n</g>\n<!-- 33&#45;&gt;34 -->\n<g id=\"edge34\" class=\"edge\">\n<title>33&#45;&gt;34</title>\n<path fill=\"none\" stroke=\"black\" d=\"M2255.29,-103.73C2241.18,-94.01 2226.16,-83.66 2212.16,-74.02\"/>\n<polygon fill=\"black\" stroke=\"black\" points=\"2213.82,-70.91 2203.6,-68.13 2209.85,-76.68 2213.82,-70.91\"/>\n</g>\n<!-- 35 -->\n<g id=\"node36\" class=\"node\">\n<title>35</title>\n<path fill=\"#f5cfb4\" stroke=\"black\" d=\"M2373,-68C2373,-68 2256,-68 2256,-68 2250,-68 2244,-62 2244,-56 2244,-56 2244,-12 2244,-12 2244,-6 2250,0 2256,0 2256,0 2373,0 2373,0 2379,0 2385,-6 2385,-12 2385,-12 2385,-56 2385,-56 2385,-62 2379,-68 2373,-68\"/>\n<text text-anchor=\"start\" x=\"2279\" y=\"-52.8\" font-family=\"Helvetica,sans-Serif\" font-size=\"14.00\">gini = 0.473</text>\n<text text-anchor=\"start\" x=\"2269.5\" y=\"-37.8\" font-family=\"Helvetica,sans-Serif\" font-size=\"14.00\">samples = 167</text>\n<text text-anchor=\"start\" x=\"2264\" y=\"-22.8\" font-family=\"Helvetica,sans-Serif\" font-size=\"14.00\">value = [103, 64]</text>\n<text text-anchor=\"start\" x=\"2252\" y=\"-7.8\" font-family=\"Helvetica,sans-Serif\" font-size=\"14.00\">class = Non&#45;Diabetic</text>\n</g>\n<!-- 33&#45;&gt;35 -->\n<g id=\"edge35\" class=\"edge\">\n<title>33&#45;&gt;35</title>\n<path fill=\"none\" stroke=\"black\" d=\"M2314.5,-103.73C2314.5,-95.52 2314.5,-86.86 2314.5,-78.56\"/>\n<polygon fill=\"black\" stroke=\"black\" points=\"2318,-78.3 2314.5,-68.3 2311,-78.3 2318,-78.3\"/>\n</g>\n<!-- 37 -->\n<g id=\"node38\" class=\"node\">\n<title>37</title>\n<path fill=\"#e78946\" stroke=\"black\" d=\"M2532,-68C2532,-68 2415,-68 2415,-68 2409,-68 2403,-62 2403,-56 2403,-56 2403,-12 2403,-12 2403,-6 2409,0 2415,0 2415,0 2532,0 2532,0 2538,0 2544,-6 2544,-12 2544,-12 2544,-56 2544,-56 2544,-62 2538,-68 2532,-68\"/>\n<text text-anchor=\"start\" x=\"2438\" y=\"-52.8\" font-family=\"Helvetica,sans-Serif\" font-size=\"14.00\">gini = 0.113</text>\n<text text-anchor=\"start\" x=\"2428.5\" y=\"-37.8\" font-family=\"Helvetica,sans-Serif\" font-size=\"14.00\">samples = 846</text>\n<text text-anchor=\"start\" x=\"2423\" y=\"-22.8\" font-family=\"Helvetica,sans-Serif\" font-size=\"14.00\">value = [795, 51]</text>\n<text text-anchor=\"start\" x=\"2411\" y=\"-7.8\" font-family=\"Helvetica,sans-Serif\" font-size=\"14.00\">class = Non&#45;Diabetic</text>\n</g>\n<!-- 36&#45;&gt;37 -->\n<g id=\"edge37\" class=\"edge\">\n<title>36&#45;&gt;37</title>\n<path fill=\"none\" stroke=\"black\" d=\"M2521.2,-103.73C2515.06,-94.88 2508.56,-85.51 2502.39,-76.63\"/>\n<polygon fill=\"black\" stroke=\"black\" points=\"2505.19,-74.52 2496.61,-68.3 2499.44,-78.51 2505.19,-74.52\"/>\n</g>\n<!-- 38 -->\n<g id=\"node39\" class=\"node\">\n<title>38</title>\n<path fill=\"#399de5\" stroke=\"black\" d=\"M2662.5,-68C2662.5,-68 2574.5,-68 2574.5,-68 2568.5,-68 2562.5,-62 2562.5,-56 2562.5,-56 2562.5,-12 2562.5,-12 2562.5,-6 2568.5,0 2574.5,0 2574.5,0 2662.5,0 2662.5,0 2668.5,0 2674.5,-6 2674.5,-12 2674.5,-12 2674.5,-56 2674.5,-56 2674.5,-62 2668.5,-68 2662.5,-68\"/>\n<text text-anchor=\"start\" x=\"2590.5\" y=\"-52.8\" font-family=\"Helvetica,sans-Serif\" font-size=\"14.00\">gini = 0.0</text>\n<text text-anchor=\"start\" x=\"2581\" y=\"-37.8\" font-family=\"Helvetica,sans-Serif\" font-size=\"14.00\">samples = 3</text>\n<text text-anchor=\"start\" x=\"2579\" y=\"-22.8\" font-family=\"Helvetica,sans-Serif\" font-size=\"14.00\">value = [0, 3]</text>\n<text text-anchor=\"start\" x=\"2570.5\" y=\"-7.8\" font-family=\"Helvetica,sans-Serif\" font-size=\"14.00\">class = Diabetic</text>\n</g>\n<!-- 36&#45;&gt;38 -->\n<g id=\"edge38\" class=\"edge\">\n<title>36&#45;&gt;38</title>\n<path fill=\"none\" stroke=\"black\" d=\"M2575.19,-103.73C2580.71,-94.97 2586.55,-85.7 2592.09,-76.91\"/>\n<polygon fill=\"black\" stroke=\"black\" points=\"2595.15,-78.63 2597.52,-68.3 2589.22,-74.89 2595.15,-78.63\"/>\n</g>\n<!-- 40 -->\n<g id=\"node41\" class=\"node\">\n<title>40</title>\n<path fill=\"#e99558\" stroke=\"black\" d=\"M2900,-187C2900,-187 2783,-187 2783,-187 2777,-187 2771,-181 2771,-175 2771,-175 2771,-116 2771,-116 2771,-110 2777,-104 2783,-104 2783,-104 2900,-104 2900,-104 2906,-104 2912,-110 2912,-116 2912,-116 2912,-175 2912,-175 2912,-181 2906,-187 2900,-187\"/>\n<text text-anchor=\"start\" x=\"2787\" y=\"-171.8\" font-family=\"Helvetica,sans-Serif\" font-size=\"14.00\">Pregnancies ≤ 3.5</text>\n<text text-anchor=\"start\" x=\"2806\" y=\"-156.8\" font-family=\"Helvetica,sans-Serif\" font-size=\"14.00\">gini = 0.232</text>\n<text text-anchor=\"start\" x=\"2800.5\" y=\"-141.8\" font-family=\"Helvetica,sans-Serif\" font-size=\"14.00\">samples = 82</text>\n<text text-anchor=\"start\" x=\"2794.5\" y=\"-126.8\" font-family=\"Helvetica,sans-Serif\" font-size=\"14.00\">value = [71, 11]</text>\n<text text-anchor=\"start\" x=\"2779\" y=\"-111.8\" font-family=\"Helvetica,sans-Serif\" font-size=\"14.00\">class = Non&#45;Diabetic</text>\n</g>\n<!-- 39&#45;&gt;40 -->\n<g id=\"edge40\" class=\"edge\">\n<title>39&#45;&gt;40</title>\n<path fill=\"none\" stroke=\"black\" d=\"M2841.5,-222.91C2841.5,-214.65 2841.5,-205.86 2841.5,-197.3\"/>\n<polygon fill=\"black\" stroke=\"black\" points=\"2845,-197.02 2841.5,-187.02 2838,-197.02 2845,-197.02\"/>\n</g>\n<!-- 43 -->\n<g id=\"node44\" class=\"node\">\n<title>43</title>\n<path fill=\"#99cdf2\" stroke=\"black\" d=\"M3146.5,-187C3146.5,-187 3016.5,-187 3016.5,-187 3010.5,-187 3004.5,-181 3004.5,-175 3004.5,-175 3004.5,-116 3004.5,-116 3004.5,-110 3010.5,-104 3016.5,-104 3016.5,-104 3146.5,-104 3146.5,-104 3152.5,-104 3158.5,-110 3158.5,-116 3158.5,-116 3158.5,-175 3158.5,-175 3158.5,-181 3152.5,-187 3146.5,-187\"/>\n<text text-anchor=\"start\" x=\"3012.5\" y=\"-171.8\" font-family=\"Helvetica,sans-Serif\" font-size=\"14.00\">PlasmaGlucose ≤ 95.0</text>\n<text text-anchor=\"start\" x=\"3049.5\" y=\"-156.8\" font-family=\"Helvetica,sans-Serif\" font-size=\"14.00\">gini = 0.44</text>\n<text text-anchor=\"start\" x=\"3036.5\" y=\"-141.8\" font-family=\"Helvetica,sans-Serif\" font-size=\"14.00\">samples = 165</text>\n<text text-anchor=\"start\" x=\"3031\" y=\"-126.8\" font-family=\"Helvetica,sans-Serif\" font-size=\"14.00\">value = [54, 111]</text>\n<text text-anchor=\"start\" x=\"3033.5\" y=\"-111.8\" font-family=\"Helvetica,sans-Serif\" font-size=\"14.00\">class = Diabetic</text>\n</g>\n<!-- 39&#45;&gt;43 -->\n<g id=\"edge43\" class=\"edge\">\n<title>39&#45;&gt;43</title>\n<path fill=\"none\" stroke=\"black\" d=\"M2912.21,-229.03C2938.17,-216.37 2967.86,-201.9 2995.05,-188.64\"/>\n<polygon fill=\"black\" stroke=\"black\" points=\"2996.71,-191.73 3004.17,-184.2 2993.65,-185.43 2996.71,-191.73\"/>\n</g>\n<!-- 41 -->\n<g id=\"node42\" class=\"node\">\n<title>41</title>\n<path fill=\"#f9e3d3\" stroke=\"black\" d=\"M2822,-68C2822,-68 2705,-68 2705,-68 2699,-68 2693,-62 2693,-56 2693,-56 2693,-12 2693,-12 2693,-6 2699,0 2705,0 2705,0 2822,0 2822,0 2828,0 2834,-6 2834,-12 2834,-12 2834,-56 2834,-56 2834,-62 2828,-68 2822,-68\"/>\n<text text-anchor=\"start\" x=\"2728\" y=\"-52.8\" font-family=\"Helvetica,sans-Serif\" font-size=\"14.00\">gini = 0.492</text>\n<text text-anchor=\"start\" x=\"2722.5\" y=\"-37.8\" font-family=\"Helvetica,sans-Serif\" font-size=\"14.00\">samples = 16</text>\n<text text-anchor=\"start\" x=\"2724\" y=\"-22.8\" font-family=\"Helvetica,sans-Serif\" font-size=\"14.00\">value = [9, 7]</text>\n<text text-anchor=\"start\" x=\"2701\" y=\"-7.8\" font-family=\"Helvetica,sans-Serif\" font-size=\"14.00\">class = Non&#45;Diabetic</text>\n</g>\n<!-- 40&#45;&gt;41 -->\n<g id=\"edge41\" class=\"edge\">\n<title>40&#45;&gt;41</title>\n<path fill=\"none\" stroke=\"black\" d=\"M2812.46,-103.73C2806.15,-94.88 2799.48,-85.51 2793.15,-76.63\"/>\n<polygon fill=\"black\" stroke=\"black\" points=\"2795.87,-74.41 2787.22,-68.3 2790.17,-78.48 2795.87,-74.41\"/>\n</g>\n<!-- 42 -->\n<g id=\"node43\" class=\"node\">\n<title>42</title>\n<path fill=\"#e78946\" stroke=\"black\" d=\"M2981,-68C2981,-68 2864,-68 2864,-68 2858,-68 2852,-62 2852,-56 2852,-56 2852,-12 2852,-12 2852,-6 2858,0 2864,0 2864,0 2981,0 2981,0 2987,0 2993,-6 2993,-12 2993,-12 2993,-56 2993,-56 2993,-62 2987,-68 2981,-68\"/>\n<text text-anchor=\"start\" x=\"2887\" y=\"-52.8\" font-family=\"Helvetica,sans-Serif\" font-size=\"14.00\">gini = 0.114</text>\n<text text-anchor=\"start\" x=\"2881.5\" y=\"-37.8\" font-family=\"Helvetica,sans-Serif\" font-size=\"14.00\">samples = 66</text>\n<text text-anchor=\"start\" x=\"2879.5\" y=\"-22.8\" font-family=\"Helvetica,sans-Serif\" font-size=\"14.00\">value = [62, 4]</text>\n<text text-anchor=\"start\" x=\"2860\" y=\"-7.8\" font-family=\"Helvetica,sans-Serif\" font-size=\"14.00\">class = Non&#45;Diabetic</text>\n</g>\n<!-- 40&#45;&gt;42 -->\n<g id=\"edge42\" class=\"edge\">\n<title>40&#45;&gt;42</title>\n<path fill=\"none\" stroke=\"black\" d=\"M2871.66,-103.73C2878.27,-94.79 2885.28,-85.32 2891.91,-76.36\"/>\n<polygon fill=\"black\" stroke=\"black\" points=\"2894.73,-78.42 2897.87,-68.3 2889.11,-74.26 2894.73,-78.42\"/>\n</g>\n<!-- 44 -->\n<g id=\"node45\" class=\"node\">\n<title>44</title>\n<path fill=\"#f2c29f\" stroke=\"black\" d=\"M3140,-68C3140,-68 3023,-68 3023,-68 3017,-68 3011,-62 3011,-56 3011,-56 3011,-12 3011,-12 3011,-6 3017,0 3023,0 3023,0 3140,0 3140,0 3146,0 3152,-6 3152,-12 3152,-12 3152,-56 3152,-56 3152,-62 3146,-68 3140,-68\"/>\n<text text-anchor=\"start\" x=\"3046\" y=\"-52.8\" font-family=\"Helvetica,sans-Serif\" font-size=\"14.00\">gini = 0.449</text>\n<text text-anchor=\"start\" x=\"3040.5\" y=\"-37.8\" font-family=\"Helvetica,sans-Serif\" font-size=\"14.00\">samples = 44</text>\n<text text-anchor=\"start\" x=\"3023.5\" y=\"-22.8\" font-family=\"Helvetica,sans-Serif\" font-size=\"14.00\">value = [29.0, 15.0]</text>\n<text text-anchor=\"start\" x=\"3019\" y=\"-7.8\" font-family=\"Helvetica,sans-Serif\" font-size=\"14.00\">class = Non&#45;Diabetic</text>\n</g>\n<!-- 43&#45;&gt;44 -->\n<g id=\"edge44\" class=\"edge\">\n<title>43&#45;&gt;44</title>\n<path fill=\"none\" stroke=\"black\" d=\"M3081.5,-103.73C3081.5,-95.52 3081.5,-86.86 3081.5,-78.56\"/>\n<polygon fill=\"black\" stroke=\"black\" points=\"3085,-78.3 3081.5,-68.3 3078,-78.3 3085,-78.3\"/>\n</g>\n<!-- 45 -->\n<g id=\"node46\" class=\"node\">\n<title>45</title>\n<path fill=\"#6db7ec\" stroke=\"black\" d=\"M3270.5,-68C3270.5,-68 3182.5,-68 3182.5,-68 3176.5,-68 3170.5,-62 3170.5,-56 3170.5,-56 3170.5,-12 3170.5,-12 3170.5,-6 3176.5,0 3182.5,0 3182.5,0 3270.5,0 3270.5,0 3276.5,0 3282.5,-6 3282.5,-12 3282.5,-12 3282.5,-56 3282.5,-56 3282.5,-62 3276.5,-68 3270.5,-68\"/>\n<text text-anchor=\"start\" x=\"3191\" y=\"-52.8\" font-family=\"Helvetica,sans-Serif\" font-size=\"14.00\">gini = 0.328</text>\n<text text-anchor=\"start\" x=\"3181.5\" y=\"-37.8\" font-family=\"Helvetica,sans-Serif\" font-size=\"14.00\">samples = 121</text>\n<text text-anchor=\"start\" x=\"3179.5\" y=\"-22.8\" font-family=\"Helvetica,sans-Serif\" font-size=\"14.00\">value = [25, 96]</text>\n<text text-anchor=\"start\" x=\"3178.5\" y=\"-7.8\" font-family=\"Helvetica,sans-Serif\" font-size=\"14.00\">class = Diabetic</text>\n</g>\n<!-- 43&#45;&gt;45 -->\n<g id=\"edge45\" class=\"edge\">\n<title>43&#45;&gt;45</title>\n<path fill=\"none\" stroke=\"black\" d=\"M3135.49,-103.73C3148.17,-94.15 3161.67,-83.96 3174.27,-74.44\"/>\n<polygon fill=\"black\" stroke=\"black\" points=\"3176.53,-77.12 3182.4,-68.3 3172.32,-71.53 3176.53,-77.12\"/>\n</g>\n<!-- 47 -->\n<g id=\"node48\" class=\"node\">\n<title>47</title>\n<path fill=\"#f6d1b7\" stroke=\"black\" d=\"M3663,-306C3663,-306 3546,-306 3546,-306 3540,-306 3534,-300 3534,-294 3534,-294 3534,-235 3534,-235 3534,-229 3540,-223 3546,-223 3546,-223 3663,-223 3663,-223 3669,-223 3675,-229 3675,-235 3675,-235 3675,-294 3675,-294 3675,-300 3669,-306 3663,-306\"/>\n<text text-anchor=\"start\" x=\"3571.5\" y=\"-290.8\" font-family=\"Helvetica,sans-Serif\" font-size=\"14.00\">Age ≤ 35.5</text>\n<text text-anchor=\"start\" x=\"3569\" y=\"-275.8\" font-family=\"Helvetica,sans-Serif\" font-size=\"14.00\">gini = 0.475</text>\n<text text-anchor=\"start\" x=\"3556\" y=\"-260.8\" font-family=\"Helvetica,sans-Serif\" font-size=\"14.00\">samples = 1057</text>\n<text text-anchor=\"start\" x=\"3550\" y=\"-245.8\" font-family=\"Helvetica,sans-Serif\" font-size=\"14.00\">value = [646, 411]</text>\n<text text-anchor=\"start\" x=\"3542\" y=\"-230.8\" font-family=\"Helvetica,sans-Serif\" font-size=\"14.00\">class = Non&#45;Diabetic</text>\n</g>\n<!-- 46&#45;&gt;47 -->\n<g id=\"edge47\" class=\"edge\">\n<title>46&#45;&gt;47</title>\n<path fill=\"none\" stroke=\"black\" d=\"M3604.5,-341.91C3604.5,-333.65 3604.5,-324.86 3604.5,-316.3\"/>\n<polygon fill=\"black\" stroke=\"black\" points=\"3608,-316.02 3604.5,-306.02 3601,-316.02 3608,-316.02\"/>\n</g>\n<!-- 54 -->\n<g id=\"node55\" class=\"node\">\n<title>54</title>\n<path fill=\"#62b1ea\" stroke=\"black\" d=\"M4110.5,-306C4110.5,-306 4002.5,-306 4002.5,-306 3996.5,-306 3990.5,-300 3990.5,-294 3990.5,-294 3990.5,-235 3990.5,-235 3990.5,-229 3996.5,-223 4002.5,-223 4002.5,-223 4110.5,-223 4110.5,-223 4116.5,-223 4122.5,-229 4122.5,-235 4122.5,-235 4122.5,-294 4122.5,-294 4122.5,-300 4116.5,-306 4110.5,-306\"/>\n<text text-anchor=\"start\" x=\"4023.5\" y=\"-290.8\" font-family=\"Helvetica,sans-Serif\" font-size=\"14.00\">Age ≤ 35.5</text>\n<text text-anchor=\"start\" x=\"4021\" y=\"-275.8\" font-family=\"Helvetica,sans-Serif\" font-size=\"14.00\">gini = 0.283</text>\n<text text-anchor=\"start\" x=\"4008\" y=\"-260.8\" font-family=\"Helvetica,sans-Serif\" font-size=\"14.00\">samples = 3775</text>\n<text text-anchor=\"start\" x=\"3998.5\" y=\"-245.8\" font-family=\"Helvetica,sans-Serif\" font-size=\"14.00\">value = [643, 3132]</text>\n<text text-anchor=\"start\" x=\"4008.5\" y=\"-230.8\" font-family=\"Helvetica,sans-Serif\" font-size=\"14.00\">class = Diabetic</text>\n</g>\n<!-- 46&#45;&gt;54 -->\n<g id=\"edge54\" class=\"edge\">\n<title>46&#45;&gt;54</title>\n<path fill=\"none\" stroke=\"black\" d=\"M3674.63,-364.35C3757.52,-342.89 3894.94,-307.32 3980.36,-285.21\"/>\n<polygon fill=\"black\" stroke=\"black\" points=\"3981.45,-288.54 3990.26,-282.65 3979.7,-281.76 3981.45,-288.54\"/>\n</g>\n<!-- 48 -->\n<g id=\"node49\" class=\"node\">\n<title>48</title>\n<path fill=\"#eda978\" stroke=\"black\" d=\"M3589,-187C3589,-187 3472,-187 3472,-187 3466,-187 3460,-181 3460,-175 3460,-175 3460,-116 3460,-116 3460,-110 3466,-104 3472,-104 3472,-104 3589,-104 3589,-104 3595,-104 3601,-110 3601,-116 3601,-116 3601,-175 3601,-175 3601,-181 3595,-187 3589,-187\"/>\n<text text-anchor=\"start\" x=\"3476\" y=\"-171.8\" font-family=\"Helvetica,sans-Serif\" font-size=\"14.00\">Pregnancies ≤ 5.5</text>\n<text text-anchor=\"start\" x=\"3495\" y=\"-156.8\" font-family=\"Helvetica,sans-Serif\" font-size=\"14.00\">gini = 0.366</text>\n<text text-anchor=\"start\" x=\"3485.5\" y=\"-141.8\" font-family=\"Helvetica,sans-Serif\" font-size=\"14.00\">samples = 771</text>\n<text text-anchor=\"start\" x=\"3476\" y=\"-126.8\" font-family=\"Helvetica,sans-Serif\" font-size=\"14.00\">value = [585, 186]</text>\n<text text-anchor=\"start\" x=\"3468\" y=\"-111.8\" font-family=\"Helvetica,sans-Serif\" font-size=\"14.00\">class = Non&#45;Diabetic</text>\n</g>\n<!-- 47&#45;&gt;48 -->\n<g id=\"edge48\" class=\"edge\">\n<title>47&#45;&gt;48</title>\n<path fill=\"none\" stroke=\"black\" d=\"M3578.83,-222.91C3573.26,-214.1 3567.31,-204.7 3561.56,-195.61\"/>\n<polygon fill=\"black\" stroke=\"black\" points=\"3564.43,-193.6 3556.13,-187.02 3558.52,-197.34 3564.43,-193.6\"/>\n</g>\n<!-- 51 -->\n<g id=\"node52\" class=\"node\">\n<title>51</title>\n<path fill=\"#6fb8ec\" stroke=\"black\" d=\"M3724,-187C3724,-187 3631,-187 3631,-187 3625,-187 3619,-181 3619,-175 3619,-175 3619,-116 3619,-116 3619,-110 3625,-104 3631,-104 3631,-104 3724,-104 3724,-104 3730,-104 3736,-110 3736,-116 3736,-116 3736,-175 3736,-175 3736,-181 3730,-187 3724,-187\"/>\n<text text-anchor=\"start\" x=\"3644.5\" y=\"-171.8\" font-family=\"Helvetica,sans-Serif\" font-size=\"14.00\">Age ≤ 65.5</text>\n<text text-anchor=\"start\" x=\"3642\" y=\"-156.8\" font-family=\"Helvetica,sans-Serif\" font-size=\"14.00\">gini = 0.336</text>\n<text text-anchor=\"start\" x=\"3632.5\" y=\"-141.8\" font-family=\"Helvetica,sans-Serif\" font-size=\"14.00\">samples = 286</text>\n<text text-anchor=\"start\" x=\"3627\" y=\"-126.8\" font-family=\"Helvetica,sans-Serif\" font-size=\"14.00\">value = [61, 225]</text>\n<text text-anchor=\"start\" x=\"3629.5\" y=\"-111.8\" font-family=\"Helvetica,sans-Serif\" font-size=\"14.00\">class = Diabetic</text>\n</g>\n<!-- 47&#45;&gt;51 -->\n<g id=\"edge51\" class=\"edge\">\n<title>47&#45;&gt;51</title>\n<path fill=\"none\" stroke=\"black\" d=\"M3629.83,-222.91C3635.32,-214.1 3641.19,-204.7 3646.86,-195.61\"/>\n<polygon fill=\"black\" stroke=\"black\" points=\"3649.89,-197.36 3652.22,-187.02 3643.95,-193.65 3649.89,-197.36\"/>\n</g>\n<!-- 49 -->\n<g id=\"node50\" class=\"node\">\n<title>49</title>\n<path fill=\"#fcf2ea\" stroke=\"black\" d=\"M3430,-68C3430,-68 3313,-68 3313,-68 3307,-68 3301,-62 3301,-56 3301,-56 3301,-12 3301,-12 3301,-6 3307,0 3313,0 3313,0 3430,0 3430,0 3436,0 3442,-6 3442,-12 3442,-12 3442,-56 3442,-56 3442,-62 3436,-68 3430,-68\"/>\n<text text-anchor=\"start\" x=\"3336\" y=\"-52.8\" font-family=\"Helvetica,sans-Serif\" font-size=\"14.00\">gini = 0.498</text>\n<text text-anchor=\"start\" x=\"3326.5\" y=\"-37.8\" font-family=\"Helvetica,sans-Serif\" font-size=\"14.00\">samples = 235</text>\n<text text-anchor=\"start\" x=\"3317\" y=\"-22.8\" font-family=\"Helvetica,sans-Serif\" font-size=\"14.00\">value = [124, 111]</text>\n<text text-anchor=\"start\" x=\"3309\" y=\"-7.8\" font-family=\"Helvetica,sans-Serif\" font-size=\"14.00\">class = Non&#45;Diabetic</text>\n</g>\n<!-- 48&#45;&gt;49 -->\n<g id=\"edge49\" class=\"edge\">\n<title>48&#45;&gt;49</title>\n<path fill=\"none\" stroke=\"black\" d=\"M3471.29,-103.73C3457.18,-94.01 3442.16,-83.66 3428.16,-74.02\"/>\n<polygon fill=\"black\" stroke=\"black\" points=\"3429.82,-70.91 3419.6,-68.13 3425.85,-76.68 3429.82,-70.91\"/>\n</g>\n<!-- 50 -->\n<g id=\"node51\" class=\"node\">\n<title>50</title>\n<path fill=\"#e99559\" stroke=\"black\" d=\"M3589,-68C3589,-68 3472,-68 3472,-68 3466,-68 3460,-62 3460,-56 3460,-56 3460,-12 3460,-12 3460,-6 3466,0 3472,0 3472,0 3589,0 3589,0 3595,0 3601,-6 3601,-12 3601,-12 3601,-56 3601,-56 3601,-62 3595,-68 3589,-68\"/>\n<text text-anchor=\"start\" x=\"3495\" y=\"-52.8\" font-family=\"Helvetica,sans-Serif\" font-size=\"14.00\">gini = 0.241</text>\n<text text-anchor=\"start\" x=\"3485.5\" y=\"-37.8\" font-family=\"Helvetica,sans-Serif\" font-size=\"14.00\">samples = 536</text>\n<text text-anchor=\"start\" x=\"3480\" y=\"-22.8\" font-family=\"Helvetica,sans-Serif\" font-size=\"14.00\">value = [461, 75]</text>\n<text text-anchor=\"start\" x=\"3468\" y=\"-7.8\" font-family=\"Helvetica,sans-Serif\" font-size=\"14.00\">class = Non&#45;Diabetic</text>\n</g>\n<!-- 48&#45;&gt;50 -->\n<g id=\"edge50\" class=\"edge\">\n<title>48&#45;&gt;50</title>\n<path fill=\"none\" stroke=\"black\" d=\"M3530.5,-103.73C3530.5,-95.52 3530.5,-86.86 3530.5,-78.56\"/>\n<polygon fill=\"black\" stroke=\"black\" points=\"3534,-78.3 3530.5,-68.3 3527,-78.3 3534,-78.3\"/>\n</g>\n<!-- 52 -->\n<g id=\"node53\" class=\"node\">\n<title>52</title>\n<path fill=\"#63b2eb\" stroke=\"black\" d=\"M3724,-68C3724,-68 3631,-68 3631,-68 3625,-68 3619,-62 3619,-56 3619,-56 3619,-12 3619,-12 3619,-6 3625,0 3631,0 3631,0 3724,0 3724,0 3730,0 3736,-6 3736,-12 3736,-12 3736,-56 3736,-56 3736,-62 3730,-68 3724,-68\"/>\n<text text-anchor=\"start\" x=\"3642\" y=\"-52.8\" font-family=\"Helvetica,sans-Serif\" font-size=\"14.00\">gini = 0.291</text>\n<text text-anchor=\"start\" x=\"3632.5\" y=\"-37.8\" font-family=\"Helvetica,sans-Serif\" font-size=\"14.00\">samples = 272</text>\n<text text-anchor=\"start\" x=\"3627\" y=\"-22.8\" font-family=\"Helvetica,sans-Serif\" font-size=\"14.00\">value = [48, 224]</text>\n<text text-anchor=\"start\" x=\"3629.5\" y=\"-7.8\" font-family=\"Helvetica,sans-Serif\" font-size=\"14.00\">class = Diabetic</text>\n</g>\n<!-- 51&#45;&gt;52 -->\n<g id=\"edge52\" class=\"edge\">\n<title>51&#45;&gt;52</title>\n<path fill=\"none\" stroke=\"black\" d=\"M3677.5,-103.73C3677.5,-95.52 3677.5,-86.86 3677.5,-78.56\"/>\n<polygon fill=\"black\" stroke=\"black\" points=\"3681,-78.3 3677.5,-68.3 3674,-78.3 3681,-78.3\"/>\n</g>\n<!-- 53 -->\n<g id=\"node54\" class=\"node\">\n<title>53</title>\n<path fill=\"#e78b48\" stroke=\"black\" d=\"M3883,-68C3883,-68 3766,-68 3766,-68 3760,-68 3754,-62 3754,-56 3754,-56 3754,-12 3754,-12 3754,-6 3760,0 3766,0 3766,0 3883,0 3883,0 3889,0 3895,-6 3895,-12 3895,-12 3895,-56 3895,-56 3895,-62 3889,-68 3883,-68\"/>\n<text text-anchor=\"start\" x=\"3789\" y=\"-52.8\" font-family=\"Helvetica,sans-Serif\" font-size=\"14.00\">gini = 0.133</text>\n<text text-anchor=\"start\" x=\"3783.5\" y=\"-37.8\" font-family=\"Helvetica,sans-Serif\" font-size=\"14.00\">samples = 14</text>\n<text text-anchor=\"start\" x=\"3781.5\" y=\"-22.8\" font-family=\"Helvetica,sans-Serif\" font-size=\"14.00\">value = [13, 1]</text>\n<text text-anchor=\"start\" x=\"3762\" y=\"-7.8\" font-family=\"Helvetica,sans-Serif\" font-size=\"14.00\">class = Non&#45;Diabetic</text>\n</g>\n<!-- 51&#45;&gt;53 -->\n<g id=\"edge53\" class=\"edge\">\n<title>51&#45;&gt;53</title>\n<path fill=\"none\" stroke=\"black\" d=\"M3732.24,-103.73C3745.09,-94.15 3758.77,-83.96 3771.55,-74.44\"/>\n<polygon fill=\"black\" stroke=\"black\" points=\"3773.87,-77.08 3779.8,-68.3 3769.69,-71.47 3773.87,-77.08\"/>\n</g>\n<!-- 55 -->\n<g id=\"node56\" class=\"node\">\n<title>55</title>\n<path fill=\"#86c3ef\" stroke=\"black\" d=\"M4110.5,-187C4110.5,-187 4002.5,-187 4002.5,-187 3996.5,-187 3990.5,-181 3990.5,-175 3990.5,-175 3990.5,-116 3990.5,-116 3990.5,-110 3996.5,-104 4002.5,-104 4002.5,-104 4110.5,-104 4110.5,-104 4116.5,-104 4122.5,-110 4122.5,-116 4122.5,-116 4122.5,-175 4122.5,-175 4122.5,-181 4116.5,-187 4110.5,-187\"/>\n<text text-anchor=\"start\" x=\"4023.5\" y=\"-171.8\" font-family=\"Helvetica,sans-Serif\" font-size=\"14.00\">Age ≤ 23.5</text>\n<text text-anchor=\"start\" x=\"4021\" y=\"-156.8\" font-family=\"Helvetica,sans-Serif\" font-size=\"14.00\">gini = 0.403</text>\n<text text-anchor=\"start\" x=\"4008\" y=\"-141.8\" font-family=\"Helvetica,sans-Serif\" font-size=\"14.00\">samples = 2096</text>\n<text text-anchor=\"start\" x=\"3998.5\" y=\"-126.8\" font-family=\"Helvetica,sans-Serif\" font-size=\"14.00\">value = [586, 1510]</text>\n<text text-anchor=\"start\" x=\"4008.5\" y=\"-111.8\" font-family=\"Helvetica,sans-Serif\" font-size=\"14.00\">class = Diabetic</text>\n</g>\n<!-- 54&#45;&gt;55 -->\n<g id=\"edge55\" class=\"edge\">\n<title>54&#45;&gt;55</title>\n<path fill=\"none\" stroke=\"black\" d=\"M4056.5,-222.91C4056.5,-214.65 4056.5,-205.86 4056.5,-197.3\"/>\n<polygon fill=\"black\" stroke=\"black\" points=\"4060,-197.02 4056.5,-187.02 4053,-197.02 4060,-197.02\"/>\n</g>\n<!-- 58 -->\n<g id=\"node59\" class=\"node\">\n<title>58</title>\n<path fill=\"#40a0e6\" stroke=\"black\" d=\"M4336,-187C4336,-187 4235,-187 4235,-187 4229,-187 4223,-181 4223,-175 4223,-175 4223,-116 4223,-116 4223,-110 4229,-104 4235,-104 4235,-104 4336,-104 4336,-104 4342,-104 4348,-110 4348,-116 4348,-116 4348,-175 4348,-175 4348,-181 4342,-187 4336,-187\"/>\n<text text-anchor=\"start\" x=\"4252.5\" y=\"-171.8\" font-family=\"Helvetica,sans-Serif\" font-size=\"14.00\">Age ≤ 67.5</text>\n<text text-anchor=\"start\" x=\"4250\" y=\"-156.8\" font-family=\"Helvetica,sans-Serif\" font-size=\"14.00\">gini = 0.066</text>\n<text text-anchor=\"start\" x=\"4237\" y=\"-141.8\" font-family=\"Helvetica,sans-Serif\" font-size=\"14.00\">samples = 1679</text>\n<text text-anchor=\"start\" x=\"4231\" y=\"-126.8\" font-family=\"Helvetica,sans-Serif\" font-size=\"14.00\">value = [57, 1622]</text>\n<text text-anchor=\"start\" x=\"4237.5\" y=\"-111.8\" font-family=\"Helvetica,sans-Serif\" font-size=\"14.00\">class = Diabetic</text>\n</g>\n<!-- 54&#45;&gt;58 -->\n<g id=\"edge58\" class=\"edge\">\n<title>54&#45;&gt;58</title>\n<path fill=\"none\" stroke=\"black\" d=\"M4122.74,-229.66C4151.22,-215.1 4184.59,-198.06 4213.67,-183.2\"/>\n<polygon fill=\"black\" stroke=\"black\" points=\"4215.64,-186.12 4222.95,-178.46 4212.45,-179.89 4215.64,-186.12\"/>\n</g>\n<!-- 56 -->\n<g id=\"node57\" class=\"node\">\n<title>56</title>\n<path fill=\"#69b5eb\" stroke=\"black\" d=\"M4033.5,-68C4033.5,-68 3925.5,-68 3925.5,-68 3919.5,-68 3913.5,-62 3913.5,-56 3913.5,-56 3913.5,-12 3913.5,-12 3913.5,-6 3919.5,0 3925.5,0 3925.5,0 4033.5,0 4033.5,0 4039.5,0 4045.5,-6 4045.5,-12 4045.5,-12 4045.5,-56 4045.5,-56 4045.5,-62 4039.5,-68 4033.5,-68\"/>\n<text text-anchor=\"start\" x=\"3944\" y=\"-52.8\" font-family=\"Helvetica,sans-Serif\" font-size=\"14.00\">gini = 0.312</text>\n<text text-anchor=\"start\" x=\"3931\" y=\"-37.8\" font-family=\"Helvetica,sans-Serif\" font-size=\"14.00\">samples = 1591</text>\n<text text-anchor=\"start\" x=\"3921.5\" y=\"-22.8\" font-family=\"Helvetica,sans-Serif\" font-size=\"14.00\">value = [308, 1283]</text>\n<text text-anchor=\"start\" x=\"3931.5\" y=\"-7.8\" font-family=\"Helvetica,sans-Serif\" font-size=\"14.00\">class = Diabetic</text>\n</g>\n<!-- 55&#45;&gt;56 -->\n<g id=\"edge56\" class=\"edge\">\n<title>55&#45;&gt;56</title>\n<path fill=\"none\" stroke=\"black\" d=\"M4027.83,-103.73C4021.61,-94.88 4015.02,-85.51 4008.77,-76.63\"/>\n<polygon fill=\"black\" stroke=\"black\" points=\"4011.53,-74.47 4002.92,-68.3 4005.81,-78.49 4011.53,-74.47\"/>\n</g>\n<!-- 57 -->\n<g id=\"node58\" class=\"node\">\n<title>57</title>\n<path fill=\"#fae8db\" stroke=\"black\" d=\"M4193,-68C4193,-68 4076,-68 4076,-68 4070,-68 4064,-62 4064,-56 4064,-56 4064,-12 4064,-12 4064,-6 4070,0 4076,0 4076,0 4193,0 4193,0 4199,0 4205,-6 4205,-12 4205,-12 4205,-56 4205,-56 4205,-62 4199,-68 4193,-68\"/>\n<text text-anchor=\"start\" x=\"4099\" y=\"-52.8\" font-family=\"Helvetica,sans-Serif\" font-size=\"14.00\">gini = 0.495</text>\n<text text-anchor=\"start\" x=\"4089.5\" y=\"-37.8\" font-family=\"Helvetica,sans-Serif\" font-size=\"14.00\">samples = 505</text>\n<text text-anchor=\"start\" x=\"4080\" y=\"-22.8\" font-family=\"Helvetica,sans-Serif\" font-size=\"14.00\">value = [278, 227]</text>\n<text text-anchor=\"start\" x=\"4072\" y=\"-7.8\" font-family=\"Helvetica,sans-Serif\" font-size=\"14.00\">class = Non&#45;Diabetic</text>\n</g>\n<!-- 55&#45;&gt;57 -->\n<g id=\"edge57\" class=\"edge\">\n<title>55&#45;&gt;57</title>\n<path fill=\"none\" stroke=\"black\" d=\"M4085.54,-103.73C4091.85,-94.88 4098.52,-85.51 4104.85,-76.63\"/>\n<polygon fill=\"black\" stroke=\"black\" points=\"4107.83,-78.48 4110.78,-68.3 4102.13,-74.41 4107.83,-78.48\"/>\n</g>\n<!-- 59 -->\n<g id=\"node60\" class=\"node\">\n<title>59</title>\n<path fill=\"#3fa0e6\" stroke=\"black\" d=\"M4336,-68C4336,-68 4235,-68 4235,-68 4229,-68 4223,-62 4223,-56 4223,-56 4223,-12 4223,-12 4223,-6 4229,0 4235,0 4235,0 4336,0 4336,0 4342,0 4348,-6 4348,-12 4348,-12 4348,-56 4348,-56 4348,-62 4342,-68 4336,-68\"/>\n<text text-anchor=\"start\" x=\"4250\" y=\"-52.8\" font-family=\"Helvetica,sans-Serif\" font-size=\"14.00\">gini = 0.056</text>\n<text text-anchor=\"start\" x=\"4237\" y=\"-37.8\" font-family=\"Helvetica,sans-Serif\" font-size=\"14.00\">samples = 1670</text>\n<text text-anchor=\"start\" x=\"4231\" y=\"-22.8\" font-family=\"Helvetica,sans-Serif\" font-size=\"14.00\">value = [48, 1622]</text>\n<text text-anchor=\"start\" x=\"4237.5\" y=\"-7.8\" font-family=\"Helvetica,sans-Serif\" font-size=\"14.00\">class = Diabetic</text>\n</g>\n<!-- 58&#45;&gt;59 -->\n<g id=\"edge59\" class=\"edge\">\n<title>58&#45;&gt;59</title>\n<path fill=\"none\" stroke=\"black\" d=\"M4285.5,-103.73C4285.5,-95.52 4285.5,-86.86 4285.5,-78.56\"/>\n<polygon fill=\"black\" stroke=\"black\" points=\"4289,-78.3 4285.5,-68.3 4282,-78.3 4289,-78.3\"/>\n</g>\n<!-- 60 -->\n<g id=\"node61\" class=\"node\">\n<title>60</title>\n<path fill=\"#e58139\" stroke=\"black\" d=\"M4495,-68C4495,-68 4378,-68 4378,-68 4372,-68 4366,-62 4366,-56 4366,-56 4366,-12 4366,-12 4366,-6 4372,0 4378,0 4378,0 4495,0 4495,0 4501,0 4507,-6 4507,-12 4507,-12 4507,-56 4507,-56 4507,-62 4501,-68 4495,-68\"/>\n<text text-anchor=\"start\" x=\"4408.5\" y=\"-52.8\" font-family=\"Helvetica,sans-Serif\" font-size=\"14.00\">gini = 0.0</text>\n<text text-anchor=\"start\" x=\"4399\" y=\"-37.8\" font-family=\"Helvetica,sans-Serif\" font-size=\"14.00\">samples = 9</text>\n<text text-anchor=\"start\" x=\"4397\" y=\"-22.8\" font-family=\"Helvetica,sans-Serif\" font-size=\"14.00\">value = [9, 0]</text>\n<text text-anchor=\"start\" x=\"4374\" y=\"-7.8\" font-family=\"Helvetica,sans-Serif\" font-size=\"14.00\">class = Non&#45;Diabetic</text>\n</g>\n<!-- 58&#45;&gt;60 -->\n<g id=\"edge60\" class=\"edge\">\n<title>58&#45;&gt;60</title>\n<path fill=\"none\" stroke=\"black\" d=\"M4341.73,-103.73C4355.06,-94.06 4369.25,-83.77 4382.48,-74.17\"/>\n<polygon fill=\"black\" stroke=\"black\" points=\"4384.54,-77 4390.58,-68.3 4380.43,-71.34 4384.54,-77\"/>\n</g>\n</g>\n</svg>\n",
            "text/plain": [
              "<graphviz.sources.Source at 0x78d3ad77d7d0>"
            ]
          },
          "metadata": {},
          "execution_count": 18
        }
      ],
      "source": [
        "from sklearn.tree import export_graphviz\n",
        "import graphviz\n",
        "\n",
        "# Uncomment to visualize the decision tree (requires graphviz)\n",
        "dot_data = export_graphviz(dt_classifier,\n",
        "                            out_file=None,\n",
        "                            feature_names=feature_columns,\n",
        "                            class_names=['Non-Diabetic', 'Diabetic'],\n",
        "                            filled=True,\n",
        "                            rounded=True,\n",
        "                            special_characters=True)\n",
        "graph = graphviz.Source(dot_data)\n",
        "graph"
      ]
    },
    {
      "cell_type": "markdown",
      "metadata": {
        "id": "620jqQJ7T0wH"
      },
      "source": [
        "## 7. Hyperparameter Tuning"
      ]
    },
    {
      "cell_type": "code",
      "execution_count": 19,
      "metadata": {
        "colab": {
          "base_uri": "https://localhost:8080/"
        },
        "id": "uCd5omZXT0wH",
        "outputId": "f28a1a1e-336b-4fef-f988-052af1a57b99"
      },
      "outputs": [
        {
          "output_type": "stream",
          "name": "stdout",
          "text": [
            "Best Parameters: {'criterion': 'entropy', 'max_depth': 10, 'min_samples_leaf': 10}\n",
            "Best Cross-Validation Score: 0.9141666666666666\n"
          ]
        }
      ],
      "source": [
        "from sklearn.model_selection import GridSearchCV\n",
        "\n",
        "# Define parameter grid\n",
        "param_grid = {\n",
        "    'max_depth': [3, 5, 8, 10],\n",
        "    'min_samples_leaf': [1, 5, 10],\n",
        "    'criterion': ['gini', 'entropy']\n",
        "}\n",
        "\n",
        "# Setup grid search\n",
        "grid_search = GridSearchCV(DecisionTreeClassifier(random_state=42), param_grid, cv=5)\n",
        "grid_search.fit(X_train, y_train)\n",
        "\n",
        "# Show best parameters\n",
        "print(f\"Best Parameters: {grid_search.best_params_}\")\n",
        "print(f\"Best Cross-Validation Score: {grid_search.best_score_}\")"
      ]
    },
    {
      "cell_type": "markdown",
      "metadata": {
        "id": "Vov7Q5vdT0wH"
      },
      "source": [
        "## 8. Final Model and Evaluation"
      ]
    },
    {
      "cell_type": "code",
      "execution_count": 20,
      "metadata": {
        "colab": {
          "base_uri": "https://localhost:8080/"
        },
        "id": "kRdKWGvKT0wI",
        "outputId": "85ddff63-0b62-4cbf-a04a-fc1a146e32ae"
      },
      "outputs": [
        {
          "output_type": "stream",
          "name": "stdout",
          "text": [
            "Final Model Accuracy: 0.9053333333333333\n",
            "\n",
            "Final Classification Report:\n",
            "              precision    recall  f1-score   support\n",
            "\n",
            "           0       0.92      0.94      0.93      2014\n",
            "           1       0.88      0.83      0.85       986\n",
            "\n",
            "    accuracy                           0.91      3000\n",
            "   macro avg       0.90      0.89      0.89      3000\n",
            "weighted avg       0.90      0.91      0.90      3000\n",
            "\n"
          ]
        }
      ],
      "source": [
        "# Create final model with best parameters\n",
        "final_model = DecisionTreeClassifier(\n",
        "    criterion=grid_search.best_params_['criterion'],\n",
        "    max_depth=grid_search.best_params_['max_depth'],\n",
        "    min_samples_leaf=grid_search.best_params_['min_samples_leaf'],\n",
        "    random_state=42\n",
        ")\n",
        "\n",
        "# Train final model\n",
        "final_model.fit(X_train, y_train)\n",
        "\n",
        "# Evaluate on test set\n",
        "y_pred_final = final_model.predict(X_test)\n",
        "final_accuracy = (y_pred_final == y_test).sum() / len(y_test)\n",
        "final_report = classification_report(y_test, y_pred_final)\n",
        "\n",
        "print(f\"Final Model Accuracy: {final_accuracy}\")\n",
        "print(f\"\\nFinal Classification Report:\\n{final_report}\")"
      ]
    },
    {
      "cell_type": "code",
      "source": [
        "import pickle\n",
        "\n",
        "# Save the final model to a pickle file\n",
        "with open('diabetes_decision_tree_model.pkl', 'wb') as file:\n",
        "    pickle.dump(final_model, file)\n",
        "\n",
        "# To verify it saved correctly, you can load it back\n",
        "with open('diabetes_decision_tree_model.pkl', 'rb') as file:\n",
        "    loaded_model = pickle.load(file)\n",
        "\n",
        "# Verify the loaded model works the same\n",
        "test_predictions = loaded_model.predict(X_test)\n",
        "print(f\"Loaded model accuracy: {(test_predictions == y_test).mean()}\")"
      ],
      "metadata": {
        "colab": {
          "base_uri": "https://localhost:8080/"
        },
        "id": "XkApOiOtVaTL",
        "outputId": "95693e60-a23e-4399-f08b-96747a803b4e"
      },
      "execution_count": 21,
      "outputs": [
        {
          "output_type": "stream",
          "name": "stdout",
          "text": [
            "Loaded model accuracy: 0.9053333333333333\n"
          ]
        }
      ]
    },
    {
      "cell_type": "markdown",
      "metadata": {
        "id": "9DTxUtHAT0wI"
      },
      "source": [
        "## 9. Conclusion\n",
        "\n",
        "The decision tree model achieved an excellent accuracy of 90.5% on the test set after hyperparameter tuning, showing significant improvement over the initial model. The most important features for predicting diabetes were found to be PlasmaGlucose, BMI, and Age. The model performs well on both classes, with high precision and recall: 92% precision and 94% recall for non-diabetic patients (class 0), and 88% precision and 83% recall for diabetic patients (class 1). The high F1-scores (0.93 for class 0 and 0.85 for class 1) indicate a good balance between precision and recall. Overall, this model demonstrates strong predictive capability for diabetes classification and could be valuable in clinical screening applications."
      ]
    }
  ],
  "metadata": {
    "kernelspec": {
      "display_name": "Python 3 (ipykernel)",
      "language": "python",
      "name": "python3"
    },
    "language_info": {
      "codemirror_mode": {
        "name": "ipython",
        "version": 3
      },
      "file_extension": ".py",
      "mimetype": "text/x-python",
      "name": "python",
      "nbconvert_exporter": "python",
      "pygments_lexer": "ipython3",
      "version": "3.9.21"
    },
    "colab": {
      "provenance": []
    }
  },
  "nbformat": 4,
  "nbformat_minor": 0
}